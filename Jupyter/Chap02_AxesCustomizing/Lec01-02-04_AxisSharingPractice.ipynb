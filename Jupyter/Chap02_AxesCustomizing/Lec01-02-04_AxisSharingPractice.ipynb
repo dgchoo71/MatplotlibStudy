{
 "cells": [
  {
   "cell_type": "markdown",
   "metadata": {
    "collapsed": true,
    "pycharm": {
     "name": "#%% md\n"
    }
   },
   "source": [
    "# 축 공유하기 연습문제"
   ]
  },
  {
   "cell_type": "code",
   "execution_count": 1,
   "outputs": [],
   "source": [
    "%matplotlib qt"
   ],
   "metadata": {
    "collapsed": false,
    "pycharm": {
     "name": "#%%\n"
    }
   }
  },
  {
   "cell_type": "code",
   "execution_count": 2,
   "outputs": [],
   "source": [
    "import matplotlib.pyplot as plt\n",
    "from matplotlib.figure import Figure\n",
    "from matplotlib.axes import Axes\n",
    "import numpy as np"
   ],
   "metadata": {
    "collapsed": false,
    "pycharm": {
     "name": "#%%\n"
    }
   }
  },
  {
   "cell_type": "code",
   "execution_count": 3,
   "metadata": {
    "pycharm": {
     "name": "#%%\n"
    }
   },
   "outputs": [],
   "source": [
    "n_row, n_col = 3, 4\n",
    "\n",
    "xlabel_list = ['Iteration 01', 'Iteration 11', 'Iteration 21', 'Iteration 31']\n",
    "ylabel_list = ['Log-Likelihood', 'Negative Grad.', 'Probability']"
   ]
  },
  {
   "cell_type": "code",
   "execution_count": 4,
   "metadata": {
    "pycharm": {
     "name": "#%%\n"
    }
   },
   "outputs": [],
   "source": [
    "fig: Figure = plt.figure(figsize=(20, 10))\n",
    "\n",
    "axes: np.ndarray = np.empty(shape=(0, n_col))\n",
    "\n",
    "for r_idx in range(n_row):\n",
    "    # plot을 행에 저장\n",
    "    axes_row: np.ndarray = np.empty(shape=(0,))\n",
    "    \n",
    "    for c_idx in range(n_col):\n",
    "        ax: Axes = fig.add_subplot(n_row, n_col, n_col * r_idx + c_idx + 1)\n",
    "        \n",
    "        # Legend 출력을 위한 설정\n",
    "        ax.plot([], marker='|', color='b', label='regression')\n",
    "        ax.plot([], marker='o', color='r', label='cross entropy')\n",
    "        ax.plot([], marker='v', color='g', label='target')\n",
    "        ax.legend()\n",
    "        \n",
    "        axes_row = np.append(axes_row, ax)\n",
    "        \n",
    "    axes = np.vstack((axes, axes_row))\n",
    "\n",
    "# y축의 레이블 설정\n",
    "for ax_idx, ax in enumerate(axes.flat):\n",
    "    if ax_idx % n_col == 0:   # 행이 바뀔 경우\n",
    "        ax.set_ylabel(ylabel_list[ax_idx // n_col], fontsize=20)   # 몫을 얻는 연산\n",
    "\n",
    "    # 마지막 행에 X 축의 레이블 설정\n",
    "    if ax_idx >= 2 * n_col:\n",
    "        ax.set_xlabel(xlabel_list[ax_idx - 2 * n_col], fontsize=20)\n",
    "\n",
    "fig.tight_layout()"
   ]
  },
  {
   "cell_type": "code",
   "execution_count": 5,
   "metadata": {
    "pycharm": {
     "name": "#%%\n"
    }
   },
   "outputs": [],
   "source": [
    "# y 축에 대한 공유 설정\n",
    "\n",
    "fig: Figure = plt.figure(figsize=(20, 10))\n",
    "\n",
    "axes: np.ndarray = np.empty(shape=(0, n_col))\n",
    "\n",
    "for r_idx in range(n_row):\n",
    "    # plot을 행에 저장\n",
    "    axes_row: np.ndarray = np.empty(shape=(0,))\n",
    "\n",
    "    for c_idx in range(n_col):\n",
    "        ax: Axes = fig.add_subplot(n_row, n_col, n_col * r_idx + c_idx + 1)\n",
    "\n",
    "        # 축 공유 설정\n",
    "        if c_idx > 0:\n",
    "            ax.sharey(axes_row[0])\n",
    "\n",
    "        # Legend 출력을 위한 설정\n",
    "        ax.plot([], marker='|', color='b', label='regression')\n",
    "        ax.plot([], marker='o', color='r', label='cross entropy')\n",
    "        ax.plot([], marker='v', color='g', label='target')\n",
    "        ax.legend()\n",
    "\n",
    "        axes_row = np.append(axes_row, ax)\n",
    "\n",
    "    axes = np.vstack((axes, axes_row))\n",
    "\n",
    "# y축의 범위 설정\n",
    "axes[0, 0].set_ylim([1.5, 2.0])\n",
    "axes[1, 0].set_ylim([-0.7, 0.7])\n",
    "axes[2, 0].set_ylim([0, 0.14])\n",
    "\n",
    "# y축의 레이블 설정\n",
    "for ax_idx, ax in enumerate(axes.flat):\n",
    "    if ax_idx % n_col == 0:   # 행이 바뀔 경우\n",
    "        ax.set_ylabel(ylabel_list[ax_idx // n_col], fontsize=20)   # 몫을 얻는 연산\n",
    "\n",
    "    # 마지막 행에 X 축의 레이블 설정\n",
    "    if ax_idx >= 2 * n_col:\n",
    "        ax.set_xlabel(xlabel_list[ax_idx - 2 * n_col], fontsize=20)\n",
    "\n",
    "fig.tight_layout()"
   ]
  },
  {
   "cell_type": "code",
   "execution_count": 6,
   "metadata": {
    "pycharm": {
     "name": "#%%\n"
    }
   },
   "outputs": [],
   "source": [
    "# x 축에 대한 공유 설정\n",
    "\n",
    "fig: Figure = plt.figure(figsize=(20, 10))\n",
    "\n",
    "axes: np.ndarray = np.empty(shape=(0, n_col))\n",
    "\n",
    "for r_idx in range(n_row):\n",
    "    # plot을 행에 저장\n",
    "    axes_row: np.ndarray = np.empty(shape=(0,))\n",
    "\n",
    "    for c_idx in range(n_col):\n",
    "        ax: Axes = fig.add_subplot(n_row, n_col, n_col * r_idx + c_idx + 1)\n",
    "\n",
    "        # y 축 공유 설정\n",
    "        if c_idx > 0:\n",
    "            ax.sharey(axes_row[0])\n",
    "\n",
    "        # x 축 공유 설정\n",
    "        if r_idx > 0:\n",
    "            ax.sharex(axes[0, c_idx])\n",
    "\n",
    "        axes_row = np.append(axes_row, ax)\n",
    "\n",
    "    axes = np.vstack((axes, axes_row))\n",
    "\n",
    "# y축의 범위 설정\n",
    "axes[0, 0].set_ylim([1.5, 2.0])\n",
    "axes[1, 0].set_ylim([-0.7, 0.7])\n",
    "axes[2, 0].set_ylim([0, 0.14])\n",
    "\n",
    "# x 축의 범위 설정\n",
    "axes[0, 0].set_xlim([0, 100])\n",
    "axes[0, 1].set_xlim([0, 200])\n",
    "axes[0, 2].set_xlim([0, 300])\n",
    "axes[0, 3].set_xlim([0, 400])\n",
    "\n",
    "# y축의 레이블 설정\n",
    "for ax_idx, ax in enumerate(axes.flat):\n",
    "    if ax_idx % n_col == 0:   # 행이 바뀔 경우\n",
    "        ax.set_ylabel(ylabel_list[ax_idx // n_col], fontsize=20)   # 몫을 얻는 연산\n",
    "\n",
    "    # 마지막 행에 X 축의 레이블 설정\n",
    "    if ax_idx >= 2 * n_col:\n",
    "        ax.set_xlabel(xlabel_list[ax_idx - 2 * n_col], fontsize=20)\n",
    "\n",
    "fig.tight_layout()"
   ]
  },
  {
   "cell_type": "code",
   "execution_count": 7,
   "metadata": {
    "pycharm": {
     "name": "#%%\n"
    }
   },
   "outputs": [],
   "source": [
    "# 안쪽 axes 들에 대하여 축 삭제\n",
    "\n",
    "fig: Figure = plt.figure(figsize=(20, 10))\n",
    "\n",
    "axes: np.ndarray = np.empty(shape=(0, n_col))\n",
    "\n",
    "for r_idx in range(n_row):\n",
    "    # plot을 행에 저장\n",
    "    axes_row: np.ndarray = np.empty(shape=(0,))\n",
    "\n",
    "    for c_idx in range(n_col):\n",
    "        ax: Axes = fig.add_subplot(n_row, n_col, n_col * r_idx + c_idx + 1)\n",
    "\n",
    "        # y 축 공유 설정\n",
    "        if c_idx > 0:\n",
    "            ax.sharey(axes_row[0])\n",
    "\n",
    "        # x 축 공유 설정\n",
    "        if r_idx > 0:\n",
    "            ax.sharex(axes[0, c_idx])\n",
    "\n",
    "        axes_row = np.append(axes_row, ax)\n",
    "\n",
    "    axes = np.vstack((axes, axes_row))\n",
    "\n",
    "# y축의 범위 설정\n",
    "axes[0, 0].set_ylim([1.5, 2.0])\n",
    "axes[1, 0].set_ylim([-0.7, 0.7])\n",
    "axes[2, 0].set_ylim([0, 0.14])\n",
    "\n",
    "# x 축의 범위 설정\n",
    "axes[0, 0].set_xlim([0, 100])\n",
    "axes[0, 1].set_xlim([0, 200])\n",
    "axes[0, 2].set_xlim([0, 300])\n",
    "axes[0, 3].set_xlim([0, 400])\n",
    "\n",
    "# y축의 레이블 설정\n",
    "for ax_idx, ax in enumerate(axes.flat):\n",
    "    if ax_idx % n_col == 0:   # 행이 바뀔 경우\n",
    "        ax.set_ylabel(ylabel_list[ax_idx // n_col], fontsize=20)   # 몫을 얻는 연산\n",
    "\n",
    "    # 마지막 행에 X 축의 레이블 설정\n",
    "    if ax_idx >= 2 * n_col:\n",
    "        ax.set_xlabel(xlabel_list[ax_idx - 2 * n_col], fontsize=20)\n",
    "\n",
    "    # 안쪽 axes 들의 축 삭제\n",
    "    if ax_idx % n_col != 0:   # 새로운 행이 아니면\n",
    "        ax.get_yaxis().set_visible(False)   # y 축을 숨긴다.\n",
    "\n",
    "    if ax_idx <= 2 * n_col - 1:     # 마지막 행이 아니면\n",
    "        ax.get_xaxis().set_visible(False)   # x 축을 숨긴다.\n",
    "\n",
    "# 범례 상자를 아래에 표시\n",
    "axes[2, 1].plot([], color='b', marker='|', label='regression')\n",
    "axes[2, 1].plot([], color='r', marker='o', label='cross entropy')\n",
    "axes[2, 1].plot([], color='g', marker='v', label='target')\n",
    "\n",
    "axes[2, 1].legend(loc='upper center', bbox_to_anchor=(1, -0.25),\n",
    "                  fontsize=20, ncol=3)\n",
    "\n",
    "fig.tight_layout()\n",
    "\n",
    "# axes 들의 간격 조정\n",
    "fig.subplots_adjust(hspace=0.2, wspace=0.01)"
   ]
  },
  {
   "cell_type": "code",
   "execution_count": null,
   "metadata": {
    "pycharm": {
     "name": "#%%\n"
    }
   },
   "outputs": [],
   "source": []
  }
 ],
 "metadata": {
  "kernelspec": {
   "display_name": "Python 3 (ipykernel)",
   "language": "python",
   "name": "python3"
  },
  "language_info": {
   "codemirror_mode": {
    "name": "ipython",
    "version": 3
   },
   "file_extension": ".py",
   "mimetype": "text/x-python",
   "name": "python",
   "nbconvert_exporter": "python",
   "pygments_lexer": "ipython3",
   "version": "3.8.10"
  }
 },
 "nbformat": 4,
 "nbformat_minor": 1
}