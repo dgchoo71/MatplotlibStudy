{
 "cells": [
  {
   "cell_type": "markdown",
   "metadata": {
    "collapsed": true,
    "pycharm": {
     "name": "#%% md\n"
    }
   },
   "source": [
    "# 사용자 정의 축정렬 연습문제"
   ]
  },
  {
   "cell_type": "code",
   "execution_count": 1,
   "outputs": [],
   "source": [
    "%matplotlib qt"
   ],
   "metadata": {
    "collapsed": false,
    "pycharm": {
     "name": "#%%\n"
    }
   }
  },
  {
   "cell_type": "code",
   "execution_count": 2,
   "outputs": [],
   "source": [
    "import matplotlib.pyplot as plt\n",
    "from matplotlib.figure import Figure\n",
    "from matplotlib.axes import Axes\n",
    "import numpy as np"
   ],
   "metadata": {
    "collapsed": false,
    "pycharm": {
     "name": "#%%\n"
    }
   }
  },
  {
   "cell_type": "code",
   "execution_count": 4,
   "metadata": {
    "pycharm": {
     "name": "#%%\n"
    }
   },
   "outputs": [],
   "source": [
    "fig: Figure = plt.figure(figsize=(8, 8))\n",
    "axes: Axes = np.empty(shape=(0,7))\n",
    "\n",
    "for g_idx in range(2):\n",
    "    axes_g = np.empty(shape=(0,))\n",
    "    main_ax = plt.subplot2grid((5, 4), (0, 2 * g_idx), rowspan=2, colspan=2, fig=fig)\n",
    "    axes_g = np.append(axes_g, main_ax)\n",
    "\n",
    "    ax: Axes\n",
    "    for r_idx in range(2, 2 + 3):\n",
    "        for c_idx in range(2):\n",
    "            ax = plt.subplot2grid((5, 4), (r_idx, c_idx + 2 * g_idx), fig=fig)\n",
    "            axes_g = np.append(axes_g, ax)\n",
    "\n",
    "    axes_g = axes_g.reshape(1, -1)\n",
    "\n",
    "    # 배열을 위에서 아래로 쌓기\n",
    "    axes = np.vstack((axes, axes_g))\n",
    "\n",
    "# 축 서식 설정\n",
    "for ax_idx, ax in enumerate(axes.flat):\n",
    "    ax.get_xaxis().set_visible(False)\n",
    "    ax.get_yaxis().set_visible(False)\n",
    "\n",
    "# 전체 축들의 위치 조정\n",
    "fig.subplots_adjust(bottom=0.03, top=0.97,\n",
    "                    left=0.03, right=0.97,\n",
    "                    hspace=0, wspace=0)"
   ]
  },
  {
   "cell_type": "code",
   "execution_count": null,
   "outputs": [],
   "source": [],
   "metadata": {
    "collapsed": false,
    "pycharm": {
     "name": "#%%\n"
    }
   }
  }
 ],
 "metadata": {
  "kernelspec": {
   "display_name": "Python 3 (ipykernel)",
   "language": "python",
   "name": "python3"
  },
  "language_info": {
   "codemirror_mode": {
    "name": "ipython",
    "version": 3
   },
   "file_extension": ".py",
   "mimetype": "text/x-python",
   "name": "python",
   "nbconvert_exporter": "python",
   "pygments_lexer": "ipython3",
   "version": "3.8.10"
  }
 },
 "nbformat": 4,
 "nbformat_minor": 1
}