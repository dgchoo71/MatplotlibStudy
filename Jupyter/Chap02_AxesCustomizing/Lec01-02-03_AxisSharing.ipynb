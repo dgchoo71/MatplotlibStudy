{
 "cells": [
  {
   "cell_type": "markdown",
   "metadata": {
    "collapsed": true,
    "pycharm": {
     "name": "#%% md\n"
    }
   },
   "source": [
    "# 축 공유 설정"
   ]
  },
  {
   "cell_type": "markdown",
   "metadata": {
    "pycharm": {
     "name": "#%% md\n"
    }
   },
   "source": [
    "## 4가지 방법으로 동일한 플롯 생성하기"
   ]
  },
  {
   "cell_type": "code",
   "execution_count": 1,
   "outputs": [],
   "source": [
    "%matplotlib qt"
   ],
   "metadata": {
    "collapsed": false,
    "pycharm": {
     "name": "#%%\n"
    }
   }
  },
  {
   "cell_type": "code",
   "execution_count": 2,
   "outputs": [],
   "source": [
    "import matplotlib.pyplot as plt\n",
    "from matplotlib.figure import Figure\n",
    "from matplotlib.axes import Axes\n",
    "import numpy as np"
   ],
   "metadata": {
    "collapsed": false,
    "pycharm": {
     "name": "#%%\n"
    }
   }
  },
  {
   "cell_type": "code",
   "execution_count": 3,
   "metadata": {
    "pycharm": {
     "name": "#%%\n"
    }
   },
   "outputs": [],
   "source": [
    "# Method 1: subplots 메소드 이용\n",
    "fig, axes = plt.subplots(nrows=2, ncols=2, figsize=(7, 7))"
   ]
  },
  {
   "cell_type": "code",
   "execution_count": 4,
   "metadata": {
    "pycharm": {
     "name": "#%%\n"
    }
   },
   "outputs": [],
   "source": [
    "# Method 2: add_subplot 메소드 이용\n",
    "fig = plt.figure(figsize=(7, 7))\n",
    "ax1_1 = fig.add_subplot(221)\n",
    "ax1_2 = fig.add_subplot(222)\n",
    "ax2_1 = fig.add_subplot(223)\n",
    "ax2_2 = fig.add_subplot(224)"
   ]
  },
  {
   "cell_type": "code",
   "execution_count": 5,
   "metadata": {
    "pycharm": {
     "name": "#%%\n"
    }
   },
   "outputs": [],
   "source": [
    "# Method 3: subplot2grid 메소드 이용\n",
    "fig = plt.figure(figsize=(7, 7))\n",
    "ax1_1 = plt.subplot2grid((2, 2), (0, 0), fig=fig)\n",
    "ax1_2 = plt.subplot2grid((2, 2), (0, 1), fig=fig)\n",
    "ax2_1 = plt.subplot2grid((2, 2), (1, 0), fig=fig)\n",
    "ax2_2 = plt.subplot2grid((2, 2), (1, 1), fig=fig)"
   ]
  },
  {
   "cell_type": "code",
   "execution_count": 6,
   "metadata": {
    "pycharm": {
     "name": "#%%\n"
    }
   },
   "outputs": [],
   "source": [
    "# Method 4: add_axes 메소드 이용\n",
    "left, bottom = 0.1, 0.1\n",
    "spacing = 0.1\n",
    "height, width = 0.35, 0.35\n",
    "\n",
    "rect1 = [left, bottom, width, height]\n",
    "rect2 = [left + width + spacing, bottom, width, height]\n",
    "rect3 = [left, bottom + height + spacing, width, height]\n",
    "rect4 = [rect2[0], rect3[1], width, height]\n",
    "\n",
    "fig = plt.figure(figsize=(7, 7))\n",
    "ax1_1 = fig.add_axes(rect3)\n",
    "ax1_2 = fig.add_axes(rect4)\n",
    "ax2_1 = fig.add_axes(rect1)\n",
    "ax2_2 = fig.add_axes(rect2)"
   ]
  },
  {
   "cell_type": "code",
   "execution_count": 7,
   "metadata": {
    "pycharm": {
     "name": "#%%\n"
    }
   },
   "outputs": [
    {
     "data": {
      "text/plain": "(-10.0, 10.0)"
     },
     "execution_count": 7,
     "metadata": {},
     "output_type": "execute_result"
    }
   ],
   "source": [
    "# 축의 범위 설정하기\n",
    "ax: Axes\n",
    "fig, ax = plt.subplots(figsize=(7, 7))\n",
    "ax.set_xlim([-10, 10])\n",
    "ax.set_ylim([-10, 10])"
   ]
  },
  {
   "cell_type": "code",
   "execution_count": 8,
   "metadata": {
    "pycharm": {
     "name": "#%%\n"
    }
   },
   "outputs": [],
   "source": [
    "fig, axes = plt.subplots(2, 2, figsize=(7, 7))"
   ]
  },
  {
   "cell_type": "code",
   "execution_count": 9,
   "metadata": {
    "pycharm": {
     "name": "#%%\n"
    }
   },
   "outputs": [],
   "source": [
    "fig, axes = plt.subplots(2, 2, figsize=(7, 7), sharex=True)"
   ]
  },
  {
   "cell_type": "code",
   "execution_count": 10,
   "metadata": {
    "pycharm": {
     "name": "#%%\n"
    }
   },
   "outputs": [],
   "source": [
    "fig, axes = plt.subplots(2, 2, figsize=(7, 7), sharey=True)"
   ]
  },
  {
   "cell_type": "code",
   "execution_count": 11,
   "metadata": {
    "pycharm": {
     "name": "#%%\n"
    }
   },
   "outputs": [],
   "source": [
    "fig, axes = plt.subplots(2, 2, figsize=(7, 7), sharex=True, sharey=True)"
   ]
  },
  {
   "cell_type": "code",
   "execution_count": 15,
   "metadata": {
    "pycharm": {
     "name": "#%%\n"
    }
   },
   "outputs": [
    {
     "data": {
      "text/plain": "(10.0, 1000.0)"
     },
     "execution_count": 15,
     "metadata": {},
     "output_type": "execute_result"
    }
   ],
   "source": [
    "fig, axes = plt.subplots(3, 1, figsize=(8, 8), sharex=True)\n",
    "fig.subplots_adjust(bottom=0.05, top=0.95, left=0.05, right=0.95, hspace=0.05)\n",
    "axes[0].set_xlim([10, 1000])"
   ]
  },
  {
   "cell_type": "code",
   "execution_count": 16,
   "metadata": {
    "pycharm": {
     "name": "#%%\n"
    }
   },
   "outputs": [
    {
     "data": {
      "text/plain": "(0.0, 1.0)"
     },
     "execution_count": 16,
     "metadata": {},
     "output_type": "execute_result"
    }
   ],
   "source": [
    "fig, axes = plt.subplots(2, 2, figsize=(8, 8), sharex=True, sharey=True)\n",
    "fig.subplots_adjust(bottom=0.05, top=0.95, left=0.05, right=0.95, hspace=0.1, wspace=0.1)\n",
    "axes[0, 0].set_xlim([0, 120])\n",
    "axes[0, 0].set_ylim([0, 1])"
   ]
  },
  {
   "cell_type": "code",
   "execution_count": 18,
   "metadata": {
    "pycharm": {
     "name": "#%%\n"
    }
   },
   "outputs": [
    {
     "data": {
      "text/plain": "(0.0, 100.0)"
     },
     "execution_count": 18,
     "metadata": {},
     "output_type": "execute_result"
    }
   ],
   "source": [
    "# plt.subplots 메소드를 사용한 경우\n",
    "fig, axes = plt.subplots(2, 1, figsize=(7, 7), sharex=True)\n",
    "axes[0].set_xlim([0, 100])"
   ]
  },
  {
   "cell_type": "code",
   "execution_count": 19,
   "metadata": {
    "pycharm": {
     "name": "#%%\n"
    }
   },
   "outputs": [
    {
     "data": {
      "text/plain": "(0.0, 100.0)"
     },
     "execution_count": 19,
     "metadata": {},
     "output_type": "execute_result"
    }
   ],
   "source": [
    "# add_subplots 메소드를 사용한 경우\n",
    "fig: Figure = plt.figure(figsize=(7, 7))\n",
    "ax1: Axes = fig.add_subplot(211)\n",
    "\n",
    "# 축을 공유할 axes를 지정한다.\n",
    "ax2: Axes = fig.add_subplot(212, sharex=ax1)\n",
    "\n",
    "ax2.set_xlim([0, 100])"
   ]
  },
  {
   "cell_type": "code",
   "execution_count": 21,
   "metadata": {
    "pycharm": {
     "name": "#%%\n"
    }
   },
   "outputs": [],
   "source": [
    "# 2차원 배열의 axes에 대한 축 공유 문제\n",
    "fig: Figure = plt.figure(figsize=(8, 8))\n",
    "\n",
    "ax1_1: Axes = fig.add_subplot(221)\n",
    "ax1_2: Axes = fig.add_subplot(222, sharey=ax1_1)\n",
    "ax2_1: Axes = fig.add_subplot(223, sharex=ax1_1)\n",
    "ax2_2: Axes = fig.add_subplot(224, sharex=ax1_2, sharey=ax2_1)\n",
    "\n",
    "ax1_1.set_xlim([0, 20])\n",
    "ax1_1.set_ylim([-10, 10])\n",
    "ax1_2.set_xlim([20, 40])\n",
    "ax2_1.set_ylim([0, 100])\n",
    "\n",
    "fig.tight_layout()"
   ]
  },
  {
   "cell_type": "code",
   "execution_count": 23,
   "metadata": {
    "pycharm": {
     "name": "#%%\n"
    }
   },
   "outputs": [
    {
     "data": {
      "text/plain": "(10.0, 1000.0)"
     },
     "execution_count": 23,
     "metadata": {},
     "output_type": "execute_result"
    }
   ],
   "source": [
    "# axes를 직접 컨트롤\n",
    "fig: Figure = plt.figure(figsize=(7, 7))\n",
    "\n",
    "ax1: Axes = fig.add_subplot(311)\n",
    "ax2: Axes = fig.add_subplot(312, sharex=ax1)\n",
    "ax3: Axes = fig.add_subplot(313, sharex=ax1)\n",
    "\n",
    "ax3.set_xlim([10, 1000])"
   ]
  },
  {
   "cell_type": "code",
   "execution_count": 25,
   "metadata": {
    "pycharm": {
     "name": "#%%\n"
    }
   },
   "outputs": [
    {
     "data": {
      "text/plain": "(10.0, 1000.0)"
     },
     "execution_count": 25,
     "metadata": {},
     "output_type": "execute_result"
    }
   ],
   "source": [
    "# 제어 로직을 이용하는 방법\n",
    "fig: Figure = plt.figure(figsize=(7, 7))\n",
    "\n",
    "axes = np.empty(shape=(0,))\n",
    "\n",
    "ax: Axes\n",
    "for ax_idx in range(3):\n",
    "    ax = fig.add_subplot(3, 1, ax_idx + 1)\n",
    "    axes = np.append(axes, ax)\n",
    "    if ax_idx > 0:\n",
    "        ax.sharex(axes[0])\n",
    "\n",
    "axes[0].set_xlim([10, 1000])"
   ]
  },
  {
   "cell_type": "code",
   "execution_count": 27,
   "metadata": {
    "pycharm": {
     "name": "#%%\n"
    }
   },
   "outputs": [],
   "source": [
    "# 다차원 배열 형식의 axes에 대한 축공유\n",
    "fig: Figure = plt.figure(figsize=(8, 8))\n",
    "\n",
    "n_row, n_col = 3, 3\n",
    "axes: np.ndarray = np.empty(shape=(0, 3))  # 전체 축을 저장하기 위한 클립\n",
    "\n",
    "for r_idx in range(n_row):\n",
    "    axes_row = np.empty(shape=(0,))\n",
    "\n",
    "    for c_idx in range(n_col):\n",
    "        ax = fig.add_subplot(n_row, n_col, r_idx * n_row + c_idx + 1)\n",
    "        axes_row = np.append(axes_row, ax)\n",
    "\n",
    "        # 축공유 설정\n",
    "        if c_idx > 0:\n",
    "            ax.sharey(axes_row[0])\n",
    "\n",
    "        if r_idx > 0:\n",
    "            ax.sharex(axes[0, c_idx])\n",
    "\n",
    "    axes = np.vstack([axes, axes_row])\n",
    "\n",
    "# 축의 범위 설정\n",
    "axes[0, 0].set_xlim([0, 100])\n",
    "axes[0, 1].set_xlim([0, 200])\n",
    "axes[0, 2].set_xlim([0, 300])\n",
    "\n",
    "axes[0, 0].set_ylim([0, 100])\n",
    "axes[1, 0].set_ylim([0, 200])\n",
    "axes[2, 0].set_ylim([0, 300])\n",
    "\n",
    "fig.tight_layout()"
   ]
  },
  {
   "cell_type": "code",
   "execution_count": 28,
   "metadata": {
    "pycharm": {
     "name": "#%%\n"
    }
   },
   "outputs": [],
   "source": [
    "# plt.subplot2grid 메소드를 사용한 경우 축공유 방법\n",
    "fig: Figure = plt.figure(figsize=(7, 7))\n",
    "\n",
    "ax1_1: Axes = plt.subplot2grid((2, 3), (0, 0), colspan=3, fig=fig)\n",
    "ax2_1: Axes = plt.subplot2grid((2, 3), (1, 0), colspan=2, fig=fig, sharex=ax1_1)\n",
    "ax2_2: Axes = plt.subplot2grid((2, 3), (1, 2), fig=fig, sharex=ax1_1)\n",
    "\n",
    "ax1_1.set_xlim([0, 100])\n",
    "fig.tight_layout()"
   ]
  },
  {
   "cell_type": "code",
   "execution_count": 30,
   "metadata": {
    "pycharm": {
     "name": "#%%\n"
    }
   },
   "outputs": [
    {
     "data": {
      "text/plain": "(0.0, 200.0)"
     },
     "execution_count": 30,
     "metadata": {},
     "output_type": "execute_result"
    }
   ],
   "source": [
    "fig: Figure = plt.figure(figsize=(8, 8))\n",
    "\n",
    "left, bottom = 0.05, 0.05\n",
    "spacing = 0.05\n",
    "width1, height1 = 0.6, 0.6\n",
    "width2 = 1 - (2 * left + width1 + spacing)      # 좌,우 경계\n",
    "height2 = 1 - (2 * bottom + height1 + spacing)  # 위,아래 경계\n",
    "\n",
    "rect1 = [left, bottom, width1, height1]\n",
    "rect2 = [left, bottom + height1 + spacing, width1, height2]\n",
    "rect3 = [left + width1 + spacing, bottom, width2, height1]\n",
    "\n",
    "ax1: Axes = fig.add_axes(rect1)\n",
    "ax2: Axes = fig.add_axes(rect2, sharex=ax1)\n",
    "ax3: Axes = fig.add_axes(rect3, sharey=ax1)\n",
    "\n",
    "ax1.set_xlim([0, 100])\n",
    "ax1.set_ylim([0, 200])"
   ]
  },
  {
   "cell_type": "code",
   "execution_count": null,
   "metadata": {
    "pycharm": {
     "name": "#%%\n"
    }
   },
   "outputs": [],
   "source": []
  }
 ],
 "metadata": {
  "kernelspec": {
   "display_name": "Python 3 (ipykernel)",
   "language": "python",
   "name": "python3"
  },
  "language_info": {
   "codemirror_mode": {
    "name": "ipython",
    "version": 3
   },
   "file_extension": ".py",
   "mimetype": "text/x-python",
   "name": "python",
   "nbconvert_exporter": "python",
   "pygments_lexer": "ipython3",
   "version": "3.8.10"
  }
 },
 "nbformat": 4,
 "nbformat_minor": 1
}