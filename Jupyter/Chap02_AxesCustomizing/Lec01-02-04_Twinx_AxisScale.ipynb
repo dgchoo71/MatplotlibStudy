{
 "cells": [
  {
   "cell_type": "markdown",
   "metadata": {
    "pycharm": {
     "name": "#%% md\n"
    }
   },
   "source": [
    "# X 축을 공유하는 플롯 (양쪽의 Y 축이 서로 다르다)"
   ]
  },
  {
   "cell_type": "code",
   "execution_count": 1,
   "outputs": [],
   "source": [
    "%matplotlib qt"
   ],
   "metadata": {
    "collapsed": false,
    "pycharm": {
     "name": "#%%\n"
    }
   }
  },
  {
   "cell_type": "code",
   "execution_count": 2,
   "outputs": [],
   "source": [
    "import matplotlib.pyplot as plt\n",
    "from matplotlib.figure import Figure\n",
    "from matplotlib.axes import Axes\n",
    "import numpy as np"
   ],
   "metadata": {
    "collapsed": false,
    "pycharm": {
     "name": "#%%\n"
    }
   }
  },
  {
   "cell_type": "code",
   "execution_count": 3,
   "metadata": {
    "pycharm": {
     "name": "#%%\n"
    }
   },
   "outputs": [
    {
     "data": {
      "text/plain": "[<matplotlib.lines.Line2D at 0x1b7ddb80700>]"
     },
     "execution_count": 3,
     "metadata": {},
     "output_type": "execute_result"
    }
   ],
   "source": [
    "# 두 그래프의 Y 축이 같은 경우\n",
    "t = np.linspace(0.01, 5 * np.pi, 100)\n",
    "sin = np.sin(t)\n",
    "exp = np.exp(t)\n",
    "\n",
    "fig = plt.figure(figsize=(10, 7))\n",
    "ax1 = fig.add_subplot()\n",
    "\n",
    "ax1.plot(t, sin)\n",
    "ax1.plot(t, exp)"
   ]
  },
  {
   "cell_type": "code",
   "execution_count": 4,
   "metadata": {
    "pycharm": {
     "name": "#%%\n"
    }
   },
   "outputs": [
    {
     "data": {
      "text/plain": "[<matplotlib.lines.Line2D at 0x1b7de9bed30>]"
     },
     "execution_count": 4,
     "metadata": {},
     "output_type": "execute_result"
    }
   ],
   "source": [
    "# X 축은 공유하되 서로 다른 Y 축을 사용하는 경우\n",
    "# ax.twinx() 를 이용하여 axes를 복사한다.\n",
    "\n",
    "fig = plt.figure(figsize=(10, 7))\n",
    "ax1 = fig.add_subplot()\n",
    "ax1.plot(t, sin)\n",
    "\n",
    "ax2 = ax1.twinx()\n",
    "ax2.plot(t, exp)"
   ]
  },
  {
   "cell_type": "code",
   "execution_count": 6,
   "metadata": {
    "pycharm": {
     "name": "#%%\n"
    }
   },
   "outputs": [
    {
     "data": {
      "text/plain": "(0.0, 0.1)"
     },
     "execution_count": 6,
     "metadata": {},
     "output_type": "execute_result"
    }
   ],
   "source": [
    "fig: Figure = plt.figure(figsize=(7, 7))\n",
    "\n",
    "ax1: Axes = fig.add_subplot()\n",
    "ax2 = ax1.twinx()\n",
    "\n",
    "ax1.set_xlim([0, 100])\n",
    "\n",
    "# Y 축의 크기를 다르게 설정\n",
    "ax1.set_ylim([0, 100])\n",
    "ax2.set_ylim([0, 0.1])"
   ]
  },
  {
   "cell_type": "code",
   "execution_count": 7,
   "metadata": {
    "pycharm": {
     "name": "#%%\n"
    }
   },
   "outputs": [],
   "source": [
    "# Y 축의 레이블을 다르게 설정\n",
    "fig: Figure = plt.figure(figsize=(7, 7))\n",
    "\n",
    "ax1: Axes = fig.add_subplot()\n",
    "ax2: Axes = ax1.twinx()\n",
    "\n",
    "ax1.set_xlim([0, 100])\n",
    "ax1.set_ylim([0, 100])\n",
    "ax2.set_ylim([0, 0.1])\n",
    "\n",
    "# 축 타이틀 설정\n",
    "ax1.set_title(\"Twin Graph\", fontsize=30)\n",
    "ax1.set_ylabel(\"Data1\", fontsize=20)\n",
    "ax2.set_ylabel(\"Data2\", fontsize=20)\n",
    "\n",
    "fig.tight_layout()"
   ]
  },
  {
   "cell_type": "markdown",
   "metadata": {
    "pycharm": {
     "name": "#%% md\n"
    }
   },
   "source": [
    "# Y 축의 스케일 설정하기"
   ]
  },
  {
   "cell_type": "code",
   "execution_count": 8,
   "metadata": {
    "pycharm": {
     "name": "#%%\n"
    }
   },
   "outputs": [
    {
     "data": {
      "text/plain": "[<matplotlib.lines.Line2D at 0x1b7e32d5520>]"
     },
     "execution_count": 8,
     "metadata": {},
     "output_type": "execute_result"
    }
   ],
   "source": [
    "t = np.linspace(0, 3, 300)\n",
    "exp = np.exp(t)\n",
    "\n",
    "fig, ax = plt.subplots(figsize=(7, 7))\n",
    "ax.plot(t, exp)"
   ]
  },
  {
   "cell_type": "code",
   "execution_count": 9,
   "metadata": {
    "pycharm": {
     "name": "#%%\n"
    }
   },
   "outputs": [
    {
     "data": {
      "text/plain": "[<matplotlib.lines.Line2D at 0x1b7e3b1bc10>]"
     },
     "execution_count": 9,
     "metadata": {},
     "output_type": "execute_result"
    }
   ],
   "source": [
    "# Y 축에 log scale을 적용하여 exp 함수를 표시\n",
    "# log scale을 적용하면 log 함수의 역함수가 linear 하게 변환된다.\n",
    "\n",
    "fig: Figure\n",
    "ax: Axes\n",
    "fig, ax = plt.subplots(figsize=(7, 7))\n",
    "ax.set_yscale('log')\n",
    "ax.plot(t, exp)"
   ]
  },
  {
   "cell_type": "code",
   "execution_count": 10,
   "metadata": {
    "pycharm": {
     "name": "#%%\n"
    }
   },
   "outputs": [
    {
     "data": {
      "text/plain": "[<matplotlib.lines.Line2D at 0x1b7e3c93bb0>]"
     },
     "execution_count": 10,
     "metadata": {},
     "output_type": "execute_result"
    }
   ],
   "source": [
    "# 밑이 2인 log scale\n",
    "\n",
    "p = np.linspace(0.001, 0.999, 300)\n",
    "information = -np.log2(p)\n",
    "\n",
    "fig: Figure = plt.figure(figsize=(7, 7))\n",
    "ax: Axes = fig.add_subplot()\n",
    "\n",
    "ax.set_yscale('log', base=2)\n",
    "ax.plot(p, information)"
   ]
  },
  {
   "cell_type": "code",
   "execution_count": 11,
   "metadata": {
    "pycharm": {
     "name": "#%%\n"
    }
   },
   "outputs": [
    {
     "data": {
      "text/plain": "[<matplotlib.lines.Line2D at 0x1b7deb162b0>]"
     },
     "execution_count": 11,
     "metadata": {},
     "output_type": "execute_result"
    }
   ],
   "source": [
    "# Logit Scale\n",
    "\n",
    "logit = np.linspace(-10, 10, 300)\n",
    "sigmoid = 1 / (1 + np.exp(-logit))\n",
    "\n",
    "fig: Figure\n",
    "ax: Axes\n",
    "fig, ax = plt.subplots(figsize=(7, 7))\n",
    "ax.plot(logit, sigmoid)"
   ]
  },
  {
   "cell_type": "code",
   "execution_count": 12,
   "metadata": {
    "pycharm": {
     "name": "#%%\n"
    }
   },
   "outputs": [
    {
     "data": {
      "text/plain": "[<matplotlib.lines.Line2D at 0x1b7deaa4880>]"
     },
     "execution_count": 12,
     "metadata": {},
     "output_type": "execute_result"
    }
   ],
   "source": [
    "# y 축을 logit scale로 설정하면 logit의 역함수인 sigmoid 함수가 선형 함수로 표시된다.\n",
    "\n",
    "fig, ax = plt.subplots(figsize=(7, 7))\n",
    "ax.set_yscale('logit')\n",
    "ax.plot(logit, sigmoid)"
   ]
  },
  {
   "cell_type": "code",
   "execution_count": null,
   "metadata": {
    "pycharm": {
     "name": "#%%\n"
    }
   },
   "outputs": [],
   "source": []
  }
 ],
 "metadata": {
  "kernelspec": {
   "display_name": "Python 3 (ipykernel)",
   "language": "python",
   "name": "python3"
  },
  "language_info": {
   "codemirror_mode": {
    "name": "ipython",
    "version": 3
   },
   "file_extension": ".py",
   "mimetype": "text/x-python",
   "name": "python",
   "nbconvert_exporter": "python",
   "pygments_lexer": "ipython3",
   "version": "3.8.10"
  }
 },
 "nbformat": 4,
 "nbformat_minor": 1
}