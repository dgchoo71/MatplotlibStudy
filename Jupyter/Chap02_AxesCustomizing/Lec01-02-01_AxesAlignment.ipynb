{
 "cells": [
  {
   "cell_type": "markdown",
   "metadata": {
    "collapsed": true,
    "pycharm": {
     "name": "#%% md\n"
    }
   },
   "source": [
    "# 사용자 정의 축서식 설정"
   ]
  },
  {
   "cell_type": "code",
   "execution_count": 3,
   "outputs": [],
   "source": [
    "%matplotlib qt"
   ],
   "metadata": {
    "collapsed": false,
    "pycharm": {
     "name": "#%%\n"
    }
   }
  },
  {
   "cell_type": "code",
   "execution_count": 4,
   "outputs": [
    {
     "data": {
      "text/plain": "Text(0, 0.5, 'Y Label!')"
     },
     "execution_count": 4,
     "metadata": {},
     "output_type": "execute_result"
    }
   ],
   "source": [
    "import matplotlib.pyplot as plt\n",
    "from matplotlib.figure import Figure\n",
    "from matplotlib.axes import Axes\n",
    "import numpy as np\n",
    "\n",
    "fig: Figure\n",
    "ax: Axes\n",
    "\n",
    "# subplots 메소드에 행과 열을 지정하지 않으면 Axes 객체를 바로 사용할 수 있다.\n",
    "fig, ax = plt.subplots(figsize=(7, 7))\n",
    "ax.set_title('Title!', fontsize=20)\n",
    "ax.set_xlabel('X Label!', fontsize=15)\n",
    "ax.set_ylabel('Y Label!', fontsize=15)"
   ],
   "metadata": {
    "collapsed": false,
    "pycharm": {
     "name": "#%%\n"
    }
   }
  },
  {
   "cell_type": "markdown",
   "metadata": {
    "pycharm": {
     "name": "#%% md\n"
    }
   },
   "source": [
    "## fig.tight_layout()"
   ]
  },
  {
   "cell_type": "code",
   "execution_count": 6,
   "metadata": {
    "pycharm": {
     "name": "#%%\n"
    }
   },
   "outputs": [],
   "source": [
    "# 리스트를 이용하여 타이틀 설정하기\n",
    "\n",
    "title_list = [f'Ax {i}' for i in range(4)]\n",
    "xlabel_list = [f'X Label {i}' for i in range(4)]\n",
    "ylabel_list = [f'Y Label {i}' for i in range(4)]\n",
    "\n",
    "fig: Figure\n",
    "axes: np.ndarray\n",
    "ax: Axes\n",
    "\n",
    "fig, axes = plt.subplots(nrows=2, ncols=2, figsize=(10, 10))\n",
    "\n",
    "for ax_idx, ax in enumerate(axes.flat):\n",
    "    ax.set_title(title_list[ax_idx], fontsize=30)\n",
    "    ax.set_xlabel(xlabel_list[ax_idx], fontsize=20)\n",
    "    ax.set_ylabel(ylabel_list[ax_idx], fontsize=20)\n",
    "\n",
    "# figure에 포함된 axes들의 위치 재조정\n",
    "# pad 매개변수를 이용 (생략 가능)\n",
    "fig.tight_layout(pad=3)"
   ]
  },
  {
   "cell_type": "markdown",
   "metadata": {
    "pycharm": {
     "name": "#%% md\n"
    }
   },
   "source": [
    "## axes.set_visible()"
   ]
  },
  {
   "cell_type": "code",
   "execution_count": 7,
   "metadata": {
    "pycharm": {
     "name": "#%%\n"
    }
   },
   "outputs": [],
   "source": [
    "# Axes의 tick과 tick label을 감추기\n",
    "# Axes에 이미지를 표시할 때 유용하다.\n",
    "from matplotlib.axis import XAxis, YAxis\n",
    "\n",
    "fig, ax = plt.subplots()\n",
    "\n",
    "xaxis: XAxis = ax.get_xaxis()\n",
    "yaxis: YAxis = ax.get_yaxis()\n",
    "\n",
    "xaxis.set_visible(False)\n",
    "yaxis.set_visible(False)"
   ]
  },
  {
   "cell_type": "markdown",
   "metadata": {},
   "source": [
    "## fig.subplots_adjust()"
   ]
  },
  {
   "cell_type": "code",
   "execution_count": 10,
   "metadata": {
    "pycharm": {
     "name": "#%%\n"
    }
   },
   "outputs": [],
   "source": [
    "fig, axes = plt.subplots(2, 2, figsize=(7, 7))\n",
    "\n",
    "for ax_idx, ax in enumerate(axes.flat):\n",
    "    ax.get_xaxis().set_visible(False)\n",
    "    ax.get_yaxis().set_visible(False)\n",
    "\n",
    "fig.subplots_adjust(bottom=0.01, top=0.99)"
   ]
  },
  {
   "cell_type": "code",
   "execution_count": 11,
   "metadata": {
    "pycharm": {
     "name": "#%%\n"
    }
   },
   "outputs": [],
   "source": [
    "fig, axes = plt.subplots(2, 2, figsize=(7, 7))\n",
    "\n",
    "for ax_idx, ax in enumerate(axes.flat):\n",
    "    ax.get_xaxis().set_visible(False)\n",
    "    ax.get_yaxis().set_visible(False)\n",
    "\n",
    "fig.subplots_adjust(left=0.01, right=0.99)"
   ]
  },
  {
   "cell_type": "code",
   "execution_count": 14,
   "metadata": {
    "pycharm": {
     "name": "#%%\n"
    }
   },
   "outputs": [],
   "source": [
    "fig, axes = plt.subplots(2, 2, figsize=(7, 7))\n",
    "\n",
    "for ax_idx, ax in enumerate(axes.flat):\n",
    "    ax.get_xaxis().set_visible(False)\n",
    "    ax.get_yaxis().set_visible(False)\n",
    "\n",
    "fig.subplots_adjust(bottom=0.01, top=0.99,\n",
    "                    left=0.01, right=0.99)"
   ]
  },
  {
   "cell_type": "code",
   "execution_count": 15,
   "metadata": {
    "pycharm": {
     "name": "#%%\n"
    }
   },
   "outputs": [],
   "source": [
    "# 전체 subplots의 여백 조정\n",
    "fig, axes = plt.subplots(2, 2, figsize=(7, 7))\n",
    "fig.set_facecolor('linen')\n",
    "\n",
    "for ax_idx, ax in enumerate(axes.flat):\n",
    "    ax.get_xaxis().set_visible(False)\n",
    "    ax.get_yaxis().set_visible(False)\n",
    "\n",
    "fig.subplots_adjust(bottom=0.05, top=0.9,\n",
    "                    left=0.05, right=0.8)"
   ]
  },
  {
   "cell_type": "code",
   "execution_count": 9,
   "metadata": {
    "pycharm": {
     "name": "#%%\n"
    }
   },
   "outputs": [],
   "source": [
    "# 세로 사이 폭 설정(hspace)\n",
    "fig, axes = plt.subplots(2, 2, figsize=(7, 7))\n",
    "\n",
    "for ax_idx, ax in enumerate(axes.flat):\n",
    "    ax.get_xaxis().set_visible(False)\n",
    "    ax.get_yaxis().set_visible(False)\n",
    "\n",
    "fig.subplots_adjust(hspace=0.05)"
   ]
  },
  {
   "cell_type": "code",
   "execution_count": 16,
   "metadata": {
    "pycharm": {
     "name": "#%%\n"
    }
   },
   "outputs": [],
   "source": [
    "fig, axes = plt.subplots(2, 2, figsize=(7, 7))\n",
    "\n",
    "for ax_idx, ax in enumerate(axes.flat):\n",
    "    ax.get_xaxis().set_visible(False)\n",
    "    ax.get_yaxis().set_visible(False)\n",
    "\n",
    "fig.subplots_adjust(wspace=0.05)"
   ]
  },
  {
   "cell_type": "code",
   "execution_count": 5,
   "metadata": {
    "pycharm": {
     "name": "#%%\n"
    }
   },
   "outputs": [],
   "source": [
    "# 가로 사이 폭(wspace)과 세로 사이 폭(hspace)를 동시에 조정하여 시인성을 개선\n",
    "fig, axes = plt.subplots(3, 3, figsize=(7, 7))\n",
    "\n",
    "for ax_idx, ax in enumerate(axes.flat):\n",
    "    ax.get_xaxis().set_visible(False)\n",
    "    ax.get_yaxis().set_visible(False)\n",
    "\n",
    "fig.subplots_adjust(hspace=0.2, wspace=0.05)"
   ]
  },
  {
   "cell_type": "code",
   "execution_count": null,
   "outputs": [],
   "source": [],
   "metadata": {
    "collapsed": false,
    "pycharm": {
     "name": "#%%\n"
    }
   }
  }
 ],
 "metadata": {
  "kernelspec": {
   "display_name": "Python 3 (ipykernel)",
   "language": "python",
   "name": "python3"
  },
  "language_info": {
   "codemirror_mode": {
    "name": "ipython",
    "version": 3
   },
   "file_extension": ".py",
   "mimetype": "text/x-python",
   "name": "python",
   "nbconvert_exporter": "python",
   "pygments_lexer": "ipython3",
   "version": "3.8.10"
  }
 },
 "nbformat": 4,
 "nbformat_minor": 1
}