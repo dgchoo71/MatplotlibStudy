{
 "cells": [
  {
   "cell_type": "markdown",
   "metadata": {
    "collapsed": true,
    "pycharm": {
     "name": "#%% md\n"
    }
   },
   "source": [
    "# Ticks\n",
    "[matplotlib.axes.Axes.tick_params](https://matplotlib.org/stable/api/_as_gen/matplotlib.axes.Axes.tick_params.html)"
   ]
  },
  {
   "cell_type": "markdown",
   "metadata": {
    "pycharm": {
     "name": "#%% md\n"
    }
   },
   "source": [
    "## ax.tick_params (labelsize argument)"
   ]
  },
  {
   "cell_type": "code",
   "execution_count": 1,
   "outputs": [],
   "source": [
    "%matplotlib qt"
   ],
   "metadata": {
    "collapsed": false,
    "pycharm": {
     "name": "#%%\n"
    }
   }
  },
  {
   "cell_type": "code",
   "execution_count": 3,
   "outputs": [],
   "source": [
    "import matplotlib.pyplot as plt\n",
    "from matplotlib.figure import Figure\n",
    "from matplotlib.axes import Axes\n",
    "import numpy as np\n",
    "import numpy.typing as npt"
   ],
   "metadata": {
    "collapsed": false,
    "pycharm": {
     "name": "#%%\n"
    }
   }
  },
  {
   "cell_type": "code",
   "execution_count": 4,
   "metadata": {
    "pycharm": {
     "name": "#%%\n"
    }
   },
   "outputs": [],
   "source": [
    "fig: Figure\n",
    "ax: Axes\n",
    "fig, ax = plt.subplots(figsize=(7, 7))"
   ]
  },
  {
   "cell_type": "code",
   "execution_count": 5,
   "metadata": {
    "pycharm": {
     "name": "#%%\n"
    }
   },
   "outputs": [],
   "source": [
    "# tick params 설정\n",
    "fig, ax = plt.subplots(figsize=(7, 7))\n",
    "ax.tick_params(labelsize=20)"
   ]
  },
  {
   "cell_type": "code",
   "execution_count": 6,
   "metadata": {
    "pycharm": {
     "name": "#%%\n"
    }
   },
   "outputs": [],
   "source": [
    "# tick의 길이 설정\n",
    "fig, ax = plt.subplots(figsize=(7, 7))\n",
    "ax.tick_params(labelsize=20, length=10)"
   ]
  },
  {
   "cell_type": "code",
   "execution_count": 7,
   "metadata": {
    "pycharm": {
     "name": "#%%\n"
    }
   },
   "outputs": [],
   "source": [
    "# tick의 길이와 두께 설정\n",
    "fig, ax = plt.subplots(figsize=(7, 7))\n",
    "ax.tick_params(labelsize=20, length=10, width=3)"
   ]
  },
  {
   "cell_type": "code",
   "execution_count": 8,
   "metadata": {
    "pycharm": {
     "name": "#%%\n"
    }
   },
   "outputs": [],
   "source": [
    "# 아래쪽 tick과 tick label 숨기기\n",
    "fig, ax = plt.subplots(figsize=(7, 7))\n",
    "ax.tick_params(labelsize=20, length=10, width=3,\n",
    "               bottom=False, labelbottom=False)"
   ]
  },
  {
   "cell_type": "code",
   "execution_count": 9,
   "metadata": {
    "pycharm": {
     "name": "#%%\n"
    }
   },
   "outputs": [],
   "source": [
    "# 왼쪽 tick과 tick label 숨기기\n",
    "fig, ax = plt.subplots(figsize=(7, 7))\n",
    "ax.tick_params(labelsize=20, length=10, width=3,\n",
    "               left=False, labelleft=False)"
   ]
  },
  {
   "cell_type": "code",
   "execution_count": 10,
   "metadata": {
    "pycharm": {
     "name": "#%%\n"
    }
   },
   "outputs": [],
   "source": [
    "# 아래쪽의 tick과 tick label을 숨기고 위쪽에 표시\n",
    "fig, ax = plt.subplots(figsize=(7, 7))\n",
    "ax.tick_params(labelsize=20, length=10, width=3,\n",
    "               bottom=False, labelbottom=False,\n",
    "               top=True, labeltop=True)"
   ]
  },
  {
   "cell_type": "code",
   "execution_count": 11,
   "metadata": {
    "pycharm": {
     "name": "#%%\n"
    }
   },
   "outputs": [],
   "source": [
    "# tick과 tick label의 위치를 기본값과 정반대로 설정\n",
    "fig, ax = plt.subplots(figsize=(7, 7))\n",
    "ax.tick_params(labelsize=20, length=10, width=3,\n",
    "               bottom=False, labelbottom=False,\n",
    "               left=False, labelleft=False,\n",
    "               top=True, labeltop=True,\n",
    "               right=True, labelright=True)"
   ]
  },
  {
   "cell_type": "code",
   "execution_count": 12,
   "metadata": {
    "pycharm": {
     "name": "#%%\n"
    }
   },
   "outputs": [],
   "source": [
    "# tick label rotation\n",
    "fig, ax = plt.subplots(figsize=(7, 7))\n",
    "ax.tick_params(labelsize=20, length=10, width=3, labelrotation=30)"
   ]
  },
  {
   "cell_type": "code",
   "execution_count": 13,
   "metadata": {
    "pycharm": {
     "name": "#%%\n"
    }
   },
   "outputs": [],
   "source": [
    "fig, ax = plt.subplots(figsize=(7, 7))\n",
    "ax.tick_params(labelsize=20, length=30, width=3, rotation=-30)"
   ]
  },
  {
   "cell_type": "markdown",
   "metadata": {
    "pycharm": {
     "name": "#%% md\n"
    }
   },
   "source": [
    "## ax.tick_params (axis and which arguments)"
   ]
  },
  {
   "cell_type": "code",
   "execution_count": 14,
   "metadata": {
    "pycharm": {
     "name": "#%%\n"
    }
   },
   "outputs": [],
   "source": [
    "# X축에만 tick_params 설정을 적용하기 위해 axis를 지정한다.\n",
    "fig, ax = plt.subplots(figsize=(7, 7))\n",
    "ax.tick_params(axis='x', labelsize=20, length=10, width=3, rotation=30)"
   ]
  },
  {
   "cell_type": "code",
   "execution_count": 15,
   "metadata": {
    "pycharm": {
     "name": "#%%\n"
    }
   },
   "outputs": [],
   "source": [
    "# Y축에만 tick_params 설정을 적용하기 위해 axis를 지정한다.\n",
    "fig, ax = plt.subplots(figsize=(7, 7))\n",
    "ax.tick_params(axis='y', labelsize=20, length=10, width=3, rotation=30)"
   ]
  },
  {
   "cell_type": "markdown",
   "metadata": {
    "pycharm": {
     "name": "#%% md\n"
    }
   },
   "source": [
    "## Exercise"
   ]
  },
  {
   "cell_type": "code",
   "execution_count": 16,
   "metadata": {
    "pycharm": {
     "name": "#%%\n"
    }
   },
   "outputs": [
    {
     "data": {
      "text/plain": "Text(0, 0.5, 'mAP: Unseen Scenes')"
     },
     "execution_count": 16,
     "metadata": {},
     "output_type": "execute_result"
    }
   ],
   "source": [
    "fig, ax = plt.subplots(figsize=(9, 9))\n",
    "\n",
    "ax.tick_params(axis='y', labelsize=20, colors='gray')\n",
    "ax.tick_params(axis='x', labelsize=20, rotation=40, colors='gray')\n",
    "\n",
    "ax.set_ylabel(\"mAP: Unseen Scenes\", fontsize=20, color='gray')"
   ]
  },
  {
   "cell_type": "markdown",
   "metadata": {
    "pycharm": {
     "name": "#%% md\n"
    }
   },
   "source": [
    "## ax.set_xticks"
   ]
  },
  {
   "cell_type": "code",
   "execution_count": 17,
   "metadata": {
    "pycharm": {
     "name": "#%%\n"
    }
   },
   "outputs": [],
   "source": [
    "# tick의 값을 사용자가 설정할 수 있다.\n",
    "xticks = [i for i in range(10)]\n",
    "\n",
    "fig, ax = plt.subplots(figsize=(7, 7))\n",
    "\n",
    "ax.set_xticks(xticks)\n",
    "ax.tick_params(labelsize=20)"
   ]
  },
  {
   "cell_type": "code",
   "execution_count": 18,
   "metadata": {
    "pycharm": {
     "name": "#%%\n"
    }
   },
   "outputs": [
    {
     "data": {
      "text/plain": "[<matplotlib.axis.XTick at 0x2cfbd328b80>,\n <matplotlib.axis.XTick at 0x2cfbd328c10>,\n <matplotlib.axis.XTick at 0x2cfbd751160>,\n <matplotlib.axis.XTick at 0x2cfbd3162b0>]"
     },
     "execution_count": 18,
     "metadata": {},
     "output_type": "execute_result"
    }
   ],
   "source": [
    "# 임의 위치에 tick 설정하기\n",
    "fig, ax = plt.subplots(figsize=(7, 7))\n",
    "ax.set_xticks([0, 1, 5, 10])"
   ]
  },
  {
   "cell_type": "code",
   "execution_count": 19,
   "metadata": {
    "pycharm": {
     "name": "#%%\n"
    }
   },
   "outputs": [],
   "source": [
    "# 규칙적인 간격으로 tick 설정하기\n",
    "fig, ax = plt.subplots(figsize=(14, 7))\n",
    "\n",
    "xticks  = [i for i in range(0, 101, 20)]\n",
    "ax.set_xticks(xticks)\n",
    "\n",
    "ax.tick_params(axis='x', labelsize=20, length=10, width=3, rotation=30)"
   ]
  },
  {
   "cell_type": "code",
   "execution_count": 20,
   "metadata": {
    "pycharm": {
     "name": "#%%\n"
    }
   },
   "outputs": [],
   "source": [
    "# Major tick과 minor tick 설정하기\n",
    "fig, ax = plt.subplots(figsize=(14, 7))\n",
    "\n",
    "major_xticks = [i for i in range(0, 101, 20)]\n",
    "minor_xticks = [i for i in range(0, 101, 5)]\n",
    "\n",
    "# Major tick 설정\n",
    "ax.set_xticks(major_xticks)\n",
    "ax.tick_params(axis='x', labelsize=20, length=10, width=3, rotation=30)\n",
    "\n",
    "# Minor tick 설정\n",
    "ax.set_xticks(minor_xticks, minor=True)\n",
    "ax.tick_params(axis='x', which='minor', length=5, width=2)"
   ]
  },
  {
   "cell_type": "code",
   "execution_count": 21,
   "metadata": {
    "pycharm": {
     "name": "#%%\n"
    }
   },
   "outputs": [],
   "source": [
    "# x tick, y ticks를 동시에 설정하기\n",
    "fig, ax = plt.subplots(figsize=(14, 7))\n",
    "\n",
    "major_xticks = [i for i in range(0, 101, 20)]\n",
    "minor_xticks = [i for i in range(0, 101, 5)]\n",
    "major_yticks = [i for i in range(0, 11, 2)]\n",
    "minor_yticks = [i for i in range(0, 11, 1)]\n",
    "\n",
    "# x tick 설정\n",
    "ax.set_xticks(major_xticks)\n",
    "ax.set_xticks(minor_xticks, minor=True)\n",
    "\n",
    "ax.tick_params(axis='x', labelsize=20, length=10, width=3, rotation=30)\n",
    "ax.tick_params(axis='x', which='minor', length=5, width=5)\n",
    "\n",
    "# y tick 설정\n",
    "ax.set_yticks(major_yticks)\n",
    "ax.set_yticks(minor_yticks, minor=True)\n",
    "\n",
    "ax.tick_params(axis='y', labelsize=20, length=10, width=3)\n",
    "ax.tick_params(axis='y', which='minor', length=5, width=2)"
   ]
  },
  {
   "cell_type": "code",
   "execution_count": null,
   "metadata": {
    "pycharm": {
     "name": "#%%\n"
    }
   },
   "outputs": [],
   "source": []
  }
 ],
 "metadata": {
  "kernelspec": {
   "display_name": "Python 3 (ipykernel)",
   "language": "python",
   "name": "python3"
  },
  "language_info": {
   "codemirror_mode": {
    "name": "ipython",
    "version": 3
   },
   "file_extension": ".py",
   "mimetype": "text/x-python",
   "name": "python",
   "nbconvert_exporter": "python",
   "pygments_lexer": "ipython3",
   "version": "3.8.10"
  }
 },
 "nbformat": 4,
 "nbformat_minor": 1
}