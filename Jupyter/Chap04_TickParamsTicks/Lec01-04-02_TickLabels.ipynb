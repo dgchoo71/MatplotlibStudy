{
 "cells": [
  {
   "cell_type": "markdown",
   "metadata": {
    "pycharm": {
     "name": "#%% md\n"
    }
   },
   "source": [
    "# ax.set_ticklabels"
   ]
  },
  {
   "cell_type": "code",
   "execution_count": 1,
   "outputs": [],
   "source": [
    "%matplotlib qt"
   ],
   "metadata": {
    "collapsed": false,
    "pycharm": {
     "name": "#%%\n"
    }
   }
  },
  {
   "cell_type": "code",
   "execution_count": 2,
   "outputs": [],
   "source": [
    "import matplotlib.pyplot as plt\n",
    "from matplotlib.figure import Figure\n",
    "from matplotlib.axes import Axes\n",
    "import numpy as np\n",
    "import numpy.typing as npt"
   ],
   "metadata": {
    "collapsed": false,
    "pycharm": {
     "name": "#%%\n"
    }
   }
  },
  {
   "cell_type": "code",
   "execution_count": 3,
   "metadata": {
    "pycharm": {
     "name": "#%%\n"
    }
   },
   "outputs": [],
   "source": [
    "# tick label의 기본적인 사용법\n",
    "xticks = [i for i in range(10)]\n",
    "xtick_labels = [f'Class {i}' for i in xticks]\n",
    "\n",
    "fig: Figure\n",
    "ax: Axes\n",
    "fig, ax = plt.subplots(figsize=(7, 7))\n",
    "ax.set_xticks(xticks)\n",
    "ax.set_xticklabels(xtick_labels)\n",
    "ax.tick_params(labelsize=20, rotation=60)\n",
    "fig.subplots_adjust(bottom=0.2)  # 약간 띄워야 레이블이 모두 표시된다."
   ]
  },
  {
   "cell_type": "code",
   "execution_count": 4,
   "metadata": {
    "pycharm": {
     "name": "#%%\n"
    }
   },
   "outputs": [],
   "source": [
    "# x축과 y축의 레이블 설정을 다르게 하기\n",
    "xticks = [i for i in range(10)]\n",
    "xtick_labels = [f'Class {i}' for i in xticks]\n",
    "\n",
    "yticks = [i for i in range(0, 101, 20)]\n",
    "ytick_labels = [f'{i} %' for i in yticks]\n",
    "\n",
    "fig, ax = plt.subplots(figsize=(7, 7))\n",
    "\n",
    "# x축에 대한 tick과 label 설정\n",
    "ax.set_xticks(xticks)\n",
    "ax.set_xticklabels(xtick_labels)\n",
    "ax.tick_params(axis='x', labelsize=20, rotation=60)\n",
    "\n",
    "# y축에 대한 tick과 label 설정\n",
    "ax.set_yticks(yticks)\n",
    "ax.set_yticklabels(ytick_labels)\n",
    "ax.tick_params(axis='y', labelsize=20)\n",
    "\n",
    "fig.subplots_adjust(bottom=0.2, left=0.15)"
   ]
  },
  {
   "cell_type": "markdown",
   "metadata": {
    "pycharm": {
     "name": "#%% md\n"
    }
   },
   "source": [
    "# Practice 1"
   ]
  },
  {
   "cell_type": "code",
   "execution_count": 6,
   "metadata": {
    "pycharm": {
     "name": "#%%\n"
    }
   },
   "outputs": [],
   "source": [
    "xticks = [i for i in range(7)]\n",
    "\n",
    "xtick_labels = [\n",
    "    \" \",\n",
    "    \"<vehicle, move along, street>\",\n",
    "    \"<person, move along, sidewalk>\",\n",
    "    \"<pet, move along, sidewalk>\",\n",
    "    \"<person, stay, lawn>\",\n",
    "    \"<person, move away (home), driveway>\",\n",
    "    \" \"]\n",
    "\n",
    "yticks = [i / 10 for i in range(11)]\n",
    "\n",
    "fig, ax = plt.subplots(figsize=(20, 10))\n",
    "\n",
    "ax.set_xticks(xticks)\n",
    "ax.set_xticklabels(xtick_labels, ha='right')  # lable 회전 시 tick과 ticklabel을 가깝게 붙인다.\n",
    "\n",
    "ax.set_yticks(yticks)\n",
    "\n",
    "ax.tick_params(axis='x', rotation=20, labelsize=15, colors='gray')\n",
    "ax.tick_params(axis='y', labelsize=15, colors='gray')\n",
    "\n",
    "fig.subplots_adjust(bottom=0.2, top=0.95, left=0.1, right=0.9)"
   ]
  },
  {
   "cell_type": "markdown",
   "metadata": {
    "pycharm": {
     "name": "#%% md\n"
    }
   },
   "source": [
    "# Practice 2"
   ]
  },
  {
   "cell_type": "code",
   "execution_count": 9,
   "metadata": {
    "pycharm": {
     "name": "#%%\n"
    }
   },
   "outputs": [],
   "source": [
    "yticks = np.arange(0.4, 0.54, 0.02)\n",
    "\n",
    "xticks = [i for i in range(8)]\n",
    "xtick_labels = [\n",
    "    \" \",\n",
    "    \"FC-Agg 1 layer\",\n",
    "    \"FC-Agg 2 layer\",\n",
    "    \"Topo-Agg 0-hop\",\n",
    "    \"Topo-Agg 0-hop test only\",\n",
    "    \"Topo-Agg 1-hop\",\n",
    "    \"Topo-Agg 2-hop\",\n",
    "    \" \"]\n",
    "\n",
    "fig, ax = plt.subplots(figsize=(20, 10))\n",
    "\n",
    "ax.set_yticks(yticks)\n",
    "ax.set_ylim([0.4, 0.52])\n",
    "\n",
    "ax.set_xticks(xticks)\n",
    "ax.set_xticklabels(xtick_labels, ha='right')\n",
    "\n",
    "ax.tick_params(axis='x', rotation=20, labelsize=15, colors='gray')\n",
    "ax.tick_params(axis='y', labelsize=15, colors='gray')\n",
    "\n",
    "ax.set_ylabel('mAP: Unseen Scenes', fontsize=20, color='gray')\n",
    "fig.tight_layout()"
   ]
  },
  {
   "cell_type": "markdown",
   "metadata": {
    "pycharm": {
     "name": "#%% md\n"
    }
   },
   "source": [
    "# Practice 3"
   ]
  },
  {
   "cell_type": "code",
   "execution_count": 12,
   "metadata": {
    "pycharm": {
     "name": "#%%\n"
    }
   },
   "outputs": [],
   "source": [
    "fig, ax = plt.subplots(figsize=(9, 9))\n",
    "ax.set_xscale('log')\n",
    "ax.set_yscale('log')\n",
    "\n",
    "major_xticks = [10 ** i for i in range(5)]\n",
    "major_yticks = [1E-10, 1E-5, 1E0]\n",
    "minor_yticks = [10 ** i for i in range(-10, 4)]\n",
    "\n",
    "ax.set_xticks(major_xticks)\n",
    "ax.set_yticks(major_yticks)\n",
    "ax.set_yticks(minor_yticks, minor=True)\n",
    "\n",
    "ax.tick_params(which='major', direction='in', length=8, labelsize=20)\n",
    "ax.tick_params(which='minor', direction='in', length=5, labelsize=0)\n",
    "\n",
    "# spine과 그리드 설정\n",
    "for spine_loc, spine in ax.spines.items():\n",
    "    if spine_loc in ['right', 'top']:\n",
    "        spine.set_visible(False)\n",
    "\n",
    "ax.grid(which='major', color='silver')\n",
    "ax.grid(which='minor', linestyle=':', color='silver')"
   ]
  },
  {
   "cell_type": "code",
   "execution_count": null,
   "metadata": {
    "pycharm": {
     "name": "#%%\n"
    }
   },
   "outputs": [],
   "source": []
  }
 ],
 "metadata": {
  "kernelspec": {
   "display_name": "Python 3 (ipykernel)",
   "language": "python",
   "name": "python3"
  },
  "language_info": {
   "codemirror_mode": {
    "name": "ipython",
    "version": 3
   },
   "file_extension": ".py",
   "mimetype": "text/x-python",
   "name": "python",
   "nbconvert_exporter": "python",
   "pygments_lexer": "ipython3",
   "version": "3.8.10"
  }
 },
 "nbformat": 4,
 "nbformat_minor": 1
}