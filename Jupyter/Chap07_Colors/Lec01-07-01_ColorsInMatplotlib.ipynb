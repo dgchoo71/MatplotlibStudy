{
 "cells": [
  {
   "cell_type": "code",
   "execution_count": 1,
   "metadata": {
    "collapsed": true
   },
   "outputs": [],
   "source": [
    "%matplotlib qt"
   ]
  },
  {
   "cell_type": "code",
   "execution_count": 47,
   "outputs": [],
   "source": [
    "import matplotlib.pyplot as plt\n",
    "from matplotlib.figure import Figure\n",
    "from matplotlib.axes import Axes\n",
    "from matplotlib.spines import Spine\n",
    "from matplotlib import cm\n",
    "\n",
    "import numpy as np\n",
    "import numpy.typing as npt"
   ],
   "metadata": {
    "collapsed": false,
    "pycharm": {
     "name": "#%%\n"
    }
   }
  },
  {
   "cell_type": "markdown",
   "source": [
    "## Named Colors"
   ],
   "metadata": {
    "collapsed": false,
    "pycharm": {
     "name": "#%% md\n"
    }
   }
  },
  {
   "cell_type": "markdown",
   "source": [
    "### Base Color"
   ],
   "metadata": {
    "collapsed": false,
    "pycharm": {
     "name": "#%% md\n"
    }
   }
  },
  {
   "cell_type": "code",
   "execution_count": 59,
   "outputs": [],
   "source": [
    "# Base Colors 사용하여 텍스트 표시\n",
    "color_list = list('bgrcmy')\n",
    "\n",
    "fig: Figure\n",
    "ax: Axes\n",
    "fig, ax = plt.subplots(figsize=(5, 5))\n",
    "ax.set_xlim([-1, 1])\n",
    "ax.set_ylim([-1, len(color_list)])\n",
    "\n",
    "for c_idx, c in enumerate(color_list):\n",
    "    ax.text(0, c_idx,\n",
    "            f'color = {c}', fontsize=20, ha='center', color=c)"
   ],
   "metadata": {
    "collapsed": false,
    "pycharm": {
     "name": "#%%\n"
    }
   }
  },
  {
   "cell_type": "markdown",
   "source": [
    "### Tableau Palette"
   ],
   "metadata": {
    "collapsed": false,
    "pycharm": {
     "name": "#%% md\n"
    }
   }
  },
  {
   "cell_type": "code",
   "execution_count": 60,
   "outputs": [],
   "source": [
    "color_list = ['tab:blue', 'tab:orange',\n",
    "              'tab:green', 'tab:red',\n",
    "              'tab:purple', 'tab:brown',\n",
    "              'tab:pink', 'tab:gray',\n",
    "              'tab:olive', 'tab:cyan']\n",
    "\n",
    "fig, ax = plt.subplots(figsize=(5, 5))\n",
    "ax.set_xlim([-1, 1])\n",
    "ax.set_ylim([-1, len(color_list)])\n",
    "\n",
    "for c_idx, c in enumerate(color_list):\n",
    "    ax.text(0, c_idx,\n",
    "            f'color = {c}', fontsize=20, ha='center', color=c)"
   ],
   "metadata": {
    "collapsed": false,
    "pycharm": {
     "name": "#%%\n"
    }
   }
  },
  {
   "cell_type": "markdown",
   "source": [
    "### Exercise"
   ],
   "metadata": {
    "collapsed": false,
    "pycharm": {
     "name": "#%% md\n"
    }
   }
  },
  {
   "cell_type": "code",
   "execution_count": 61,
   "outputs": [],
   "source": [
    "title_font_dict = {'fontsize': 30, 'color': 'darkblue'}\n",
    "label_font_dict = {'fontsize': 20, 'color': 'darkblue', 'alpha': 0.8}\n",
    "\n",
    "fig = plt.figure(figsize=(7, 7), facecolor='powderblue')\n",
    "ax = fig.add_subplot(facecolor='powderblue')\n",
    "\n",
    "ax.set_title('Fig Title', fontdict=title_font_dict)\n",
    "ax.set_xlabel('Data Index', fontdict=label_font_dict)\n",
    "ax.set_ylabel('Data Value', fontdict=label_font_dict)\n",
    "\n",
    "ax.tick_params(labelsize=15, colors='darkblue')\n",
    "\n",
    "spine: Spine\n",
    "for spine_loc, spine in ax.spines.items():\n",
    "    if spine_loc in ['left', 'bottom']:\n",
    "        spine.set_color('darkblue')\n",
    "\n",
    "    if spine_loc in ['right', 'top']:\n",
    "        spine.set_visible(False)\n",
    "\n",
    "    if spine_loc in ['bottom']:\n",
    "        spine.set_position(('data', 0))\n",
    "\n",
    "test_np = np.random.normal(0, 1, (10,))\n",
    "ax.plot(test_np)\n",
    "\n",
    "fig.tight_layout()"
   ],
   "metadata": {
    "collapsed": false,
    "pycharm": {
     "name": "#%%\n"
    }
   }
  },
  {
   "cell_type": "markdown",
   "source": [
    "## RGB Colors"
   ],
   "metadata": {
    "collapsed": false,
    "pycharm": {
     "name": "#%% md\n"
    }
   }
  },
  {
   "cell_type": "code",
   "execution_count": 63,
   "outputs": [],
   "source": [
    "color_list = [(1., 0., 0.),\n",
    "              (0., 1., 0.),\n",
    "              (0., 0., 1.)]\n",
    "\n",
    "fig, ax = plt.subplots(figsize=(5, 5))\n",
    "ax.set_xlim([-1, 1])\n",
    "ax.set_ylim([-1, len(color_list)])\n",
    "\n",
    "for c_idx, c in enumerate(color_list):\n",
    "    ax.text(0, c_idx,\n",
    "            f'color={c}', fontsize=20, ha='center', color=c)"
   ],
   "metadata": {
    "collapsed": false,
    "pycharm": {
     "name": "#%%\n"
    }
   }
  },
  {
   "cell_type": "markdown",
   "source": [
    "### Byte to Float"
   ],
   "metadata": {
    "collapsed": false,
    "pycharm": {
     "name": "#%% md\n"
    }
   }
  },
  {
   "cell_type": "code",
   "execution_count": 64,
   "outputs": [
    {
     "data": {
      "text/plain": "Text(0.5, 1.0, 'Fig Title')"
     },
     "execution_count": 64,
     "metadata": {},
     "output_type": "execute_result"
    }
   ],
   "source": [
    "# 0 ~ 255 사이의 값을 0 ~ 1 사이의 값으로 변환하여 색상값으로 사용한다.\n",
    "cnvt255to1 = lambda i: i / 255.0\n",
    "\n",
    "fig, ax = plt.subplots(figsize=(7,7))\n",
    "ax.set_title('Fig Title', fontsize=30,\n",
    "             color=list(map(cnvt255to1, (200, 100, 150))))"
   ],
   "metadata": {
    "collapsed": false,
    "pycharm": {
     "name": "#%%\n"
    }
   }
  },
  {
   "cell_type": "markdown",
   "source": [
    "### Practice 1"
   ],
   "metadata": {
    "collapsed": false,
    "pycharm": {
     "name": "#%% md\n"
    }
   }
  },
  {
   "cell_type": "code",
   "execution_count": 66,
   "outputs": [],
   "source": [
    "ppt_color = list(map(cnvt255to1, (128, 85, 128)))\n",
    "label_font_dict = {'color': 'w', 'fontsize': 15}\n",
    "\n",
    "fig = plt.figure(figsize=(12, 7), facecolor=ppt_color)\n",
    "ax = fig.add_subplot(facecolor=ppt_color)\n",
    "\n",
    "ax.plot(np.random.normal(0, 1, (100,)), color='w')\n",
    "ax.set_xlabel(\"Data Index\", fontdict=label_font_dict)\n",
    "ax.set_ylabel(\"Random Value\", fontdict=label_font_dict)\n",
    "ax.tick_params(colors='w', labelsize=10)\n",
    "\n",
    "for spine_loc, spine in ax.spines.items():\n",
    "    spine.set_color('w')\n",
    "\n",
    "fig.subplots_adjust(bottom=0.1, top=0.9, left=0.1, right=0.9)"
   ],
   "metadata": {
    "collapsed": false,
    "pycharm": {
     "name": "#%%\n"
    }
   }
  },
  {
   "cell_type": "markdown",
   "source": [
    "## Discrete Colormaps"
   ],
   "metadata": {
    "collapsed": false,
    "pycharm": {
     "name": "#%% md\n"
    }
   }
  },
  {
   "cell_type": "markdown",
   "source": [
    "### Getting Colormaps"
   ],
   "metadata": {
    "collapsed": false,
    "pycharm": {
     "name": "#%% md\n"
    }
   }
  },
  {
   "cell_type": "code",
   "execution_count": 16,
   "outputs": [
    {
     "name": "stdout",
     "output_type": "stream",
     "text": [
      "((0.12156862745098039, 0.4666666666666667, 0.7058823529411765), (1.0, 0.4980392156862745, 0.054901960784313725), (0.17254901960784313, 0.6274509803921569, 0.17254901960784313), (0.8392156862745098, 0.15294117647058825, 0.1568627450980392), (0.5803921568627451, 0.403921568627451, 0.7411764705882353), (0.5490196078431373, 0.33725490196078434, 0.29411764705882354), (0.8901960784313725, 0.4666666666666667, 0.7607843137254902), (0.4980392156862745, 0.4980392156862745, 0.4980392156862745), (0.7372549019607844, 0.7411764705882353, 0.13333333333333333), (0.09019607843137255, 0.7450980392156863, 0.8117647058823529))\n",
      "10\n"
     ]
    }
   ],
   "source": [
    "cmap = cm.get_cmap('tab10')\n",
    "print(cmap.colors)\n",
    "print(cmap.N)"
   ],
   "metadata": {
    "collapsed": false,
    "pycharm": {
     "name": "#%%\n"
    }
   }
  },
  {
   "cell_type": "code",
   "execution_count": 17,
   "outputs": [
    {
     "name": "stdout",
     "output_type": "stream",
     "text": [
      "(0.12156862745098039, 0.4666666666666667, 0.7058823529411765, 1.0)\n",
      "(1.0, 0.4980392156862745, 0.054901960784313725, 1.0)\n",
      "(0.17254901960784313, 0.6274509803921569, 0.17254901960784313, 1.0)\n",
      "(0.8392156862745098, 0.15294117647058825, 0.1568627450980392, 1.0)\n",
      "(0.5803921568627451, 0.403921568627451, 0.7411764705882353, 1.0)\n",
      "(0.5490196078431373, 0.33725490196078434, 0.29411764705882354, 1.0)\n",
      "(0.8901960784313725, 0.4666666666666667, 0.7607843137254902, 1.0)\n",
      "(0.4980392156862745, 0.4980392156862745, 0.4980392156862745, 1.0)\n",
      "(0.7372549019607844, 0.7411764705882353, 0.13333333333333333, 1.0)\n",
      "(0.09019607843137255, 0.7450980392156863, 0.8117647058823529, 1.0)\n"
     ]
    }
   ],
   "source": [
    "cmap = cm.get_cmap('tab10')\n",
    "\n",
    "# 각 색상의 4번째 값은 투명도를 의미하는 감마값이다.\n",
    "for c_idx in range(cmap.N):\n",
    "    print(cmap(c_idx))"
   ],
   "metadata": {
    "collapsed": false,
    "pycharm": {
     "name": "#%%\n"
    }
   }
  },
  {
   "cell_type": "code",
   "execution_count": 18,
   "outputs": [
    {
     "name": "stdout",
     "output_type": "stream",
     "text": [
      "(0.12156862745098039, 0.4666666666666667, 0.7058823529411765, 1.0)\n",
      "(1.0, 0.4980392156862745, 0.054901960784313725, 1.0)\n",
      "(0.17254901960784313, 0.6274509803921569, 0.17254901960784313, 1.0)\n",
      "(0.8392156862745098, 0.15294117647058825, 0.1568627450980392, 1.0)\n",
      "(0.5803921568627451, 0.403921568627451, 0.7411764705882353, 1.0)\n",
      "(0.5490196078431373, 0.33725490196078434, 0.29411764705882354, 1.0)\n",
      "(0.8901960784313725, 0.4666666666666667, 0.7607843137254902, 1.0)\n",
      "(0.4980392156862745, 0.4980392156862745, 0.4980392156862745, 1.0)\n",
      "(0.7372549019607844, 0.7411764705882353, 0.13333333333333333, 1.0)\n",
      "(0.09019607843137255, 0.7450980392156863, 0.8117647058823529, 1.0)\n",
      "(0.09019607843137255, 0.7450980392156863, 0.8117647058823529, 1.0)\n",
      "(0.09019607843137255, 0.7450980392156863, 0.8117647058823529, 1.0)\n",
      "(0.09019607843137255, 0.7450980392156863, 0.8117647058823529, 1.0)\n"
     ]
    }
   ],
   "source": [
    "cmap = cm.get_cmap('tab10')\n",
    "\n",
    "# 범위를 벗어난 인덱스를 사용하면 마지막 색상값이 반복해서 사용된다.\n",
    "for c_idx in range(cmap.N + 3):\n",
    "    print(cmap(c_idx))"
   ],
   "metadata": {
    "collapsed": false,
    "pycharm": {
     "name": "#%%\n"
    }
   }
  },
  {
   "cell_type": "code",
   "execution_count": 68,
   "outputs": [],
   "source": [
    "cmap = cm.get_cmap('tab10')\n",
    "\n",
    "fig, ax = plt.subplots(figsize=(12, 8))\n",
    "ax.set_xlim([-1, 1])\n",
    "ax.set_ylim([-1, cmap.N])\n",
    "\n",
    "for c_idx in range(cmap.N):\n",
    "    color = cmap(c_idx)\n",
    "\n",
    "    ax.text(0, c_idx,\n",
    "            f'color = {color}', fontsize=12, ha='center', color=color)"
   ],
   "metadata": {
    "collapsed": false,
    "pycharm": {
     "name": "#%%\n"
    }
   }
  },
  {
   "cell_type": "code",
   "execution_count": 69,
   "outputs": [],
   "source": [
    "cmap = cm.get_cmap('tab20')\n",
    "\n",
    "fig, ax = plt.subplots(figsize=(12, 8))\n",
    "ax.set_facecolor('gray')\n",
    "ax.set_xlim([-1, 1])\n",
    "ax.set_ylim([-1, cmap.N])\n",
    "\n",
    "for c_idx in range(cmap.N):\n",
    "    color = cmap(c_idx)\n",
    "\n",
    "    ax.text(0, c_idx,\n",
    "            f'color = {color}', fontsize=12, ha='center', color=color)"
   ],
   "metadata": {
    "collapsed": false,
    "pycharm": {
     "name": "#%%\n"
    }
   }
  },
  {
   "cell_type": "code",
   "execution_count": 70,
   "outputs": [],
   "source": [
    "cmap = cm.get_cmap('Pastel1')\n",
    "\n",
    "fig, ax = plt.subplots(figsize=(12, 8))\n",
    "ax.set_facecolor('gray')\n",
    "ax.set_xlim([-1, 1])\n",
    "ax.set_ylim([-1, cmap.N])\n",
    "\n",
    "for c_idx in range(cmap.N):\n",
    "    color = cmap(c_idx)\n",
    "\n",
    "    ax.text(0, c_idx,\n",
    "            f'color = {color}', fontsize=12, ha='center', color=color)"
   ],
   "metadata": {
    "collapsed": false,
    "pycharm": {
     "name": "#%%\n"
    }
   }
  },
  {
   "cell_type": "markdown",
   "source": [
    "## Continuous Colormaps"
   ],
   "metadata": {
    "collapsed": false,
    "pycharm": {
     "name": "#%% md\n"
    }
   }
  },
  {
   "cell_type": "markdown",
   "source": [
    "### lut Argument"
   ],
   "metadata": {
    "collapsed": false,
    "pycharm": {
     "name": "#%% md\n"
    }
   }
  },
  {
   "cell_type": "code",
   "execution_count": 25,
   "outputs": [
    {
     "name": "stdout",
     "output_type": "stream",
     "text": [
      "(0.5, 0.0, 1.0, 1.0)\n",
      "(0.2777777777777778, 0.3420201433256687, 0.984807753012208, 1.0)\n",
      "(0.05555555555555558, 0.6427876096865393, 0.9396926207859084, 1.0)\n",
      "(0.16666666666666663, 0.8660254037844386, 0.8660254037844387, 1.0)\n",
      "(0.38888888888888884, 0.984807753012208, 0.766044443118978, 1.0)\n",
      "(0.6111111111111112, 0.984807753012208, 0.6427876096865394, 1.0)\n",
      "(0.8333333333333333, 0.8660254037844387, 0.5000000000000001, 1.0)\n",
      "(1.0, 0.6427876096865395, 0.3420201433256688, 1.0)\n",
      "(1.0, 0.3420201433256689, 0.17364817766693041, 1.0)\n",
      "(1.0, 1.2246467991473532e-16, 6.123233995736766e-17, 1.0)\n"
     ]
    }
   ],
   "source": [
    "# 연속된 색상표에서 몇 개의 색상을 사용할 것인지를 lut 매개변수를 이용하여 지정한다.\n",
    "cmap = cm.get_cmap('rainbow', lut=10)\n",
    "\n",
    "for c_idx in range(cmap.N):\n",
    "    print(cmap(c_idx))"
   ],
   "metadata": {
    "collapsed": false,
    "pycharm": {
     "name": "#%%\n"
    }
   }
  },
  {
   "cell_type": "code",
   "execution_count": 71,
   "outputs": [],
   "source": [
    "cmap = cm.get_cmap('rainbow', lut=10)\n",
    "\n",
    "fig, ax = plt.subplots(figsize=(12, 8))\n",
    "ax.set_xlim([-1, 1])\n",
    "ax.set_ylim([-1, cmap.N])\n",
    "\n",
    "for c_idx in range(cmap.N):\n",
    "    color = cmap(c_idx)\n",
    "    ax.text(0, c_idx,\n",
    "            f'color={color}', fontsize=12, ha='center', color=color)"
   ],
   "metadata": {
    "collapsed": false,
    "pycharm": {
     "name": "#%%\n"
    }
   }
  },
  {
   "cell_type": "code",
   "execution_count": 72,
   "outputs": [],
   "source": [
    "cmap = cm.get_cmap('rainbow', lut=30)\n",
    "\n",
    "fig, ax = plt.subplots(figsize=(12, 8))\n",
    "ax.set_xlim([-1, 1])\n",
    "ax.set_ylim([-1, cmap.N])\n",
    "\n",
    "for c_idx in range(cmap.N):\n",
    "    color = cmap(c_idx)\n",
    "    ax.text(0, c_idx,\n",
    "            f'color={color}', fontsize=8, ha='center', color=color)"
   ],
   "metadata": {
    "collapsed": false,
    "pycharm": {
     "name": "#%%\n"
    }
   }
  },
  {
   "cell_type": "code",
   "execution_count": 73,
   "outputs": [],
   "source": [
    "cmap = cm.get_cmap('rainbow', lut=100)\n",
    "\n",
    "fig, ax = plt.subplots(figsize=(12, 8))\n",
    "ax.set_xlim([-1, 1])\n",
    "ax.set_ylim([-1, cmap.N])\n",
    "\n",
    "for c_idx in range(cmap.N):\n",
    "    color = cmap(c_idx)\n",
    "    ax.text(0, c_idx,\n",
    "            f'color={color}', fontsize=4, ha='center', color=color)"
   ],
   "metadata": {
    "collapsed": false,
    "pycharm": {
     "name": "#%%\n"
    }
   }
  },
  {
   "cell_type": "markdown",
   "source": [
    "### Auto Colormaps"
   ],
   "metadata": {
    "collapsed": false,
    "pycharm": {
     "name": "#%% md\n"
    }
   }
  },
  {
   "cell_type": "code",
   "execution_count": 74,
   "outputs": [],
   "source": [
    "# Colormaps를 지정하지 않으면 vidiris 가 사용된다.\n",
    "harvest = np.array(\n",
    "    [[0.8, 2.4, 2.5, 3.9, 0.0, 4.0, 0.0],\n",
    "    [2.4, 0.0, 4.0, 1.0, 2.7, 0.0, 0.0],\n",
    "    [1.1, 2.4, 0.8, 4.3, 1.9, 4.4, 0.0],\n",
    "    [0.6, 0.0, 0.3, 0.0, 3.1, 0.0, 0.0],\n",
    "    [0.7, 1.7, 0.6, 2.6, 2.2, 6.2, 0.0],\n",
    "    [1.3, 1.2, 0.0, 0.0, 0.0, 3.2, 5.1],\n",
    "    [0.1, 2.0, 0.0, 1.4, 0.0, 1.9, 6.3]])\n",
    "\n",
    "fig, ax = plt.subplots(figsize=(7, 7))\n",
    "im = ax.imshow(harvest)"
   ],
   "metadata": {
    "collapsed": false,
    "pycharm": {
     "name": "#%%\n"
    }
   }
  },
  {
   "cell_type": "code",
   "execution_count": 75,
   "outputs": [],
   "source": [
    "fig, ax = plt.subplots(figsize=(7, 7))\n",
    "im = ax.imshow(harvest, cmap='Reds')"
   ],
   "metadata": {
    "collapsed": false,
    "pycharm": {
     "name": "#%%\n"
    }
   }
  },
  {
   "cell_type": "code",
   "execution_count": 76,
   "outputs": [],
   "source": [
    "fig, ax = plt.subplots(figsize=(7, 7))\n",
    "im = ax.imshow(harvest, cmap='hot')"
   ],
   "metadata": {
    "collapsed": false,
    "pycharm": {
     "name": "#%%\n"
    }
   }
  },
  {
   "cell_type": "code",
   "execution_count": 77,
   "outputs": [],
   "source": [
    "fig, ax = plt.subplots(figsize=(7, 7))\n",
    "im = ax.imshow(harvest, cmap='rainbow')"
   ],
   "metadata": {
    "collapsed": false,
    "pycharm": {
     "name": "#%%\n"
    }
   }
  },
  {
   "cell_type": "code",
   "execution_count": 78,
   "outputs": [
    {
     "data": {
      "text/plain": "<matplotlib.contour.QuadContourSet at 0x2cc4b46bcd0>"
     },
     "execution_count": 78,
     "metadata": {},
     "output_type": "execute_result"
    }
   ],
   "source": [
    "x = np.linspace(-10, 10, 100)\n",
    "y = x\n",
    "\n",
    "X, Y = np.meshgrid(x, y)\n",
    "Z = np.power(X, 2) + np.power(Y, 2)\n",
    "\n",
    "# 영역을 구분할 개수\n",
    "levels = np.linspace(np.min(Z), np.max(Z), 50)\n",
    "\n",
    "fig, ax = plt.subplots(figsize=(7, 7))\n",
    "ax.contourf(X, Y, Z, levels=levels)"
   ],
   "metadata": {
    "collapsed": false,
    "pycharm": {
     "name": "#%%\n"
    }
   }
  },
  {
   "cell_type": "code",
   "execution_count": 79,
   "outputs": [
    {
     "data": {
      "text/plain": "<matplotlib.contour.QuadContourSet at 0x2cc6f652310>"
     },
     "execution_count": 79,
     "metadata": {},
     "output_type": "execute_result"
    }
   ],
   "source": [
    "# 다른 색상 사용하기\n",
    "fig, ax = plt.subplots(figsize=(7, 7))\n",
    "ax.contourf(X, Y, Z, levels=levels, cmap=cm.get_cmap('Reds_r', lut=len(levels)))"
   ],
   "metadata": {
    "collapsed": false,
    "pycharm": {
     "name": "#%%\n"
    }
   }
  },
  {
   "cell_type": "markdown",
   "source": [
    "## Colorbar"
   ],
   "metadata": {
    "collapsed": false,
    "pycharm": {
     "name": "#%% md\n"
    }
   }
  },
  {
   "cell_type": "code",
   "execution_count": 80,
   "outputs": [],
   "source": [
    "x = np.linspace(-10, 10, 100)\n",
    "y = x\n",
    "\n",
    "X, Y = np.meshgrid(x, y)\n",
    "Z = np.power(X, 2) + np.power(Y, 2)\n",
    "\n",
    "levels = np.linspace(np.min(Z), np.max(Z), 30)\n",
    "cmap = cm.get_cmap('Reds_r', lut=len(levels))\n",
    "\n",
    "# Colorbar를 추가할 경우, 폭을 여유있게 설정한다.\n",
    "fig, ax = plt.subplots(figsize=(8, 7))\n",
    "\n",
    "cf = ax.contourf(X, Y, Z, levels=levels, cmap=cmap)\n",
    "\n",
    "# 그래프에 colorbar를 추가\n",
    "cbar = fig.colorbar(cf)"
   ],
   "metadata": {
    "collapsed": false,
    "pycharm": {
     "name": "#%%\n"
    }
   }
  },
  {
   "cell_type": "markdown",
   "source": [
    "### Setting Ticks"
   ],
   "metadata": {
    "collapsed": false,
    "pycharm": {
     "name": "#%% md\n"
    }
   }
  },
  {
   "cell_type": "code",
   "execution_count": 81,
   "outputs": [],
   "source": [
    "x = np.linspace(-10, 10, 100)\n",
    "y = x\n",
    "\n",
    "X, Y = np.meshgrid(x, y)\n",
    "Z = np.power(X, 2) + np.power(Y, 2)\n",
    "\n",
    "levels = np.linspace(np.min(Z), np.max(Z), 30)\n",
    "cmap = cm.get_cmap('Reds_r', lut=len(levels))\n",
    "\n",
    "# Colorbar를 추가할 경우, 폭을 여유있게 설정한다.\n",
    "fig, ax = plt.subplots(figsize=(8, 7))\n",
    "\n",
    "cf = ax.contourf(X, Y, Z, levels=levels, cmap=cmap)\n",
    "\n",
    "# 그래프에 colorbar를 추가\n",
    "cbar = fig.colorbar(cf)\n",
    "\n",
    "# tick의 개수를 임의로 설정\n",
    "cbar_ticks = cbar.get_ticks()\n",
    "cbar_ticks = np.linspace(cbar_ticks[0], cbar_ticks[-1], 3)\n",
    "cbar.set_ticks(cbar_ticks)"
   ],
   "metadata": {
    "collapsed": false,
    "pycharm": {
     "name": "#%%\n"
    }
   }
  },
  {
   "cell_type": "code",
   "execution_count": 82,
   "outputs": [],
   "source": [
    "x = np.linspace(-10, 10, 100)\n",
    "y = x\n",
    "\n",
    "X, Y = np.meshgrid(x, y)\n",
    "Z = np.power(X, 2) + np.power(Y, 2)\n",
    "\n",
    "levels = np.linspace(np.min(Z), np.max(Z), 30)\n",
    "cmap = cm.get_cmap('Reds_r', lut=len(levels))\n",
    "\n",
    "# Colorbar를 추가할 경우, 폭을 여유있게 설정한다.\n",
    "fig, ax = plt.subplots(figsize=(8, 7))\n",
    "\n",
    "cf = ax.contourf(X, Y, Z, levels=levels, cmap=cmap)\n",
    "\n",
    "# 그래프에 colorbar를 추가\n",
    "cbar = fig.colorbar(cf)\n",
    "\n",
    "# tick의 개수를 임의로 설정\n",
    "cbar_ticks = cbar.get_ticks()\n",
    "cbar_ticks = np.linspace(cbar_ticks[0], cbar_ticks[-1], 3)\n",
    "cbar.set_ticks(cbar_ticks)\n",
    "\n",
    "# ticklabel를 임의로 설정\n",
    "cbar.set_ticklabels(['low', 'medium', 'high'])\n",
    "cbar.ax.tick_params(labelsize=20)"
   ],
   "metadata": {
    "collapsed": false,
    "pycharm": {
     "name": "#%%\n"
    }
   }
  },
  {
   "cell_type": "markdown",
   "source": [
    "### Colorbar location"
   ],
   "metadata": {
    "collapsed": false,
    "pycharm": {
     "name": "#%% md\n"
    }
   }
  },
  {
   "cell_type": "code",
   "execution_count": 83,
   "outputs": [],
   "source": [
    "# 두 개의 ax가 있을 경우, colorbar의 위치 설정\n",
    "x = np.linspace(-10, 10, 100)\n",
    "y = x\n",
    "\n",
    "X, Y = np.meshgrid(x, y)\n",
    "Z1 = np.power(X, 2) + np.power(Y, 2)\n",
    "Z2 = np.power(X, 3) + np.power(Y, 3)\n",
    "\n",
    "# 첫번째 이미지의 데이터\n",
    "levels1 = np.linspace(np.min(Z1), np.max(Z1), 30)\n",
    "cmap1 = cm.get_cmap('Reds_r', lut=len(levels1))\n",
    "\n",
    "# 두번째 이미지의 데이터\n",
    "levels2 = np.linspace(np.min(Z2), np.max(Z2), 30)\n",
    "cmap2 = cm.get_cmap('Blues_r', lut=len(levels2))\n",
    "\n",
    "fig, axes = plt.subplots(1, 2, figsize=(18, 7))\n",
    "axes: npt.NDArray[Axes] = axes\n",
    "\n",
    "cf1 = axes[0].contourf(X, Y, Z1, levels=levels1, cmap=cmap1)\n",
    "cf2 = axes[1].contourf(X, Y, Z2, levels=levels2, cmap=cmap2)\n",
    "\n",
    "# colorbar가 2개 이상일 경우에는 colorbar를 적용할 축을 설정해야 한다.\n",
    "cbar1 = fig.colorbar(cf1, ax=axes[0])\n",
    "cbar2 = fig.colorbar(cf2, ax=axes[1])"
   ],
   "metadata": {
    "collapsed": false,
    "pycharm": {
     "name": "#%%\n"
    }
   }
  },
  {
   "cell_type": "code",
   "execution_count": null,
   "outputs": [],
   "source": [],
   "metadata": {
    "collapsed": false,
    "pycharm": {
     "name": "#%%\n"
    }
   }
  }
 ],
 "metadata": {
  "kernelspec": {
   "display_name": "Python 3",
   "language": "python",
   "name": "python3"
  },
  "language_info": {
   "codemirror_mode": {
    "name": "ipython",
    "version": 2
   },
   "file_extension": ".py",
   "mimetype": "text/x-python",
   "name": "python",
   "nbconvert_exporter": "python",
   "pygments_lexer": "ipython2",
   "version": "2.7.6"
  }
 },
 "nbformat": 4,
 "nbformat_minor": 0
}