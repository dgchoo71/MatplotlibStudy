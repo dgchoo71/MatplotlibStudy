{
 "cells": [
  {
   "cell_type": "code",
   "execution_count": 1,
   "metadata": {
    "collapsed": true
   },
   "outputs": [],
   "source": [
    "%matplotlib qt"
   ]
  },
  {
   "cell_type": "code",
   "execution_count": 2,
   "outputs": [],
   "source": [
    "import matplotlib.pyplot as plt\n",
    "from matplotlib.figure import Figure\n",
    "from matplotlib.axes import Axes\n",
    "import numpy as np\n",
    "import numpy.typing as npt"
   ],
   "metadata": {
    "collapsed": false,
    "pycharm": {
     "name": "#%%\n"
    }
   }
  },
  {
   "cell_type": "code",
   "execution_count": 33,
   "outputs": [],
   "source": [
    "# ax.grid() 메소드에 특정한 매개변수를 지정하지 않으면 x,y 축에 그리드가 표시된다.\n",
    "fig, ax = plt.subplots(figsize=(7, 7))\n",
    "ax.grid()"
   ],
   "metadata": {
    "collapsed": false,
    "pycharm": {
     "name": "#%%\n"
    }
   }
  },
  {
   "cell_type": "code",
   "execution_count": 34,
   "outputs": [],
   "source": [
    "# x축에만 그리드 표시\n",
    "fig, ax = plt.subplots(figsize=(7, 7))\n",
    "ax.grid(axis='x')"
   ],
   "metadata": {
    "collapsed": false,
    "pycharm": {
     "name": "#%%\n"
    }
   }
  },
  {
   "cell_type": "code",
   "execution_count": 35,
   "outputs": [],
   "source": [
    "# y축에만 그리드 표시\n",
    "fig, ax = plt.subplots(figsize=(7, 7))\n",
    "ax.grid(axis='y')"
   ],
   "metadata": {
    "collapsed": false,
    "pycharm": {
     "name": "#%%\n"
    }
   }
  },
  {
   "cell_type": "markdown",
   "source": [
    "### 그리드의 선굵기 지정 (linewidth)"
   ],
   "metadata": {
    "collapsed": false,
    "pycharm": {
     "name": "#%% md\n"
    }
   }
  },
  {
   "cell_type": "code",
   "execution_count": 36,
   "outputs": [],
   "source": [
    "fig, ax = plt.subplots(figsize=(7, 7))\n",
    "ax.grid(axis='x')"
   ],
   "metadata": {
    "collapsed": false,
    "pycharm": {
     "name": "#%%\n"
    }
   }
  },
  {
   "cell_type": "code",
   "execution_count": 37,
   "outputs": [],
   "source": [
    "# 선굵기 2\n",
    "fig, ax = plt.subplots(figsize=(7, 7))\n",
    "ax.grid(axis='x', linewidth=2)"
   ],
   "metadata": {
    "collapsed": false,
    "pycharm": {
     "name": "#%%\n"
    }
   }
  },
  {
   "cell_type": "code",
   "execution_count": 38,
   "outputs": [],
   "source": [
    "# 선굵기 3\n",
    "fig, ax = plt.subplots(figsize=(7, 7))\n",
    "ax.grid(axis='x', linewidth=3)"
   ],
   "metadata": {
    "collapsed": false,
    "pycharm": {
     "name": "#%%\n"
    }
   }
  },
  {
   "cell_type": "markdown",
   "source": [
    "### 그리드 선 스타일 설정 (linestyle)"
   ],
   "metadata": {
    "collapsed": false,
    "pycharm": {
     "name": "#%% md\n"
    }
   }
  },
  {
   "cell_type": "code",
   "execution_count": 39,
   "outputs": [],
   "source": [
    "# 점선\n",
    "fig, ax = plt.subplots(figsize=(7, 7))\n",
    "ax.grid(axis='x', linewidth=2, linestyle=':')"
   ],
   "metadata": {
    "collapsed": false,
    "pycharm": {
     "name": "#%%\n"
    }
   }
  },
  {
   "cell_type": "code",
   "execution_count": 40,
   "outputs": [],
   "source": [
    "# 굵은 점선\n",
    "fig, ax = plt.subplots(figsize=(7, 7))\n",
    "ax.grid(axis='x', linewidth=2, linestyle='--')"
   ],
   "metadata": {
    "collapsed": false,
    "pycharm": {
     "name": "#%%\n"
    }
   }
  },
  {
   "cell_type": "code",
   "execution_count": 41,
   "outputs": [],
   "source": [
    "# 일점 쇄선\n",
    "fig, ax = plt.subplots(figsize=(7, 7))\n",
    "ax.grid(axis='x', linewidth=2, linestyle='-.')"
   ],
   "metadata": {
    "collapsed": false,
    "pycharm": {
     "name": "#%%\n"
    }
   }
  },
  {
   "cell_type": "markdown",
   "source": [
    "### 그리드 선 색상 설정 (color)"
   ],
   "metadata": {
    "collapsed": false,
    "pycharm": {
     "name": "#%% md\n"
    }
   }
  },
  {
   "cell_type": "code",
   "execution_count": 42,
   "outputs": [],
   "source": [
    "fig, ax = plt.subplots(figsize=(7, 7))\n",
    "ax.grid(axis='x', linewidth=2, linestyle=':', color='r')"
   ],
   "metadata": {
    "collapsed": false,
    "pycharm": {
     "name": "#%%\n"
    }
   }
  },
  {
   "cell_type": "code",
   "execution_count": 43,
   "outputs": [],
   "source": [
    "fig, ax = plt.subplots(figsize=(7, 7))\n",
    "ax.grid(axis='x', linewidth=2, linestyle=':', color='g')"
   ],
   "metadata": {
    "collapsed": false,
    "pycharm": {
     "name": "#%%\n"
    }
   }
  },
  {
   "cell_type": "code",
   "execution_count": 44,
   "outputs": [],
   "source": [
    "fig, ax = plt.subplots(figsize=(7, 7))\n",
    "ax.grid(axis='x', linewidth=2, linestyle=':', color='b')"
   ],
   "metadata": {
    "collapsed": false,
    "pycharm": {
     "name": "#%%\n"
    }
   }
  },
  {
   "cell_type": "markdown",
   "source": [
    "### Tick과 그리드 함께 사용히기"
   ],
   "metadata": {
    "collapsed": false,
    "pycharm": {
     "name": "#%% md\n"
    }
   }
  },
  {
   "cell_type": "code",
   "execution_count": 45,
   "outputs": [],
   "source": [
    "# major tick에 그리드 표시\n",
    "fig, ax = plt.subplots(figsize=(7, 7))\n",
    "major_xticks = [i for i in range(0, 101, 20)]\n",
    "ax.set_xticks(major_xticks)\n",
    "ax.tick_params(labelsize=20)\n",
    "\n",
    "ax.grid(axis='x', which='major', linewidth=1.5)"
   ],
   "metadata": {
    "collapsed": false,
    "pycharm": {
     "name": "#%%\n"
    }
   }
  },
  {
   "cell_type": "code",
   "execution_count": 46,
   "outputs": [],
   "source": [
    "# major와 minor tick에 그리드 표시\n",
    "fig, ax = plt.subplots(figsize=(7, 7))\n",
    "\n",
    "major_xticks = [i for i in range(0, 101, 20)]\n",
    "minor_xticks = [i for i in range(0, 101, 5)]\n",
    "\n",
    "ax.set_xticks(major_xticks)\n",
    "ax.set_xticks(minor_xticks, minor=True)\n",
    "\n",
    "ax.tick_params(labelsize=20)\n",
    "\n",
    "ax.grid(axis='x', which='major', linewidth=1.5)\n",
    "ax.grid(axis='x', which='minor', linestyle=':')"
   ],
   "metadata": {
    "collapsed": false,
    "pycharm": {
     "name": "#%%\n"
    }
   }
  },
  {
   "cell_type": "code",
   "execution_count": 47,
   "outputs": [],
   "source": [
    "# y축에 tick, ticklabel, grid 표시하기\n",
    "fig, ax = plt.subplots(figsize=(7, 7))\n",
    "\n",
    "major_yticks = [i for i in range(0, 101, 20)]\n",
    "minor_yticks = [i for i in range(0, 101, 5)]\n",
    "ytick_labels = [f'{i} %' for i in major_yticks]\n",
    "\n",
    "ax.set_yticks(major_xticks)\n",
    "ax.set_yticks(minor_yticks, minor=True)\n",
    "ax.set_yticklabels(ytick_labels)\n",
    "\n",
    "ax.tick_params(labelsize=20)\n",
    "\n",
    "ax.grid(axis='y', which='major', linewidth=1.5)\n",
    "ax.grid(axis='y', which='minor', linestyle=':')\n",
    "\n",
    "fig.tight_layout()"
   ],
   "metadata": {
    "collapsed": false,
    "pycharm": {
     "name": "#%%\n"
    }
   }
  },
  {
   "cell_type": "markdown",
   "source": [
    "### 연습문제"
   ],
   "metadata": {
    "collapsed": false,
    "pycharm": {
     "name": "#%% md\n"
    }
   }
  },
  {
   "cell_type": "code",
   "execution_count": 48,
   "outputs": [],
   "source": [
    "# 첫번째 연습문제\n",
    "fig, ax = plt.subplots(figsize=(7, 7))\n",
    "\n",
    "ax.set_yscale('log')\n",
    "ax.set_ylim([1, 1E3])\n",
    "\n",
    "ax.tick_params(labelsize=20, length=10)\n",
    "ax.tick_params(which='minor', length=5)\n",
    "\n",
    "ax.grid(axis='y', which='major', linewidth=1.5)\n",
    "ax.grid(axis='y', which='minor', linestyle=':')"
   ],
   "metadata": {
    "collapsed": false,
    "pycharm": {
     "name": "#%%\n"
    }
   }
  },
  {
   "cell_type": "code",
   "execution_count": 49,
   "outputs": [
    {
     "data": {
      "text/plain": "[<matplotlib.axis.XTick at 0x1af811e93d0>,\n <matplotlib.axis.XTick at 0x1af811a8340>,\n <matplotlib.axis.XTick at 0x1af811a8e50>,\n <matplotlib.axis.XTick at 0x1af804a8700>,\n <matplotlib.axis.XTick at 0x1af804a8040>]"
     },
     "execution_count": 49,
     "metadata": {},
     "output_type": "execute_result"
    }
   ],
   "source": [
    "# 두번째 연습문제\n",
    "m_exp, M_exp = 0, 5\n",
    "n_inter_yticks = 4\n",
    "\n",
    "n_major_yticks = M_exp - m_exp + 1\n",
    "n_minor_yticks = (n_major_yticks - 1) * (n_inter_yticks + 1) + 1\n",
    "\n",
    "major_yticks = np.logspace(m_exp, M_exp, n_major_yticks)\n",
    "minor_yticks = np.logspace(m_exp, M_exp, n_minor_yticks)\n",
    "\n",
    "fig, ax = plt.subplots(figsize=(7, 7))\n",
    "ax.set_yscale('log')\n",
    "ax.set_ylim(10 ** m_exp, 10 ** M_exp)\n",
    "\n",
    "ax.set_yticks(major_yticks)\n",
    "ax.set_yticks(minor_yticks, minor=True)\n",
    "\n",
    "ax.tick_params(axis='y', which='major', length=10)\n",
    "ax.tick_params(axis='y', which='minor', length=3)\n",
    "\n",
    "ax.grid(axis='y', which='major', linewidth=1.5)\n",
    "ax.grid(axis='y', which='minor', linestyle=':')\n",
    "\n",
    "major_xticks = np.logspace(0, 4, 5)\n",
    "ax.set_xscale('log')\n",
    "ax.set_xticks(major_xticks)"
   ],
   "metadata": {
    "collapsed": false,
    "pycharm": {
     "name": "#%%\n"
    }
   }
  },
  {
   "cell_type": "code",
   "execution_count": 50,
   "outputs": [],
   "source": [
    "# 세번째 연습문제\n",
    "fig, ax = plt.subplots(figsize=(7, 7))\n",
    "ax.set_yscale('log')\n",
    "ax.set_xscale('log')\n",
    "\n",
    "ax.set_ylim([10 ** -10, 10 ** 3])\n",
    "ax.set_xlim([10 ** 0, 10 ** 4])\n",
    "\n",
    "major_yticks = [10 ** i for i in [-10, -5, 0]]\n",
    "minor_yticks = [10 ** i for i in range(-10, 4)]\n",
    "major_xticks = [10 ** i for i in range(0, 5)]\n",
    "\n",
    "ax.set_yticks(major_yticks)\n",
    "ax.set_yticks(minor_yticks, minor=True)\n",
    "ax.set_xticks(major_xticks)\n",
    "\n",
    "ax.tick_params(which='major', direction='in', length=10, labelsize=15)\n",
    "ax.tick_params(which='minor', direction='in', length=5, labelsize=0)\n",
    "\n",
    "ax.grid(which='major', color='silver')\n",
    "ax.grid(which='minor', linestyle=':', color='silver')\n",
    "\n",
    "ax.spines['top'].set_visible(False)\n",
    "ax.spines['right'].set_visible(False)\n",
    "\n",
    "ax.set_title('Rosenbrock-U[0, 1]', fontsize=30)\n",
    "ax.set_xlabel('Num. Iterations', fontsize=20)\n",
    "ax.set_ylabel('Loss', fontsize=20)\n",
    "\n",
    "fig.tight_layout()"
   ],
   "metadata": {
    "collapsed": false,
    "pycharm": {
     "name": "#%%\n"
    }
   }
  },
  {
   "cell_type": "code",
   "execution_count": null,
   "outputs": [],
   "source": [],
   "metadata": {
    "collapsed": false,
    "pycharm": {
     "name": "#%%\n"
    }
   }
  }
 ],
 "metadata": {
  "kernelspec": {
   "display_name": "Python 3",
   "language": "python",
   "name": "python3"
  },
  "language_info": {
   "codemirror_mode": {
    "name": "ipython",
    "version": 2
   },
   "file_extension": ".py",
   "mimetype": "text/x-python",
   "name": "python",
   "nbconvert_exporter": "python",
   "pygments_lexer": "ipython2",
   "version": "2.7.6"
  }
 },
 "nbformat": 4,
 "nbformat_minor": 0
}