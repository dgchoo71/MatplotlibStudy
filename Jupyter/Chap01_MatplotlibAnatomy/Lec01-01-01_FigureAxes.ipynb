{
 "cells": [
  {
   "cell_type": "code",
   "execution_count": 1,
   "metadata": {
    "pycharm": {
     "name": "#%%\n"
    }
   },
   "outputs": [
    {
     "data": {
      "text/plain": "<IPython.core.display.HTML object>",
      "text/html": "<style>\ndiv.container { width: 100% !important; }\ndiv.CodeMirror { font-family: Hack; font-size: 12pt; }\ndiv.output { font-size: 12pt; font-weight: bold; }\ndiv.input { font-family: Hack; font-size: 12pt; }\ndiv.prompt { min-width: 100px; }\n</style>\n"
     },
     "metadata": {},
     "output_type": "display_data"
    }
   ],
   "source": [
    "from IPython.core.display import display, HTML\n",
    "display(HTML(\n",
    "\"\"\"<style>\n",
    "div.container { width: 100% !important; }\n",
    "div.CodeMirror { font-family: Hack; font-size: 12pt; }\n",
    "div.output { font-size: 12pt; font-weight: bold; }\n",
    "div.input { font-family: Hack; font-size: 12pt; }\n",
    "div.prompt { min-width: 100px; }\n",
    "</style>\n",
    "\"\"\"))"
   ]
  },
  {
   "cell_type": "code",
   "execution_count": 2,
   "outputs": [],
   "source": [
    "%matplotlib qt"
   ],
   "metadata": {
    "collapsed": false,
    "pycharm": {
     "name": "#%%\n"
    }
   }
  },
  {
   "cell_type": "markdown",
   "source": [
    "## Figure와 Axes 생성하기"
   ],
   "metadata": {
    "collapsed": false
   }
  },
  {
   "cell_type": "code",
   "execution_count": 3,
   "metadata": {},
   "outputs": [],
   "source": [
    "import matplotlib.pyplot as plt\n",
    "from matplotlib.figure import Figure\n",
    "from matplotlib.axes import Axes\n",
    "\n",
    "# Figure는 하나의 그래프를 그릴 수 있는 전체 canvas이다.\n",
    "# 객체를 사용하는 것이 matplotlib의 더 많은 기능을 사용할 수 있다.\n",
    "fig: Figure = plt.figure()\n",
    "\n",
    "# Figure에 Axes가 포함되지 않으면 Figure가 출력이 안 된다.\n",
    "ax: Axes = fig.add_subplot()\n",
    "\n",
    "# 그려진 Figure를 화면에 보이기\n",
    "plt.show()"
   ]
  },
  {
   "cell_type": "code",
   "execution_count": 4,
   "metadata": {
    "pycharm": {
     "name": "#%%\n"
    }
   },
   "outputs": [],
   "source": [
    "# Line plot\n",
    "# Figure를 생성할 때 크기를 지정할 수 있다. (인치 단위)\n",
    "# Figure의 색상도 지정할 수 있다.\n",
    "\n",
    "fig: Figure = plt.figure(figsize=(7, 7), facecolor='linen')\n",
    "ax: Axes = fig.add_subplot()\n",
    "ax.plot([2, 3, 1])\n",
    "plt.show()"
   ]
  },
  {
   "cell_type": "code",
   "execution_count": 5,
   "metadata": {
    "pycharm": {
     "name": "#%%\n"
    }
   },
   "outputs": [],
   "source": [
    "# Scatter plot 그리기\n",
    "fig: Figure = plt.figure(figsize=(7, 7), facecolor='linen')\n",
    "ax: Axes = fig.add_subplot()\n",
    "ax.scatter([2, 3, 1], [2, 3, 4])\n",
    "plt.show()"
   ]
  },
  {
   "cell_type": "markdown",
   "metadata": {},
   "source": [
    "* Figure는 하나의 그래프를 그릴 수 있는 전체 Canvas 이다.\n",
    "* Figure를 생성할 때 크기를 지정할 수 있다.\n",
    "* Figure의 색상도 지정할 수 있다."
   ]
  },
  {
   "cell_type": "markdown",
   "metadata": {
    "pycharm": {
     "name": "#%% md\n"
    }
   },
   "source": [
    "## 규칙적인 형태의 Axes 생성하기"
   ]
  },
  {
   "cell_type": "code",
   "execution_count": 6,
   "metadata": {
    "pycharm": {
     "name": "#%%\n"
    }
   },
   "outputs": [],
   "source": [
    "# 여러 개의 axis 생성하기\n",
    "# Grid System 이용하기\n",
    "\n",
    "fig: Figure = plt.figure(figsize=(7, 7), facecolor='linen')\n",
    "\n",
    "# 행의 개수, 열의 개수, axes의 순서\n",
    "ax: Axes = fig.add_subplot(111)\n",
    "\n",
    "# 또는\n",
    "ax: Axes = fig.add_subplot(1, 1, 1)\n",
    "plt.show()"
   ]
  },
  {
   "cell_type": "code",
   "execution_count": 7,
   "metadata": {
    "pycharm": {
     "name": "#%%\n"
    }
   },
   "outputs": [],
   "source": [
    "# 3 X 1 Axes 생성하기\n",
    "fig: Figure = plt.figure(figsize=(7, 7), facecolor='linen')\n",
    "\n",
    "ax1: Axes = fig.add_subplot(311)  # 3행 1열 중 첫번째 축\n",
    "ax2: Axes = fig.add_subplot(312)  # 3행 1열 중 두번째 축\n",
    "ax3: Axes = fig.add_subplot(313)  # 3행 1열 중 세번째 축\n",
    "\n",
    "ax1.plot([2, 5, 10])\n",
    "ax2.plot([10, 5, 2])\n",
    "plt.show()"
   ]
  },
  {
   "cell_type": "code",
   "execution_count": 8,
   "metadata": {
    "pycharm": {
     "name": "#%%\n"
    }
   },
   "outputs": [],
   "source": [
    "# 2 X 2 Axes 생성하기\n",
    "fig: Figure = plt.figure(figsize=(7, 7), facecolor='linen')\n",
    "\n",
    "# 전체 행과 열의 크기, 그리고 축의 순서를 지정한다.\n",
    "# numpy에서 행렬을 지정하는 순서와 동일하다.\n",
    "ax1: Axes = fig.add_subplot(2, 2, 1)   # fig.add_subplot(221) 과 동일한다.\n",
    "ax2: Axes = fig.add_subplot(2, 2, 2)\n",
    "ax3: Axes = fig.add_subplot(2, 2, 3)\n",
    "ax4: Axes = fig.add_subplot(2, 2, 4)\n",
    "\n",
    "plt.show()"
   ]
  },
  {
   "cell_type": "markdown",
   "metadata": {
    "pycharm": {
     "name": "#%% md\n"
    }
   },
   "source": [
    "## 불규칙한 형태의 Axes 생성하기"
   ]
  },
  {
   "cell_type": "code",
   "execution_count": 9,
   "metadata": {
    "pycharm": {
     "name": "#%%\n"
    }
   },
   "outputs": [],
   "source": [
    "fig: Figure = plt.figure(figsize=(7, 7),\n",
    "                         facecolor='linen')\n",
    "\n",
    "ax1: Axes = fig.add_subplot(221)\n",
    "ax2: Axes = fig.add_subplot(222)\n",
    "ax3: Axes = fig.add_subplot(212)   # 2행 1열 배치에서 2번째 축을 의미\n",
    "\n",
    "plt.show()"
   ]
  },
  {
   "cell_type": "code",
   "execution_count": 10,
   "metadata": {
    "pycharm": {
     "name": "#%%\n"
    }
   },
   "outputs": [],
   "source": [
    "fig: Figure = plt.figure(figsize=(7, 7),\n",
    "                         facecolor='linen')\n",
    "\n",
    "ax1: Axes = fig.add_subplot(231)\n",
    "ax2: Axes = fig.add_subplot(232)\n",
    "ax3: Axes = fig.add_subplot(133)   # 3번째 열의 축\n",
    "ax4: Axes = fig.add_subplot(234)\n",
    "ax5: Axes = fig.add_subplot(235)\n",
    "\n",
    "plt.show()"
   ]
  },
  {
   "cell_type": "markdown",
   "metadata": {
    "pycharm": {
     "name": "#%% md\n"
    }
   },
   "source": [
    "Axes에 facecolor를 설정할 수 있다."
   ]
  },
  {
   "cell_type": "code",
   "execution_count": 11,
   "metadata": {
    "pycharm": {
     "name": "#%%\n"
    }
   },
   "outputs": [],
   "source": [
    "fig: Figure = plt.figure(figsize=(7, 7), facecolor='linen')\n",
    "\n",
    "ax1: Axes = fig.add_subplot(311, facecolor='r')\n",
    "ax2: Axes = fig.add_subplot(312, facecolor='g')\n",
    "ax3: Axes = fig.add_subplot(313, facecolor='b')\n",
    "\n",
    "plt.show()"
   ]
  },
  {
   "cell_type": "code",
   "execution_count": null,
   "metadata": {
    "pycharm": {
     "name": "#%%\n"
    }
   },
   "outputs": [],
   "source": []
  }
 ],
 "metadata": {
  "kernelspec": {
   "display_name": "Python 3 (ipykernel)",
   "language": "python",
   "name": "python3"
  },
  "language_info": {
   "codemirror_mode": {
    "name": "ipython",
    "version": 3
   },
   "file_extension": ".py",
   "mimetype": "text/x-python",
   "name": "python",
   "nbconvert_exporter": "python",
   "pygments_lexer": "ipython3",
   "version": "3.8.10"
  },
  "toc": {
   "base_numbering": 1,
   "nav_menu": {},
   "number_sections": true,
   "sideBar": true,
   "skip_h1_title": true,
   "title_cell": "Table of Contents",
   "title_sidebar": "Contents",
   "toc_cell": false,
   "toc_position": {},
   "toc_section_display": true,
   "toc_window_display": false
  }
 },
 "nbformat": 4,
 "nbformat_minor": 1
}