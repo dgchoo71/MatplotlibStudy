{
 "cells": [
  {
   "cell_type": "markdown",
   "metadata": {
    "collapsed": true,
    "pycharm": {
     "name": "#%% md\n"
    }
   },
   "source": [
    "# plt.subplot2grid를 이용하여 불규칙한 형태의 Axes 배치하기"
   ]
  },
  {
   "cell_type": "markdown",
   "metadata": {
    "pycharm": {
     "name": "#%% md\n"
    }
   },
   "source": [
    "fig 매개변수를 이용하여 어떤 figure 객체에 subplot을 추가할지 설정한다."
   ]
  },
  {
   "cell_type": "code",
   "execution_count": 2,
   "outputs": [],
   "source": [
    "%matplotlib qt"
   ],
   "metadata": {
    "collapsed": false,
    "pycharm": {
     "name": "#%%\n"
    }
   }
  },
  {
   "cell_type": "code",
   "execution_count": 3,
   "outputs": [],
   "source": [
    "import matplotlib.pyplot as plt\n",
    "from matplotlib.figure import Figure\n",
    "from matplotlib.axes import Axes\n",
    "import numpy as np\n",
    "\n",
    "fig: Figure = plt.figure(figsize=(7, 7), facecolor='linen')\n",
    "\n",
    "# fig 매개변수를 이용하여 어떤 figure 객체에 subplot을 추가할지 설정한다.\n",
    "ax1: Axes = plt.subplot2grid((1, 1), (0, 0), fig=fig)"
   ],
   "metadata": {
    "collapsed": false,
    "pycharm": {
     "name": "#%%\n"
    }
   }
  },
  {
   "cell_type": "code",
   "execution_count": 4,
   "metadata": {
    "pycharm": {
     "name": "#%%\n"
    }
   },
   "outputs": [],
   "source": [
    "fig: Figure = plt.figure(figsize=(7, 7), facecolor='linen')\n",
    "\n",
    "# 전체 subplot의 구조는 2행 1열\n",
    "ax1: Axes = plt.subplot2grid((2, 1), (0, 0), fig=fig)   # 0, 0 위치(첫번째 행)\n",
    "ax2: Axes = plt.subplot2grid((2, 1), (1, 0), fig=fig)   # 1, 0 위치(두번째 행)"
   ]
  },
  {
   "cell_type": "code",
   "execution_count": 5,
   "metadata": {
    "pycharm": {
     "name": "#%%\n"
    }
   },
   "outputs": [],
   "source": [
    "fig: Figure = plt.figure(figsize=(7, 7), facecolor='linen')\n",
    "\n",
    "# 전체 subplot의 구조는 1행 2열\n",
    "ax1: Axes = plt.subplot2grid((1, 2), (0, 0), fig=fig)\n",
    "ax2: Axes = plt.subplot2grid((1, 2), (0, 1), fig=fig)"
   ]
  },
  {
   "cell_type": "markdown",
   "metadata": {
    "pycharm": {
     "name": "#%% md\n"
    }
   },
   "source": [
    "## Column Span 사용하기"
   ]
  },
  {
   "cell_type": "code",
   "execution_count": 6,
   "metadata": {
    "pycharm": {
     "name": "#%%\n"
    }
   },
   "outputs": [],
   "source": [
    "fig: Figure = plt.figure(figsize=(7, 7), facecolor='linen')\n",
    "\n",
    "ax1: Axes = plt.subplot2grid((3, 3), (0, 0), colspan=2, fig=fig)\n",
    "ax2: Axes = plt.subplot2grid((3, 3), (1, 0), colspan=3, fig=fig)\n",
    "ax3: Axes = plt.subplot2grid((3, 3), (2, 0), fig=fig)\n",
    "ax4: Axes = plt.subplot2grid((3, 3), (2, 1), fig=fig)\n",
    "ax5: Axes = plt.subplot2grid((3, 3), (2, 2), fig=fig)"
   ]
  },
  {
   "cell_type": "code",
   "execution_count": 7,
   "metadata": {
    "pycharm": {
     "name": "#%%\n"
    }
   },
   "outputs": [],
   "source": [
    "# add_subplot을 이용하는 방법\n",
    "fig: Figure = plt.figure(figsize=(7, 7), facecolor='linen')\n",
    "\n",
    "ax1: Axes = fig.add_subplot(211)\n",
    "ax2: Axes = fig.add_subplot(223)\n",
    "ax3: Axes = fig.add_subplot(224)"
   ]
  },
  {
   "cell_type": "code",
   "execution_count": 8,
   "metadata": {
    "pycharm": {
     "name": "#%%\n"
    }
   },
   "outputs": [],
   "source": [
    "# subplot2grid를 이용하는 방법\n",
    "fig: Figure = plt.figure(figsize=(7, 7), facecolor='linen')\n",
    "\n",
    "ax1: Axes = plt.subplot2grid((2, 2), (0, 0), colspan=2, fig=fig)\n",
    "ax2: Axes = plt.subplot2grid((2, 2), (1, 0), fig=fig)\n",
    "ax3: Axes = plt.subplot2grid((2, 2), (1, 1), fig=fig)"
   ]
  },
  {
   "cell_type": "markdown",
   "metadata": {
    "pycharm": {
     "name": "#%% md\n"
    }
   },
   "source": [
    "## Row Span 사용하기"
   ]
  },
  {
   "cell_type": "code",
   "execution_count": 9,
   "metadata": {
    "pycharm": {
     "name": "#%%\n"
    }
   },
   "outputs": [],
   "source": [
    "# row span 사용하기\n",
    "fig: Figure = plt.figure(figsize=(7, 7), facecolor='linen')\n",
    "\n",
    "ax1: Axes = plt.subplot2grid((3, 3), (0, 0), colspan=2, fig=fig)\n",
    "ax2: Axes = plt.subplot2grid((3, 3), (1, 0), colspan=2, fig=fig)\n",
    "ax3: Axes = plt.subplot2grid((3, 3), (2, 0), colspan=2, fig=fig)\n",
    "ax4: Axes = plt.subplot2grid((3, 3), (0, 2), rowspan=3, fig=fig)"
   ]
  },
  {
   "cell_type": "code",
   "execution_count": 10,
   "metadata": {
    "pycharm": {
     "name": "#%%\n"
    }
   },
   "outputs": [],
   "source": [
    "# 예제\n",
    "fig: Figure = plt.figure(figsize=(7, 7), facecolor='linen')\n",
    "\n",
    "ax1: Axes = plt.subplot2grid((3, 3), (0, 0), colspan=3, fig=fig)\n",
    "ax2: Axes = plt.subplot2grid((3, 3), (1, 0), colspan=2, fig=fig)\n",
    "ax3: Axes = plt.subplot2grid((3, 3), (1, 2), rowspan=2, fig=fig)\n",
    "ax4: Axes = plt.subplot2grid((3, 3), (2, 0), fig=fig)\n",
    "ax5: Axes = plt.subplot2grid((3, 3), (2, 1), fig=fig)"
   ]
  },
  {
   "cell_type": "code",
   "execution_count": null,
   "metadata": {
    "pycharm": {
     "name": "#%%\n"
    }
   },
   "outputs": [],
   "source": []
  }
 ],
 "metadata": {
  "kernelspec": {
   "display_name": "Python 3 (ipykernel)",
   "language": "python",
   "name": "python3"
  },
  "language_info": {
   "codemirror_mode": {
    "name": "ipython",
    "version": 3
   },
   "file_extension": ".py",
   "mimetype": "text/x-python",
   "name": "python",
   "nbconvert_exporter": "python",
   "pygments_lexer": "ipython3",
   "version": "3.8.10"
  }
 },
 "nbformat": 4,
 "nbformat_minor": 1
}