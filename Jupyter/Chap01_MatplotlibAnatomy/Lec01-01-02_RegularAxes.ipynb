{
 "cells": [
  {
   "cell_type": "markdown",
   "metadata": {
    "collapsed": true,
    "pycharm": {
     "is_executing": true,
     "name": "#%% md\n"
    }
   },
   "source": [
    "# Figure와 Axes를 동시에 생성하기"
   ]
  },
  {
   "cell_type": "code",
   "execution_count": 1,
   "outputs": [],
   "source": [
    "%matplotlib qt"
   ],
   "metadata": {
    "collapsed": false,
    "pycharm": {
     "name": "#%%\n"
    }
   }
  },
  {
   "cell_type": "code",
   "execution_count": 2,
   "outputs": [
    {
     "name": "stdout",
     "output_type": "stream",
     "text": [
      "AxesSubplot(0.125,0.53;0.775x0.35)\n",
      "AxesSubplot(0.125,0.11;0.775x0.35)\n"
     ]
    }
   ],
   "source": [
    "import matplotlib.pyplot as plt\n",
    "from matplotlib.figure import Figure\n",
    "from matplotlib.axes import Axes\n",
    "import numpy as np\n",
    "\n",
    "# 기존의 방법\n",
    "fig: Figure = plt.figure(facecolor='linen')\n",
    "ax1: Axes = fig.add_subplot(211)\n",
    "ax2: Axes = fig.add_subplot(212)\n",
    "\n",
    "print(ax1)\n",
    "print(ax2)\n",
    "\n",
    "plt.show()"
   ],
   "metadata": {
    "collapsed": false,
    "pycharm": {
     "name": "#%%\n"
    }
   }
  },
  {
   "cell_type": "code",
   "execution_count": 7,
   "metadata": {
    "pycharm": {
     "name": "#%%\n"
    }
   },
   "outputs": [
    {
     "name": "stdout",
     "output_type": "stream",
     "text": [
      "[<AxesSubplot:> <AxesSubplot:>]\n",
      "<class 'numpy.ndarray'>\n",
      "AxesSubplot(0.125,0.53;0.775x0.35)\n",
      "AxesSubplot(0.125,0.11;0.775x0.35)\n"
     ]
    }
   ],
   "source": [
    "# Figure와 Axes를 동시에 생성하기\n",
    "fig: Figure\n",
    "axes: np.ndarray\n",
    "fig, axes = plt.subplots(nrows=2, ncols=1)\n",
    "\n",
    "# axes의 속성들을 확인\n",
    "print(axes)\n",
    "print(type(axes))\n",
    "print(axes[0])\n",
    "print(axes[1])\n",
    "\n",
    "plt.show()"
   ]
  },
  {
   "cell_type": "code",
   "execution_count": 4,
   "metadata": {
    "pycharm": {
     "name": "#%%\n"
    }
   },
   "outputs": [
    {
     "name": "stdout",
     "output_type": "stream",
     "text": [
      "AxesSubplot(0.125,0.653529;0.775x0.226471)\n",
      "AxesSubplot(0.125,0.381765;0.775x0.226471)\n",
      "AxesSubplot(0.125,0.11;0.775x0.226471)\n"
     ]
    }
   ],
   "source": [
    "fig, axes = plt.subplots(nrows=3, ncols=1)\n",
    "\n",
    "print(axes[0])\n",
    "print(axes[1])\n",
    "print(axes[2])\n",
    "\n",
    "plt.show()"
   ]
  },
  {
   "cell_type": "code",
   "execution_count": 5,
   "metadata": {
    "pycharm": {
     "name": "#%%\n"
    }
   },
   "outputs": [
    {
     "name": "stdout",
     "output_type": "stream",
     "text": [
      "AxesSubplot(0.125,0.11;0.227941x0.77)\n",
      "AxesSubplot(0.398529,0.11;0.227941x0.77)\n",
      "AxesSubplot(0.672059,0.11;0.227941x0.77)\n"
     ]
    }
   ],
   "source": [
    "fig, axes = plt.subplots(nrows=1, ncols=3)\n",
    "\n",
    "print(axes[0])\n",
    "print(axes[1])\n",
    "print(axes[2])\n",
    "\n",
    "plt.show()"
   ]
  },
  {
   "cell_type": "code",
   "execution_count": 6,
   "metadata": {
    "pycharm": {
     "name": "#%%\n"
    }
   },
   "outputs": [],
   "source": [
    "# Unpacking을 이용하여 Axes 객체 이용하기\n",
    "fig, (ax1, ax2) = plt.subplots(2, 1, figsize=(7, 7), facecolor='linen')\n",
    "plt.show()"
   ]
  },
  {
   "cell_type": "code",
   "execution_count": 8,
   "metadata": {
    "pycharm": {
     "name": "#%%\n"
    }
   },
   "outputs": [
    {
     "name": "stdout",
     "output_type": "stream",
     "text": [
      "AxesSubplot(0.125,0.814746;0.775x0.0652542)\n",
      "AxesSubplot(0.125,0.736441;0.775x0.0652542)\n",
      "AxesSubplot(0.125,0.658136;0.775x0.0652542)\n",
      "AxesSubplot(0.125,0.579831;0.775x0.0652542)\n",
      "AxesSubplot(0.125,0.501525;0.775x0.0652542)\n",
      "AxesSubplot(0.125,0.42322;0.775x0.0652542)\n",
      "AxesSubplot(0.125,0.344915;0.775x0.0652542)\n",
      "AxesSubplot(0.125,0.26661;0.775x0.0652542)\n",
      "AxesSubplot(0.125,0.188305;0.775x0.0652542)\n",
      "AxesSubplot(0.125,0.11;0.775x0.0652542)\n"
     ]
    }
   ],
   "source": [
    "fig, axes = plt.subplots(10, 1, figsize=(7, 7), facecolor='linen')\n",
    "\n",
    "ax: Axes\n",
    "for ax in axes:\n",
    "    print(ax)\n",
    "\n",
    "plt.show()"
   ]
  },
  {
   "cell_type": "code",
   "execution_count": 10,
   "metadata": {
    "pycharm": {
     "name": "#%%\n"
    }
   },
   "outputs": [
    {
     "name": "stdout",
     "output_type": "stream",
     "text": [
      "[[<AxesSubplot:> <AxesSubplot:>]\n",
      " [<AxesSubplot:> <AxesSubplot:>]]\n",
      "[<AxesSubplot:> <AxesSubplot:>]\n",
      "AxesSubplot(0.125,0.53;0.352273x0.35)\n"
     ]
    }
   ],
   "source": [
    "fig, axes = plt.subplots(2, 2, figsize=(7, 7), facecolor='linen')\n",
    "\n",
    "# 2 X 2 배열은 For 문을 2개 사용해야 하므로 For 문으로 처리하기가 수월하지 않다.\n",
    "print(axes)\n",
    "print(axes[0])\n",
    "print(axes[0][0])"
   ]
  },
  {
   "cell_type": "code",
   "execution_count": 11,
   "metadata": {
    "pycharm": {
     "name": "#%%\n"
    }
   },
   "outputs": [
    {
     "name": "stdout",
     "output_type": "stream",
     "text": [
      "0 AxesSubplot(0.125,0.53;0.352273x0.35)\n",
      "1 AxesSubplot(0.547727,0.53;0.352273x0.35)\n",
      "2 AxesSubplot(0.125,0.11;0.352273x0.35)\n",
      "3 AxesSubplot(0.547727,0.11;0.352273x0.35)\n"
     ]
    }
   ],
   "source": [
    "# flat 메소드와 enumerate 함수를 이용하여 축을 사용하기\n",
    "\n",
    "fig, axes = plt.subplots(2, 2)\n",
    "\n",
    "for idx, ax in enumerate(axes.flat):\n",
    "    print(idx, ax)"
   ]
  },
  {
   "cell_type": "code",
   "execution_count": 13,
   "metadata": {
    "pycharm": {
     "name": "#%%\n"
    }
   },
   "outputs": [],
   "source": [
    "title_list = ['Training Image', '2 scales', '4 scales', '5 scales', '6 scales', '8 scales']\n",
    "\n",
    "fig, axes = plt.subplots(2, 3, figsize=(20, 10))\n",
    "\n",
    "for ax_idx, ax in enumerate(axes.flat):\n",
    "    ax.set_title(title_list[ax_idx], fontsize=20)\n"
   ]
  },
  {
   "cell_type": "code",
   "execution_count": null,
   "metadata": {
    "pycharm": {
     "name": "#%%\n"
    }
   },
   "outputs": [],
   "source": []
  }
 ],
 "metadata": {
  "kernelspec": {
   "display_name": "Python 3 (ipykernel)",
   "language": "python",
   "name": "python3"
  },
  "language_info": {
   "codemirror_mode": {
    "name": "ipython",
    "version": 3
   },
   "file_extension": ".py",
   "mimetype": "text/x-python",
   "name": "python",
   "nbconvert_exporter": "python",
   "pygments_lexer": "ipython3",
   "version": "3.8.10"
  }
 },
 "nbformat": 4,
 "nbformat_minor": 1
}