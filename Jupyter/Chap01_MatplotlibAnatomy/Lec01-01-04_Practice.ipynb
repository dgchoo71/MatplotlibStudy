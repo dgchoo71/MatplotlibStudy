{
 "cells": [
  {
   "cell_type": "markdown",
   "metadata": {
    "pycharm": {
     "name": "#%% md\n"
    }
   },
   "source": [
    "## 첫번째 연습문제"
   ]
  },
  {
   "cell_type": "code",
   "execution_count": 1,
   "outputs": [],
   "source": [
    "%matplotlib qt"
   ],
   "metadata": {
    "collapsed": false,
    "pycharm": {
     "name": "#%%\n"
    }
   }
  },
  {
   "cell_type": "code",
   "execution_count": 2,
   "outputs": [],
   "source": [
    "import matplotlib.pyplot as plt\n",
    "from matplotlib.figure import Figure\n",
    "from matplotlib.axes import Axes\n",
    "import numpy as np\n",
    "\n",
    "fig: Figure = plt.figure(figsize=(5, 5))\n",
    "\n",
    "# add_subplot을 이용하는 방법\n",
    "ax1: Axes = fig.add_subplot(311)\n",
    "ax2: Axes = fig.add_subplot(312)\n",
    "ax3: Axes = fig.add_subplot(313)"
   ],
   "metadata": {
    "collapsed": false,
    "pycharm": {
     "name": "#%%\n"
    }
   }
  },
  {
   "cell_type": "code",
   "execution_count": 3,
   "metadata": {
    "pycharm": {
     "name": "#%%\n"
    }
   },
   "outputs": [],
   "source": [
    "# subplots를 이용하는 방법\n",
    "fig: Figure\n",
    "axes: np.ndarray\n",
    "fig, axes = plt.subplots(3, 1, figsize=(5, 5))"
   ]
  },
  {
   "cell_type": "code",
   "execution_count": 4,
   "metadata": {
    "pycharm": {
     "name": "#%%\n"
    }
   },
   "outputs": [],
   "source": [
    "# plt.subplo2grid를 이용하는 방법\n",
    "fig: Figure = plt.figure(figsize=(5, 5))\n",
    "ax1: Axes = plt.subplot2grid((3, 1), (0, 0), fig=fig)\n",
    "ax2: Axes = plt.subplot2grid((3, 1), (1, 0), fig=fig)\n",
    "ax3: Axes = plt.subplot2grid((3, 1), (2, 0), fig=fig)"
   ]
  },
  {
   "cell_type": "markdown",
   "metadata": {
    "pycharm": {
     "name": "#%% md\n"
    }
   },
   "source": [
    "## 두번째 연습문제"
   ]
  },
  {
   "cell_type": "code",
   "execution_count": 5,
   "metadata": {
    "pycharm": {
     "name": "#%%\n"
    }
   },
   "outputs": [],
   "source": [
    "# add_subplot을 이용하여 2행 2열 축 그리기\n",
    "fig: Figure = plt.figure(figsize=(5, 5))\n",
    "\n",
    "ax1: Axes = fig.add_subplot(221)\n",
    "ax2: Axes = fig.add_subplot(222)\n",
    "ax3: Axes = fig.add_subplot(223)\n",
    "ax4: Axes = fig.add_subplot(224)"
   ]
  },
  {
   "cell_type": "code",
   "execution_count": 6,
   "metadata": {
    "pycharm": {
     "name": "#%%\n"
    }
   },
   "outputs": [],
   "source": [
    "# subplot2를 이용하기\n",
    "fig: Figure\n",
    "axes: np.ndarray\n",
    "fig, axes = plt.subplots(2, 2, figsize=(5, 5))"
   ]
  },
  {
   "cell_type": "code",
   "execution_count": 7,
   "metadata": {
    "pycharm": {
     "name": "#%%\n"
    }
   },
   "outputs": [],
   "source": [
    "# plt.subplot2grid 이용하기\n",
    "fig: Figure = plt.figure(figsize=(5, 5))\n",
    "\n",
    "ax1: Axes = plt.subplot2grid((2, 2), (0, 0), fig=fig)\n",
    "ax2: Axes = plt.subplot2grid((2, 2), (0, 1), fig=fig)\n",
    "ax3: Axes = plt.subplot2grid((2, 2), (1, 0), fig=fig)\n",
    "ax4: Axes = plt.subplot2grid((2, 2), (1, 1), fig=fig)"
   ]
  },
  {
   "cell_type": "markdown",
   "metadata": {
    "pycharm": {
     "name": "#%% md\n"
    }
   },
   "source": [
    "## 세번째 연습문제"
   ]
  },
  {
   "cell_type": "code",
   "execution_count": 8,
   "metadata": {
    "pycharm": {
     "name": "#%%\n"
    }
   },
   "outputs": [],
   "source": [
    "# add_subplot 사용하기\n",
    "\n",
    "fig: Figure = plt.figure(figsize=(10, 7))\n",
    "ax1: Axes = fig.add_subplot(121)\n",
    "ax2: Axes = fig.add_subplot(222, projection='3d')\n",
    "ax3: Axes = fig.add_subplot(224, projection='3d')"
   ]
  },
  {
   "cell_type": "code",
   "execution_count": 9,
   "metadata": {
    "pycharm": {
     "name": "#%%\n"
    }
   },
   "outputs": [],
   "source": [
    "# plt.subplot2grid 사용하기\n",
    "fig: Figure = plt.figure(figsize=(10, 7))\n",
    "ax1: Axes = plt.subplot2grid((2, 2), (0, 0), rowspan=2, fig=fig)\n",
    "ax2: Axes = plt.subplot2grid((2, 2), (0, 1), projection='3d', fig=fig)\n",
    "ax3: Axes = plt.subplot2grid((2, 2), (1, 1), projection='3d', fig=fig)"
   ]
  },
  {
   "cell_type": "markdown",
   "metadata": {
    "pycharm": {
     "name": "#%% md\n"
    }
   },
   "source": [
    "## 네번째 연습문제"
   ]
  },
  {
   "cell_type": "code",
   "execution_count": 11,
   "metadata": {
    "pycharm": {
     "name": "#%%\n"
    }
   },
   "outputs": [],
   "source": [
    "fig: Figure = plt.figure(figsize=(10, 10), facecolor='linen')\n",
    "\n",
    "# 빈 1차원 배열을 하나 생성하고 새로 생성되는 객체들을 추가한다.\n",
    "axes: np.ndarray = np.empty(shape=(0,))\n",
    "\n",
    "axes = np.append(axes, plt.subplot2grid((5, 4), (0, 0), rowspan=2, colspan=2, fig=fig))\n",
    "axes = np.append(axes, plt.subplot2grid((5, 4), (0, 2), rowspan=2, colspan=2, fig=fig))\n",
    "\n",
    "# 루프 하나를 행과 열의 위치를 계산한다.\n",
    "for idx in range(12):\n",
    "    r_idx = idx // 4 + 2\n",
    "    c_idx = idx % 4\n",
    "    axes = np.append(axes, plt.subplot2grid((5, 4), (r_idx, c_idx)))"
   ]
  },
  {
   "cell_type": "code",
   "execution_count": 25,
   "metadata": {
    "pycharm": {
     "name": "#%%\n"
    }
   },
   "outputs": [
    {
     "name": "stdout",
     "output_type": "stream",
     "text": [
      "2 0\n",
      "2 1\n",
      "2 2\n",
      "2 3\n",
      "3 0\n",
      "3 1\n",
      "3 2\n",
      "3 3\n",
      "4 0\n",
      "4 1\n",
      "4 2\n",
      "4 3\n"
     ]
    }
   ],
   "source": [
    "for i in range(12):\n",
    "    print(i // 4 + 2, i % 4)"
   ]
  },
  {
   "cell_type": "code",
   "execution_count": null,
   "metadata": {
    "pycharm": {
     "name": "#%%\n"
    }
   },
   "outputs": [],
   "source": []
  }
 ],
 "metadata": {
  "kernelspec": {
   "display_name": "Python 3 (ipykernel)",
   "language": "python",
   "name": "python3"
  },
  "language_info": {
   "codemirror_mode": {
    "name": "ipython",
    "version": 3
   },
   "file_extension": ".py",
   "mimetype": "text/x-python",
   "name": "python",
   "nbconvert_exporter": "python",
   "pygments_lexer": "ipython3",
   "version": "3.8.10"
  }
 },
 "nbformat": 4,
 "nbformat_minor": 1
}