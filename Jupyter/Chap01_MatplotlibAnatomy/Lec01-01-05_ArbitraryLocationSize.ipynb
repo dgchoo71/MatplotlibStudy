{
 "cells": [
  {
   "cell_type": "markdown",
   "metadata": {
    "collapsed": true,
    "pycharm": {
     "name": "#%% md\n"
    }
   },
   "source": [
    "# 임의의 위치와 크기의 축 만들기"
   ]
  },
  {
   "cell_type": "code",
   "execution_count": 1,
   "outputs": [],
   "source": [
    "%matplotlib qt"
   ],
   "metadata": {
    "collapsed": false,
    "pycharm": {
     "name": "#%%\n"
    }
   }
  },
  {
   "cell_type": "code",
   "execution_count": 2,
   "outputs": [],
   "source": [
    "# figure에 꽉찬 크기의 축을 그리기\n",
    "import matplotlib.pyplot as plt\n",
    "from matplotlib.figure import Figure\n",
    "from matplotlib.axes import Axes\n",
    "import numpy as np\n",
    "\n",
    "fig: Figure = plt.figure(figsize=(7, 7), facecolor='linen')\n",
    "ax: Axes = fig.add_axes([0, 0, 1, 1])"
   ],
   "metadata": {
    "collapsed": false,
    "pycharm": {
     "name": "#%%\n"
    }
   }
  },
  {
   "cell_type": "code",
   "execution_count": 3,
   "metadata": {
    "pycharm": {
     "name": "#%%\n"
    }
   },
   "outputs": [],
   "source": [
    "fig: Figure = plt.figure(figsize=(7, 7), facecolor='linen')\n",
    "ax: Axes = fig.add_axes([0.1, 0.1, 0.8, 0.8])"
   ]
  },
  {
   "cell_type": "code",
   "execution_count": 4,
   "metadata": {
    "pycharm": {
     "name": "#%%\n"
    }
   },
   "outputs": [],
   "source": [
    "fig: Figure = plt.figure(figsize=(7, 7), facecolor='linen')\n",
    "\n",
    "rect1 = [0.1, 0.1, 0.5, 0.5]\n",
    "rect2 = [0.7, 0.1, 0.2, 0.5]\n",
    "rect3 = [0.1, 0.7, 0.8, 0.2]\n",
    "\n",
    "ax1: Axes = fig.add_axes(rect1)\n",
    "ax2: Axes = fig.add_axes(rect2)\n",
    "ax3: Axes = fig.add_axes(rect3)"
   ]
  },
  {
   "cell_type": "code",
   "execution_count": 5,
   "metadata": {
    "pycharm": {
     "name": "#%%\n"
    }
   },
   "outputs": [],
   "source": [
    "# auto scaling\n",
    "left, bottom = 0.1, 0.1\n",
    "spacing = 0.005\n",
    "\n",
    "width1, height1 = 0.65, 0.65\n",
    "width2 = 1 - (2 * left + width1 + spacing)\n",
    "height2 = 1 - (2 * bottom + height1 + spacing)\n",
    "\n",
    "rect1 = [left, bottom, width1, height1]\n",
    "rect2 = [left, bottom + height1 + spacing, width1, height2]\n",
    "rect3 = [left + width1 + spacing, bottom, width2, height1]\n",
    "\n",
    "fig: Figure = plt.figure(figsize=(7,7))\n",
    "ax1: Axes = fig.add_axes(rect1)\n",
    "ax2: Axes = fig.add_axes(rect2)\n",
    "ax3: Axes = fig.add_axes(rect3)"
   ]
  },
  {
   "cell_type": "markdown",
   "metadata": {
    "pycharm": {
     "name": "#%% md\n"
    }
   },
   "source": [
    "## Zoom Axes"
   ]
  },
  {
   "cell_type": "code",
   "execution_count": 6,
   "metadata": {
    "pycharm": {
     "name": "#%%\n"
    }
   },
   "outputs": [],
   "source": [
    "fig = plt.figure(figsize=(7, 7), facecolor='linen')\n",
    "\n",
    "ax = fig.add_subplot(111)\n",
    "ax_zoom = fig.add_axes([0.4, 0.4, 0.45, 0.45])"
   ]
  },
  {
   "cell_type": "markdown",
   "metadata": {
    "pycharm": {
     "name": "#%% md\n"
    }
   },
   "source": [
    "```python\n",
    "Figure와 Axes 생성 방법 정리\n",
    "\n",
    "fig = plt.figure()\n",
    "    ax = fig.add_subplot()\n",
    "    ax = fig.add_axes()\n",
    "    ax = plt.subplot2grid(fig=fig)\n",
    "\n",
    "fig, axes = plt.subplots()\n",
    "```"
   ]
  },
  {
   "cell_type": "code",
   "execution_count": null,
   "metadata": {
    "pycharm": {
     "name": "#%%\n"
    }
   },
   "outputs": [],
   "source": []
  }
 ],
 "metadata": {
  "kernelspec": {
   "display_name": "Python 3 (ipykernel)",
   "language": "python",
   "name": "python3"
  },
  "language_info": {
   "codemirror_mode": {
    "name": "ipython",
    "version": 3
   },
   "file_extension": ".py",
   "mimetype": "text/x-python",
   "name": "python",
   "nbconvert_exporter": "python",
   "pygments_lexer": "ipython3",
   "version": "3.8.10"
  }
 },
 "nbformat": 4,
 "nbformat_minor": 1
}