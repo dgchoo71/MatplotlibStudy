{
 "cells": [
  {
   "cell_type": "code",
   "execution_count": 1,
   "metadata": {
    "collapsed": true
   },
   "outputs": [],
   "source": [
    "%matplotlib qt"
   ]
  },
  {
   "cell_type": "code",
   "execution_count": 2,
   "outputs": [],
   "source": [
    "import matplotlib.pyplot as plt\n",
    "from matplotlib.figure import Figure\n",
    "from matplotlib.axes import Axes\n",
    "import numpy as np\n",
    "import numpy.typing as npt\n",
    "from matplotlib.spines import Spines, Spine"
   ],
   "metadata": {
    "collapsed": false,
    "pycharm": {
     "name": "#%%\n"
    }
   }
  },
  {
   "cell_type": "code",
   "execution_count": 34,
   "outputs": [],
   "source": [
    "fig: Figure\n",
    "ax: Axes\n",
    "\n",
    "fig, ax = plt.subplots()\n",
    "\n",
    "spine: Spine\n",
    "for spine_loc, spine in ax.spines.items():\n",
    "    if spine_loc in ['bottom', 'right', 'top']:\n",
    "        spine.set_visible(False)\n",
    "    elif spine_loc == 'left':\n",
    "        # 왼쪽 spine을 중앙에 위치시킨다.\n",
    "        spine.set_position('center')\n",
    "\n",
    "ax.tick_params(bottom=False, labelbottom=False)"
   ],
   "metadata": {
    "collapsed": false,
    "pycharm": {
     "name": "#%%\n"
    }
   }
  },
  {
   "cell_type": "code",
   "execution_count": 35,
   "outputs": [],
   "source": [
    "# 왼쪽과 아래쪽의 spine을 중앙에 위치시킨다.\n",
    "fig, ax = plt.subplots()\n",
    "\n",
    "for spine_loc, spine in ax.spines.items():\n",
    "    if spine_loc in ['right', 'top']:\n",
    "        spine.set_visible(False)\n",
    "\n",
    "    elif spine_loc in ['left', 'bottom']:\n",
    "        spine.set_position('center')"
   ],
   "metadata": {
    "collapsed": false,
    "pycharm": {
     "name": "#%%\n"
    }
   }
  },
  {
   "cell_type": "code",
   "execution_count": 36,
   "outputs": [],
   "source": [
    "# 왼쪽 spine만 중앙으로 이동\n",
    "fig, ax = plt.subplots()\n",
    "\n",
    "for spine_loc, spine in ax.spines.items():\n",
    "    if spine_loc in ['right', 'top']:\n",
    "        spine.set_visible(False)\n",
    "\n",
    "    elif spine_loc == 'left':\n",
    "        spine.set_position('center')"
   ],
   "metadata": {
    "collapsed": false,
    "pycharm": {
     "name": "#%%\n"
    }
   }
  },
  {
   "cell_type": "code",
   "execution_count": 37,
   "outputs": [],
   "source": [
    "# 아래쪽 spine을 중앙으로 이동\n",
    "fig, ax = plt.subplots()\n",
    "\n",
    "for spine_loc, spine in ax.spines.items():\n",
    "    if spine_loc in ['right', 'top']:\n",
    "        spine.set_visible(False)\n",
    "\n",
    "    elif spine_loc == 'bottom':\n",
    "        spine.set_position('center')"
   ],
   "metadata": {
    "collapsed": false,
    "pycharm": {
     "name": "#%%\n"
    }
   }
  },
  {
   "cell_type": "code",
   "execution_count": 38,
   "outputs": [],
   "source": [
    "# 위쪽 spine을 보이고, 오른쪽 spine을 가운데로 이동\n",
    "fig, ax = plt.subplots()\n",
    "\n",
    "for spine_loc, spine in ax.spines.items():\n",
    "    if spine_loc in ['left', 'bottom']:\n",
    "        spine.set_visible(False)\n",
    "\n",
    "    elif spine_loc in ['right']:\n",
    "        spine.set_position('center')\n",
    "\n",
    "# tick, ticklabel 설정\n",
    "ax.tick_params(labelsize=20,\n",
    "               bottom=False, labelbottom=False,\n",
    "               left=False, labelleft=False,\n",
    "               right=True, labelright=True,\n",
    "               top=True, labeltop=True)"
   ],
   "metadata": {
    "collapsed": false,
    "pycharm": {
     "name": "#%%\n"
    }
   }
  },
  {
   "cell_type": "code",
   "execution_count": 39,
   "outputs": [],
   "source": [
    "# 위쪽 spine을 중앙으로 이동\n",
    "fig, ax = plt.subplots(figsize=(7,7))\n",
    "\n",
    "for spine_loc, spine in ax.spines.items():\n",
    "    if spine_loc in ['left', 'bottom']:\n",
    "        spine.set_visible(False)\n",
    "\n",
    "    elif spine_loc == 'top':\n",
    "        spine.set_position('center')\n",
    "\n",
    "ax.tick_params(labelsize=20,\n",
    "               bottom=False, labelbottom=False,\n",
    "               left=False, labelleft=False,\n",
    "               right=True, labelright=True,\n",
    "               top=True, labeltop=True)"
   ],
   "metadata": {
    "collapsed": false,
    "pycharm": {
     "name": "#%%\n"
    }
   }
  },
  {
   "cell_type": "markdown",
   "source": [
    "### 연습1"
   ],
   "metadata": {
    "collapsed": false,
    "pycharm": {
     "name": "#%% md\n"
    }
   }
  },
  {
   "cell_type": "code",
   "execution_count": 40,
   "outputs": [],
   "source": [
    "noise_data = np.random.normal(0, 1, (100,))\n",
    "\n",
    "fig, ax = plt.subplots(figsize=(10, 5))\n",
    "ax.plot(noise_data)\n",
    "\n",
    "fig.tight_layout()\n",
    "ax.tick_params(labelsize=15)\n",
    "\n",
    "# ------------------------\n",
    "# spine 설정\n",
    "for spine_loc, spine in ax.spines.items():\n",
    "    if spine_loc in ['right', 'top']:\n",
    "        spine.set_visible(False)\n",
    "\n",
    "    if spine_loc in ['bottom']:\n",
    "        spine.set_position('center')\n",
    "\n",
    "    if spine_loc in ['left', 'bottom']:\n",
    "        spine.set_color('navy')\n",
    "        spine.set_linewidth(2)"
   ],
   "metadata": {
    "collapsed": false,
    "pycharm": {
     "name": "#%%\n"
    }
   }
  },
  {
   "cell_type": "markdown",
   "source": [
    "### 연습문제2"
   ],
   "metadata": {
    "collapsed": false,
    "pycharm": {
     "name": "#%% md\n"
    }
   }
  },
  {
   "cell_type": "code",
   "execution_count": 41,
   "outputs": [],
   "source": [
    "t = np.linspace(-10, 10, 500)\n",
    "sin = np.sin(t)\n",
    "\n",
    "fig, ax = plt.subplots(figsize=(15, 7))\n",
    "ax.plot(t, sin)\n",
    "\n",
    "fig.tight_layout()\n",
    "ax.tick_params(labelsize=20)\n",
    "\n",
    "# -------------\n",
    "# spine 설정\n",
    "for spine_loc, spine in ax.spines.items():\n",
    "    if spine_loc in ['right', 'top']:\n",
    "        spine.set_visible(False)\n",
    "\n",
    "    if spine_loc in ['bottom', 'left']:\n",
    "        spine.set_position('center')"
   ],
   "metadata": {
    "collapsed": false,
    "pycharm": {
     "name": "#%%\n"
    }
   }
  },
  {
   "cell_type": "markdown",
   "source": [
    "### tuple argument를 이용하여 spine을 이동하기"
   ],
   "metadata": {
    "collapsed": false,
    "pycharm": {
     "name": "#%% md\n"
    }
   }
  },
  {
   "cell_type": "code",
   "execution_count": 42,
   "outputs": [],
   "source": [
    "fig, ax = plt.subplots()\n",
    "\n",
    "for spine_loc, spine in ax.spines.items():\n",
    "    if spine_loc in ['bottom', 'right', 'top']:\n",
    "        spine.set_visible(False)\n",
    "\n",
    "ax.tick_params(bottom=False, labelbottom=False)\n",
    "\n",
    "# 문자열 매개변수를 이용하여 spine 이동\n",
    "# ax.spines['left'].set_position('center')\n",
    "\n",
    "# tuple argument를 이용하여 spine을 이동\n",
    "# 이 방법을 이용하면 spine의 위치를 0부터 1사이의 값으로 자유롭게 이동시킬 수 있다.\n",
    "ax.spines['left'].set_position(('axes', 0.5))"
   ],
   "metadata": {
    "collapsed": false,
    "pycharm": {
     "name": "#%%\n"
    }
   }
  },
  {
   "cell_type": "code",
   "execution_count": 43,
   "outputs": [],
   "source": [
    "fig, ax = plt.subplots()\n",
    "\n",
    "for spine_loc, spine in ax.spines.items():\n",
    "    if spine_loc in ['bottom', 'right', 'top']:\n",
    "        spine.set_visible(False)\n",
    "\n",
    "ax.tick_params(bottom=False, labelbottom=False)\n",
    "ax.spines['left'].set_position(('axes', 0.1))"
   ],
   "metadata": {
    "collapsed": false,
    "pycharm": {
     "name": "#%%\n"
    }
   }
  },
  {
   "cell_type": "code",
   "execution_count": 44,
   "outputs": [],
   "source": [
    "fig, ax = plt.subplots()\n",
    "\n",
    "for spine_loc, spine in ax.spines.items():\n",
    "    if spine_loc in ['bottom', 'right', 'top']:\n",
    "        spine.set_visible(False)\n",
    "\n",
    "ax.tick_params(bottom=False, labelbottom=False)\n",
    "ax.spines['left'].set_position(('axes', 0.8))"
   ],
   "metadata": {
    "collapsed": false,
    "pycharm": {
     "name": "#%%\n"
    }
   }
  },
  {
   "cell_type": "code",
   "execution_count": 45,
   "outputs": [],
   "source": [
    "# spine을 중앙으로 옮기면 값과는 데이터와는 무관하게 이동한다.\n",
    "x_data = np.random.normal(2, 3, (100,))\n",
    "y_data = np.random.normal(2, 3, (100,))\n",
    "\n",
    "fig, ax = plt.subplots(figsize=(7, 7))\n",
    "ax.scatter(x_data, y_data)\n",
    "\n",
    "ax.tick_params(labelsize=15)\n",
    "fig.tight_layout()\n",
    "\n",
    "for spine_loc, spine in ax.spines.items():\n",
    "    if spine_loc in ['right', 'top']:\n",
    "        spine.set_visible(False)\n",
    "\n",
    "    if spine_loc in ['left', 'bottom']:\n",
    "        spine.set_position('center')"
   ],
   "metadata": {
    "collapsed": false,
    "pycharm": {
     "name": "#%%\n"
    }
   }
  },
  {
   "cell_type": "code",
   "execution_count": 46,
   "outputs": [],
   "source": [
    "# 데이터를 기준으로 spine을 이동\n",
    "np.random.seed(0)\n",
    "\n",
    "t_min, t_max = 0, 100\n",
    "n_data = 100\n",
    "\n",
    "t = np.linspace(t_min, t_max, n_data)\n",
    "noise_data = np.random.normal(0, 1, size=(n_data,))\n",
    "\n",
    "fig, ax = plt.subplots(figsize=(7, 7))\n",
    "ax.plot(t, noise_data)\n",
    "\n",
    "ax.tick_params(labelsize=15)\n",
    "fig.tight_layout()\n",
    "\n",
    "for spine_loc, spine in ax.spines.items():\n",
    "    if spine_loc in ['right', 'top']:\n",
    "        spine.set_visible(False)\n",
    "\n",
    "    # 데이터를 기준으로 spine 옮기기\n",
    "    if spine_loc in ['bottom', 'left']:\n",
    "        spine.set_position(('data', 0))"
   ],
   "metadata": {
    "collapsed": false,
    "pycharm": {
     "name": "#%%\n"
    }
   }
  },
  {
   "cell_type": "code",
   "execution_count": 47,
   "outputs": [],
   "source": [
    "np.random.seed(0)\n",
    "\n",
    "t_min, t_max = -5, 10\n",
    "n_data = 100\n",
    "\n",
    "t = np.linspace(t_min, t_max, n_data)\n",
    "noise_data = np.random.normal(0, 1, size=(n_data,))\n",
    "\n",
    "fig, ax = plt.subplots(figsize=(7, 7))\n",
    "ax.plot(t, noise_data)\n",
    "\n",
    "ax.tick_params(labelsize=15)\n",
    "fig.tight_layout()\n",
    "\n",
    "for spine_loc, spine in ax.spines.items():\n",
    "    if spine_loc in ['right', 'top']:\n",
    "        spine.set_visible(False)\n",
    "\n",
    "    # 데이터를 기준으로 spine 옮기기\n",
    "    if spine_loc in ['bottom', 'left']:\n",
    "        spine.set_position(('data', 0))"
   ],
   "metadata": {
    "collapsed": false,
    "pycharm": {
     "name": "#%%\n"
    }
   }
  },
  {
   "cell_type": "code",
   "execution_count": 48,
   "outputs": [],
   "source": [
    "np.random.seed(0)\n",
    "\n",
    "t_min, t_max = -10, 5\n",
    "n_data = 100\n",
    "\n",
    "t = np.linspace(t_min, t_max, n_data)\n",
    "noise_data = np.random.normal(0, 1, size=(n_data,))\n",
    "\n",
    "fig, ax = plt.subplots(figsize=(7, 7))\n",
    "ax.plot(t, noise_data)\n",
    "\n",
    "ax.tick_params(labelsize=15)\n",
    "fig.tight_layout()\n",
    "\n",
    "for spine_loc, spine in ax.spines.items():\n",
    "    if spine_loc in ['right', 'top']:\n",
    "        spine.set_visible(False)\n",
    "\n",
    "    # 데이터를 기준으로 spine 옮기기\n",
    "    if spine_loc in ['bottom', 'left']:\n",
    "        spine.set_position(('data', 0))"
   ],
   "metadata": {
    "collapsed": false,
    "pycharm": {
     "name": "#%%\n"
    }
   }
  },
  {
   "cell_type": "code",
   "execution_count": 49,
   "outputs": [],
   "source": [
    "np.random.seed(0)\n",
    "\n",
    "t_min, t_max = -5, 5\n",
    "n_data = 100\n",
    "\n",
    "t = np.linspace(t_min, t_max, n_data)\n",
    "\n",
    "# 데이터에 편항을 추가\n",
    "noise_data = np.random.normal(0, 1, size=(n_data,)) + 2\n",
    "\n",
    "fig, ax = plt.subplots(figsize=(7, 7))\n",
    "ax.plot(t, noise_data)\n",
    "\n",
    "ax.tick_params(labelsize=15)\n",
    "fig.tight_layout()\n",
    "\n",
    "for spine_loc, spine in ax.spines.items():\n",
    "    if spine_loc in ['right', 'top']:\n",
    "        spine.set_visible(False)\n",
    "\n",
    "    # 데이터를 기준으로 spine 옮기기\n",
    "    if spine_loc in ['bottom', 'left']:\n",
    "        spine.set_position(('data', 0))"
   ],
   "metadata": {
    "collapsed": false,
    "pycharm": {
     "name": "#%%\n"
    }
   }
  },
  {
   "cell_type": "code",
   "execution_count": 50,
   "outputs": [],
   "source": [
    "np.random.seed(0)\n",
    "\n",
    "t_min, t_max = -5, 5\n",
    "n_data = 100\n",
    "\n",
    "t = np.linspace(t_min, t_max, n_data)\n",
    "\n",
    "# 데이터에 편항을 추가\n",
    "noise_data = np.random.normal(0, 1, size=(n_data,)) - 2\n",
    "\n",
    "fig, ax = plt.subplots(figsize=(7, 7))\n",
    "ax.plot(t, noise_data)\n",
    "\n",
    "ax.tick_params(labelsize=15)\n",
    "fig.tight_layout()\n",
    "\n",
    "for spine_loc, spine in ax.spines.items():\n",
    "    if spine_loc in ['right', 'top']:\n",
    "        spine.set_visible(False)\n",
    "\n",
    "    # 데이터를 기준으로 spine 옮기기\n",
    "    if spine_loc in ['bottom', 'left']:\n",
    "        spine.set_position(('data', 0))"
   ],
   "metadata": {
    "collapsed": false,
    "pycharm": {
     "name": "#%%\n"
    }
   }
  },
  {
   "cell_type": "code",
   "execution_count": 51,
   "outputs": [],
   "source": [
    "x_data = np.random.normal(2, 3, (100,))\n",
    "y_data = np.random.normal(2, 3, (100,))\n",
    "\n",
    "fig, ax = plt.subplots(figsize=(7, 7))\n",
    "ax.scatter(x_data, y_data)\n",
    "\n",
    "ax.tick_params(labelsize=15)\n",
    "fig.tight_layout()\n",
    "\n",
    "for spine_loc, spine in ax.spines.items():\n",
    "    if spine_loc in ['right', 'top']:\n",
    "        spine.set_visible(False)\n",
    "\n",
    "    if spine_loc in ['left', 'bottom']:\n",
    "        spine.set_position(('data', 0))"
   ],
   "metadata": {
    "collapsed": false,
    "pycharm": {
     "name": "#%%\n"
    }
   }
  },
  {
   "cell_type": "code",
   "execution_count": 52,
   "outputs": [],
   "source": [
    "x_data = np.random.normal(5, 3, (500,))\n",
    "y_data = np.random.normal(3, 3, (500,))\n",
    "\n",
    "fig, ax = plt.subplots(figsize=(9, 9))\n",
    "ax.scatter(x_data, y_data)\n",
    "\n",
    "ax.tick_params(labelsize=10, colors='red')\n",
    "fig.tight_layout()\n",
    "\n",
    "# spine 설정\n",
    "# x값의 평균은 5, y값의 평균은 3이라고 가정\n",
    "for spine_loc, spine in ax.spines.items():\n",
    "    if spine_loc in ['right', 'top']:\n",
    "        spine.set_visible(False)\n",
    "\n",
    "    if spine_loc in ['left']:\n",
    "        spine.set_position(('data', 5))\n",
    "        spine.set_color('red')\n",
    "\n",
    "    if spine_loc in ['bottom']:\n",
    "        spine.set_position(('data', 3))\n",
    "        spine.set_color('red')"
   ],
   "metadata": {
    "collapsed": false,
    "pycharm": {
     "name": "#%%\n"
    }
   }
  },
  {
   "cell_type": "code",
   "execution_count": null,
   "outputs": [],
   "source": [],
   "metadata": {
    "collapsed": false,
    "pycharm": {
     "name": "#%%\n"
    }
   }
  }
 ],
 "metadata": {
  "kernelspec": {
   "display_name": "Python 3",
   "language": "python",
   "name": "python3"
  },
  "language_info": {
   "codemirror_mode": {
    "name": "ipython",
    "version": 2
   },
   "file_extension": ".py",
   "mimetype": "text/x-python",
   "name": "python",
   "nbconvert_exporter": "python",
   "pygments_lexer": "ipython2",
   "version": "2.7.6"
  }
 },
 "nbformat": 4,
 "nbformat_minor": 0
}