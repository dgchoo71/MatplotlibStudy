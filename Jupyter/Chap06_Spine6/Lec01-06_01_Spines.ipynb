{
 "cells": [
  {
   "cell_type": "code",
   "execution_count": 1,
   "metadata": {
    "collapsed": true
   },
   "outputs": [],
   "source": [
    "%matplotlib qt"
   ]
  },
  {
   "cell_type": "code",
   "execution_count": 2,
   "outputs": [],
   "source": [
    "import matplotlib.pyplot as plt\n",
    "from matplotlib.figure import Figure\n",
    "from matplotlib.axes import Axes\n",
    "import numpy as np\n",
    "import numpy.typing as npt\n",
    "from matplotlib.spines import Spines, Spine"
   ],
   "metadata": {
    "collapsed": false,
    "pycharm": {
     "name": "#%%\n"
    }
   }
  },
  {
   "cell_type": "markdown",
   "source": [
    "### Spines 객체는 OrderedDict 형식이다."
   ],
   "metadata": {
    "collapsed": false,
    "pycharm": {
     "name": "#%% md\n"
    }
   }
  },
  {
   "cell_type": "code",
   "execution_count": 3,
   "outputs": [
    {
     "name": "stdout",
     "output_type": "stream",
     "text": [
      "<class 'matplotlib.spines.Spines'>\n",
      "<matplotlib.spines.Spines object at 0x0000020FA886C640>\n",
      "['left', 'right', 'bottom', 'top']\n",
      "[<matplotlib.spines.Spine object at 0x0000020FA886C6D0>, <matplotlib.spines.Spine object at 0x0000020FA886C730>, <matplotlib.spines.Spine object at 0x0000020FA886C940>, <matplotlib.spines.Spine object at 0x0000020FA886CA60>]\n"
     ]
    }
   ],
   "source": [
    "fig: Figure\n",
    "ax: Axes\n",
    "fig, ax = plt.subplots(figsize=(7, 7))\n",
    "\n",
    "print(type(ax.spines))\n",
    "print(ax.spines)\n",
    "print(list(ax.spines.keys()))\n",
    "print(list(ax.spines.values()))"
   ],
   "metadata": {
    "collapsed": false,
    "pycharm": {
     "name": "#%%\n"
    }
   }
  },
  {
   "cell_type": "code",
   "execution_count": 6,
   "outputs": [
    {
     "name": "stdout",
     "output_type": "stream",
     "text": [
      "left - Spine\n",
      "right - Spine\n",
      "bottom - Spine\n",
      "top - Spine\n"
     ]
    }
   ],
   "source": [
    "fig, ax = plt.subplots(figsize=(7, 7))\n",
    "\n",
    "spine: Spine\n",
    "for spine_loc, spine in ax.spines.items():\n",
    "    print(spine_loc, spine, sep=' - ')\n",
    "\n",
    "for spine_loc, spine in ax.spines.items():\n",
    "    if spine_loc in ['left', 'bottom']:\n",
    "        pass\n",
    "\n",
    "    if spine_loc in ['right', 'top']:\n",
    "        pass"
   ],
   "metadata": {
    "collapsed": false,
    "pycharm": {
     "name": "#%%\n"
    }
   }
  },
  {
   "cell_type": "markdown",
   "source": [
    "### spine.set_visible"
   ],
   "metadata": {
    "collapsed": false,
    "pycharm": {
     "name": "#%% md\n"
    }
   }
  },
  {
   "cell_type": "code",
   "execution_count": 5,
   "outputs": [],
   "source": [
    "fig, ax = plt.subplots()\n",
    "\n",
    "ax.spines['right'].set_visible(False)\n",
    "ax.spines['top'].set_visible(False)"
   ],
   "metadata": {
    "collapsed": false,
    "pycharm": {
     "name": "#%%\n"
    }
   }
  },
  {
   "cell_type": "code",
   "execution_count": 6,
   "outputs": [],
   "source": [
    "fig, ax = plt.subplots()\n",
    "\n",
    "for spine_loc, spine in ax.spines.items():\n",
    "    if spine_loc in ['right', 'top']:\n",
    "        spine.set_visible(False)"
   ],
   "metadata": {
    "collapsed": false,
    "pycharm": {
     "name": "#%%\n"
    }
   }
  },
  {
   "cell_type": "markdown",
   "source": [
    "### Tick과 ticklabel 도 같이 숨기기"
   ],
   "metadata": {
    "collapsed": false,
    "pycharm": {
     "name": "#%% md\n"
    }
   }
  },
  {
   "cell_type": "code",
   "execution_count": 7,
   "outputs": [],
   "source": [
    "fig, ax = plt.subplots()\n",
    "\n",
    "ax.spines['left'].set_visible(False)\n",
    "ax.spines['bottom'].set_visible(False)\n",
    "\n",
    "# 왼쪽과 아래쪽의 tick, ticklabel을 숨긴다.\n",
    "ax.tick_params(left=False, labelleft=False,\n",
    "               bottom=False, labelbottom=False)"
   ],
   "metadata": {
    "collapsed": false,
    "pycharm": {
     "name": "#%%\n"
    }
   }
  },
  {
   "cell_type": "markdown",
   "source": [
    "### 위쪽, 오른쪽에 spine, tick, ticklabel을 표시하도록 설정"
   ],
   "metadata": {
    "collapsed": false,
    "pycharm": {
     "name": "#%% md\n"
    }
   }
  },
  {
   "cell_type": "code",
   "execution_count": 8,
   "outputs": [],
   "source": [
    "fig, ax = plt.subplots()\n",
    "\n",
    "for spine_loc, spine in ax.spines.items():\n",
    "    if spine_loc in ['right', 'top']:\n",
    "        spine.set_visible(False)"
   ],
   "metadata": {
    "collapsed": false,
    "pycharm": {
     "name": "#%%\n"
    }
   }
  },
  {
   "cell_type": "code",
   "execution_count": 9,
   "outputs": [],
   "source": [
    "fig, ax = plt.subplots()\n",
    "\n",
    "for spine_loc, spine in ax.spines.items():\n",
    "    if spine_loc in ['left', 'bottom']:\n",
    "        spine.set_visible(False)\n",
    "\n",
    "\n",
    "ax.tick_params(left=False, labelleft=False,\n",
    "               bottom=False, labelbottom=False,\n",
    "               top=True, labeltop=True,\n",
    "               right=True, labelright=True)"
   ],
   "metadata": {
    "collapsed": false,
    "pycharm": {
     "name": "#%%\n"
    }
   }
  },
  {
   "cell_type": "markdown",
   "source": [
    "### 모든 spine을 숨기기"
   ],
   "metadata": {
    "collapsed": false,
    "pycharm": {
     "name": "#%% md\n"
    }
   }
  },
  {
   "cell_type": "code",
   "execution_count": 10,
   "outputs": [],
   "source": [
    "fig, ax = plt.subplots()\n",
    "\n",
    "for spine_loc, spine in ax.spines.items():\n",
    "    spine.set_visible(False)\n",
    "\n",
    "ax.tick_params(left=False, labelleft=False,\n",
    "               bottom=False, labelbottom=False)"
   ],
   "metadata": {
    "collapsed": false,
    "pycharm": {
     "name": "#%%\n"
    }
   }
  },
  {
   "cell_type": "code",
   "execution_count": 11,
   "outputs": [],
   "source": [
    "# 랜덤 이미지를 표시\n",
    "np.random.seed(0)\n",
    "noise_img = np.random.normal(0, 1, (100, 100))\n",
    "\n",
    "fig, ax = plt.subplots()\n",
    "ax.imshow(noise_img)\n",
    "\n",
    "for spine_loc, spine in ax.spines.items():\n",
    "    spine.set_visible(False)\n",
    "\n",
    "ax.tick_params(left=False, labelleft=False,\n",
    "               bottom=False, labelbottom=False)"
   ],
   "metadata": {
    "collapsed": false,
    "pycharm": {
     "name": "#%%\n"
    }
   }
  },
  {
   "cell_type": "code",
   "execution_count": null,
   "outputs": [],
   "source": [],
   "metadata": {
    "collapsed": false,
    "pycharm": {
     "name": "#%%\n"
    }
   }
  }
 ],
 "metadata": {
  "kernelspec": {
   "display_name": "Python 3",
   "language": "python",
   "name": "python3"
  },
  "language_info": {
   "codemirror_mode": {
    "name": "ipython",
    "version": 2
   },
   "file_extension": ".py",
   "mimetype": "text/x-python",
   "name": "python",
   "nbconvert_exporter": "python",
   "pygments_lexer": "ipython2",
   "version": "2.7.6"
  }
 },
 "nbformat": 4,
 "nbformat_minor": 0
}