{
 "cells": [
  {
   "cell_type": "markdown",
   "metadata": {
    "collapsed": true,
    "pycharm": {
     "name": "#%% md\n"
    }
   },
   "source": [
    "# Text and Title 정렬하기"
   ]
  },
  {
   "cell_type": "code",
   "execution_count": 1,
   "outputs": [],
   "source": [
    "%matplotlib qt"
   ],
   "metadata": {
    "collapsed": false,
    "pycharm": {
     "name": "#%%\n"
    }
   }
  },
  {
   "cell_type": "code",
   "execution_count": 2,
   "outputs": [],
   "source": [
    "import matplotlib.pyplot as plt\n",
    "from matplotlib.figure import Figure\n",
    "from matplotlib.axes import Axes\n",
    "import numpy as np\n",
    "import numpy.typing as npt"
   ],
   "metadata": {
    "collapsed": false,
    "pycharm": {
     "name": "#%%\n"
    }
   }
  },
  {
   "cell_type": "markdown",
   "metadata": {
    "pycharm": {
     "name": "#%% md\n"
    }
   },
   "source": [
    "- horizontalalignment or ha = center | right | left | right\n",
    "- verticalalignment or va = center | top | bottom | baseline | center_baseline"
   ]
  },
  {
   "cell_type": "code",
   "execution_count": 3,
   "metadata": {
    "pycharm": {
     "name": "#%%\n"
    }
   },
   "outputs": [
    {
     "data": {
      "text/plain": "Text(0, 0, 'Hello')"
     },
     "execution_count": 3,
     "metadata": {},
     "output_type": "execute_result"
    }
   ],
   "source": [
    "figsize = (7, 7)\n",
    "fig: Figure\n",
    "ax: Axes\n",
    "fig, ax = plt.subplots(figsize=figsize)\n",
    "\n",
    "ax.set_xlim([-1, 1])\n",
    "ax.set_ylim([-1, 1])\n",
    "ax.grid()\n",
    "ax.tick_params(axis='both', labelsize=15)\n",
    "\n",
    "# 축에 텍스트를 추가\n",
    "ax.text(x=0, y=0, s='Hello', fontsize=30)"
   ]
  },
  {
   "cell_type": "code",
   "execution_count": 4,
   "metadata": {
    "pycharm": {
     "name": "#%%\n"
    }
   },
   "outputs": [
    {
     "data": {
      "text/plain": "Text(0.5, -0.5, 'Hello 3')"
     },
     "execution_count": 4,
     "metadata": {},
     "output_type": "execute_result"
    }
   ],
   "source": [
    "# 여러 위치에 텍스트를 추가하기\n",
    "\n",
    "figsize = (7, 7)\n",
    "fig, ax = plt.subplots(figsize=figsize)\n",
    "\n",
    "ax.set_xlim([-1, 1])\n",
    "ax.set_ylim([-1, 1])\n",
    "ax.grid()\n",
    "ax.tick_params(axis='both', labelsize=15)\n",
    "\n",
    "# 축에 텍스트 추가하기\n",
    "ax.text(x=0, y=0, s='Hello 1', fontsize=20)\n",
    "ax.text(x=0.5, y=0, s='Hello 2', fontsize=20)\n",
    "ax.text(x=0.5, y=-0.5, s='Hello 3', fontsize=20)"
   ]
  },
  {
   "cell_type": "code",
   "execution_count": 5,
   "metadata": {
    "pycharm": {
     "name": "#%%\n"
    }
   },
   "outputs": [
    {
     "data": {
      "text/plain": "Text(0, 0, 'Hello')"
     },
     "execution_count": 5,
     "metadata": {},
     "output_type": "execute_result"
    }
   ],
   "source": [
    "# Text Alignment 옵션을 사용하여 정렬 방법을 설정할 수 있다.\n",
    "# va=center, ha=left\n",
    "figsize = (7, 7)\n",
    "fig, ax = plt.subplots(figsize=figsize)\n",
    "\n",
    "ax.set_xlim([-1, 1])\n",
    "ax.set_ylim([-1, 1])\n",
    "ax.grid()\n",
    "ax.tick_params(axis='both', labelsize=15)\n",
    "\n",
    "# 축에 텍스트 추가하기\n",
    "ax.text(x=0, y=0, va='center', ha='left', s='Hello', fontsize=30)"
   ]
  },
  {
   "cell_type": "code",
   "execution_count": 6,
   "metadata": {
    "pycharm": {
     "name": "#%%\n"
    }
   },
   "outputs": [
    {
     "data": {
      "text/plain": "Text(0, 0, 'Hello 1')"
     },
     "execution_count": 6,
     "metadata": {},
     "output_type": "execute_result"
    }
   ],
   "source": [
    "# va=center, ha=center\n",
    "figsize = (7, 7)\n",
    "fig, ax = plt.subplots(figsize=figsize)\n",
    "\n",
    "ax.set_xlim([-1, 1])\n",
    "ax.set_ylim([-1, 1])\n",
    "ax.grid()\n",
    "ax.tick_params(axis='both', labelsize=15)\n",
    "\n",
    "# 축에 텍스트 추가하기\n",
    "ax.text(x=0, y=0, va='center', ha='center', s='Hello 1', fontsize=30)"
   ]
  },
  {
   "cell_type": "code",
   "execution_count": 7,
   "metadata": {
    "pycharm": {
     "name": "#%%\n"
    }
   },
   "outputs": [
    {
     "data": {
      "text/plain": "Text(0, 0, 'Hello')"
     },
     "execution_count": 7,
     "metadata": {},
     "output_type": "execute_result"
    }
   ],
   "source": [
    "# va=center, ha=right\n",
    "figsize = (7, 7)\n",
    "fig, ax = plt.subplots(figsize=figsize)\n",
    "\n",
    "ax.set_xlim([-1, 1])\n",
    "ax.set_ylim([-1, 1])\n",
    "ax.grid()\n",
    "ax.tick_params(axis='both', labelsize=15)\n",
    "\n",
    "# 축에 텍스트 추가하기\n",
    "ax.text(x=0, y=0, va='center', ha='right', s='Hello', fontsize=30)"
   ]
  },
  {
   "cell_type": "code",
   "execution_count": 8,
   "metadata": {
    "pycharm": {
     "name": "#%%\n"
    }
   },
   "outputs": [
    {
     "data": {
      "text/plain": "Text(0, 0, 'Hello')"
     },
     "execution_count": 8,
     "metadata": {},
     "output_type": "execute_result"
    }
   ],
   "source": [
    "# va=top, ha=center\n",
    "figsize = (7, 7)\n",
    "fig, ax = plt.subplots(figsize=figsize)\n",
    "\n",
    "ax.set_xlim([-1, 1])\n",
    "ax.set_ylim([-1, 1])\n",
    "ax.grid()\n",
    "ax.tick_params(axis='both', labelsize=15)\n",
    "\n",
    "# 축에 텍스트 추가하기\n",
    "ax.text(x=0, y=0, va='top', ha='center', s='Hello', fontsize=30)"
   ]
  },
  {
   "cell_type": "code",
   "execution_count": 9,
   "metadata": {
    "pycharm": {
     "name": "#%%\n"
    }
   },
   "outputs": [
    {
     "data": {
      "text/plain": "Text(0, 0, 'Hello')"
     },
     "execution_count": 9,
     "metadata": {},
     "output_type": "execute_result"
    }
   ],
   "source": [
    "# va=center, ha=center\n",
    "figsize = (7, 7)\n",
    "fig, ax = plt.subplots(figsize=figsize)\n",
    "\n",
    "ax.set_xlim([-1, 1])\n",
    "ax.set_ylim([-1, 1])\n",
    "ax.grid()\n",
    "ax.tick_params(axis='both', labelsize=15)\n",
    "\n",
    "# 축에 텍스트 추가하기\n",
    "ax.text(x=0, y=0, va='center', ha='center', s='Hello', fontsize=30)"
   ]
  },
  {
   "cell_type": "code",
   "execution_count": 10,
   "metadata": {
    "pycharm": {
     "name": "#%%\n"
    }
   },
   "outputs": [
    {
     "data": {
      "text/plain": "Text(0, 0, 'Hello')"
     },
     "execution_count": 10,
     "metadata": {},
     "output_type": "execute_result"
    }
   ],
   "source": [
    "# va=bottom, ha=center\n",
    "figsize = (7, 7)\n",
    "fig, ax = plt.subplots(figsize=figsize)\n",
    "\n",
    "ax.set_xlim([-1, 1])\n",
    "ax.set_ylim([-1, 1])\n",
    "ax.grid()\n",
    "ax.tick_params(axis='both', labelsize=15)\n",
    "\n",
    "# 축에 텍스트 추가하기\n",
    "ax.text(x=0, y=0, va='bottom', ha='center', s='Hello', fontsize=30)"
   ]
  },
  {
   "cell_type": "code",
   "execution_count": 11,
   "metadata": {
    "pycharm": {
     "name": "#%%\n"
    }
   },
   "outputs": [
    {
     "data": {
      "text/plain": "Text(0, 0, 'Hello')"
     },
     "execution_count": 11,
     "metadata": {},
     "output_type": "execute_result"
    }
   ],
   "source": [
    "# va=baseline, ha=center\n",
    "figsize = (7, 7)\n",
    "fig, ax = plt.subplots(figsize=figsize)\n",
    "\n",
    "ax.set_xlim([-1, 1])\n",
    "ax.set_ylim([-1, 1])\n",
    "ax.grid()\n",
    "ax.tick_params(axis='both', labelsize=15)\n",
    "\n",
    "# 축에 텍스트 추가하기\n",
    "ax.text(x=0, y=0, va='baseline', ha='center', s='Hello', fontsize=30)"
   ]
  },
  {
   "cell_type": "code",
   "execution_count": 12,
   "metadata": {
    "pycharm": {
     "name": "#%%\n"
    }
   },
   "outputs": [
    {
     "data": {
      "text/plain": "Text(0, 0, 'Hello')"
     },
     "execution_count": 12,
     "metadata": {},
     "output_type": "execute_result"
    }
   ],
   "source": [
    "# va=center_baseline, ha=center\n",
    "figsize = (7, 7)\n",
    "fig, ax = plt.subplots(figsize=figsize)\n",
    "\n",
    "ax.set_xlim([-1, 1])\n",
    "ax.set_ylim([-1, 1])\n",
    "ax.grid()\n",
    "ax.tick_params(axis='both', labelsize=15)\n",
    "\n",
    "# 축에 텍스트 추가하기\n",
    "ax.text(x=0, y=0, va='center_baseline', ha='center', s='Hello', fontsize=30)"
   ]
  },
  {
   "cell_type": "code",
   "execution_count": 13,
   "metadata": {
    "pycharm": {
     "name": "#%%\n"
    }
   },
   "outputs": [
    {
     "data": {
      "text/plain": "Text(4, -4, 'Hello 4')"
     },
     "execution_count": 13,
     "metadata": {},
     "output_type": "execute_result"
    }
   ],
   "source": [
    "figsize = (7, 7)\n",
    "fig, ax = plt.subplots(figsize=figsize)\n",
    "\n",
    "ax.set_xlim([-5, 5])\n",
    "ax.set_ylim([-5, 5])\n",
    "ax.grid()\n",
    "ax.tick_params(axis='both', labelsize=15)\n",
    "\n",
    "# 축에 텍스트 추가하기\n",
    "ax.text(x=-4, y=4, va='top', ha='left', s='Hello 1', fontsize=30)\n",
    "ax.text(x=4, y=4, va='top', ha='right', s='Hello 2', fontsize=30)\n",
    "ax.text(x=-4, y=-4, va='bottom', ha='left', s='Hello 3', fontsize=30)\n",
    "ax.text(x=4, y=-4, va='bottom', ha='right', s='Hello 4', fontsize=30)"
   ]
  },
  {
   "cell_type": "markdown",
   "metadata": {
    "pycharm": {
     "name": "#%% md\n"
    }
   },
   "source": [
    "## Title Alignment"
   ]
  },
  {
   "cell_type": "code",
   "execution_count": 14,
   "metadata": {
    "pycharm": {
     "name": "#%%\n"
    }
   },
   "outputs": [],
   "source": [
    "figsize = (7, 7)\n",
    "fig, ax = plt.subplots(figsize=figsize)\n",
    "\n",
    "title_bottom = 0.9\n",
    "\n",
    "fig.suptitle(\"Title\", fontsize=30, y=title_bottom, va='bottom')\n",
    "fig.subplots_adjust(top=title_bottom)"
   ]
  },
  {
   "cell_type": "code",
   "execution_count": 15,
   "metadata": {
    "pycharm": {
     "name": "#%%\n"
    }
   },
   "outputs": [],
   "source": [
    "figsize = (7, 7)\n",
    "fig, ax = plt.subplots(figsize=figsize)\n",
    "\n",
    "title_bottom = 0.8\n",
    "\n",
    "fig.suptitle(\"Title\", fontsize=30, y=title_bottom, va='bottom')\n",
    "fig.subplots_adjust(top=title_bottom)"
   ]
  },
  {
   "cell_type": "code",
   "execution_count": 16,
   "metadata": {
    "pycharm": {
     "name": "#%%\n"
    }
   },
   "outputs": [],
   "source": [
    "figsize = (7, 7)\n",
    "fig, ax = plt.subplots(figsize=figsize)\n",
    "\n",
    "title_bottom = 0.7\n",
    "\n",
    "fig.suptitle(\"Title\", fontsize=30, y=title_bottom, va='bottom')\n",
    "fig.subplots_adjust(top=title_bottom)"
   ]
  },
  {
   "cell_type": "code",
   "execution_count": 17,
   "metadata": {
    "pycharm": {
     "name": "#%%\n"
    }
   },
   "outputs": [],
   "source": [
    "figsize = (7, 7)\n",
    "fig, ax = plt.subplots(figsize=figsize)\n",
    "\n",
    "title_bottom = 0.9\n",
    "\n",
    "fig.suptitle(\"Title\", fontsize=30, y=title_bottom, va='bottom')\n",
    "ax.set_title(\"Ax Title\", fontsize=20)\n",
    "\n",
    "fig.subplots_adjust(top=title_bottom)"
   ]
  },
  {
   "cell_type": "code",
   "execution_count": 3,
   "metadata": {
    "pycharm": {
     "name": "#%%\n"
    }
   },
   "outputs": [],
   "source": [
    "figsize = (7, 7)\n",
    "fig, ax = plt.subplots(figsize=figsize)\n",
    "\n",
    "title_bottom = 0.9\n",
    "\n",
    "fig.suptitle(\"Title\", fontsize=30, y=title_bottom, va='bottom')\n",
    "ax.set_title(\"Ax Title\", fontsize=20)\n",
    "\n",
    "fig.subplots_adjust(top=title_bottom - 0.1)"
   ]
  },
  {
   "cell_type": "code",
   "execution_count": 4,
   "metadata": {
    "pycharm": {
     "name": "#%%\n"
    }
   },
   "outputs": [
    {
     "data": {
      "text/plain": "Text(0.5, 1, 'Ax Title')"
     },
     "execution_count": 4,
     "metadata": {},
     "output_type": "execute_result"
    }
   ],
   "source": [
    "# 축의 제목을 이동시키기\n",
    "figsize = (7, 7)\n",
    "fig, ax = plt.subplots(figsize=figsize)\n",
    "\n",
    "ax.set_title(\"Ax Title\", fontsize=20, y=1)"
   ]
  },
  {
   "cell_type": "code",
   "execution_count": 5,
   "metadata": {
    "pycharm": {
     "name": "#%%\n"
    }
   },
   "outputs": [
    {
     "data": {
      "text/plain": "Text(0.5, 0.5, 'Ax Title')"
     },
     "execution_count": 5,
     "metadata": {},
     "output_type": "execute_result"
    }
   ],
   "source": [
    "# 축의 제목을 이동시키기\n",
    "figsize = (7, 7)\n",
    "fig, ax = plt.subplots(figsize=figsize)\n",
    "ax.grid()\n",
    "\n",
    "ax.set_title(\"Ax Title\", fontsize=20, y=0.5)"
   ]
  },
  {
   "cell_type": "code",
   "execution_count": 6,
   "metadata": {
    "pycharm": {
     "name": "#%%\n"
    }
   },
   "outputs": [
    {
     "data": {
      "text/plain": "Text(0.5, 0, 'Ax Title')"
     },
     "execution_count": 6,
     "metadata": {},
     "output_type": "execute_result"
    }
   ],
   "source": [
    "# 축의 제목을 이동시키기\n",
    "figsize = (7, 7)\n",
    "fig, ax = plt.subplots(figsize=figsize)\n",
    "ax.grid()\n",
    "\n",
    "ax.set_title(\"Ax Title\", fontsize=20, y=0)"
   ]
  },
  {
   "cell_type": "code",
   "execution_count": 7,
   "metadata": {
    "pycharm": {
     "name": "#%%\n"
    }
   },
   "outputs": [
    {
     "data": {
      "text/plain": "Text(0.5, -0.05, 'Ax Title')"
     },
     "execution_count": 7,
     "metadata": {},
     "output_type": "execute_result"
    }
   ],
   "source": [
    "# 축의 제목을 이동시키기\n",
    "figsize = (7, 7)\n",
    "fig, ax = plt.subplots(figsize=figsize)\n",
    "ax.grid()\n",
    "\n",
    "ax.set_title(\"Ax Title\", fontsize=20, y=-0.05)"
   ]
  },
  {
   "cell_type": "code",
   "execution_count": 8,
   "metadata": {
    "pycharm": {
     "name": "#%%\n"
    }
   },
   "outputs": [
    {
     "data": {
      "text/plain": "Text(0.5, -0.1, 'Ax Title')"
     },
     "execution_count": 8,
     "metadata": {},
     "output_type": "execute_result"
    }
   ],
   "source": [
    "# 축의 제목을 이동시키기\n",
    "figsize = (7, 7)\n",
    "fig, ax = plt.subplots(figsize=figsize)\n",
    "ax.grid()\n",
    "\n",
    "ax.set_title(\"Ax Title\", fontsize=20, y=-0.1)"
   ]
  },
  {
   "cell_type": "code",
   "execution_count": 9,
   "metadata": {
    "pycharm": {
     "name": "#%%\n"
    }
   },
   "outputs": [
    {
     "data": {
      "text/plain": "Text(0.5, -0.15, 'Ax Title')"
     },
     "execution_count": 9,
     "metadata": {},
     "output_type": "execute_result"
    }
   ],
   "source": [
    "# 축의 제목을 이동시키기\n",
    "figsize = (7, 7)\n",
    "fig, ax = plt.subplots(figsize=figsize)\n",
    "ax.grid()\n",
    "\n",
    "ax.set_title(\"Ax Title\", fontsize=20, y=-0.15)"
   ]
  },
  {
   "cell_type": "code",
   "execution_count": 10,
   "metadata": {
    "pycharm": {
     "name": "#%%\n"
    }
   },
   "outputs": [],
   "source": [
    "# 축의 제목을 이동시키기\n",
    "figsize = (7, 7)\n",
    "fig, ax = plt.subplots(figsize=figsize)\n",
    "ax.grid()\n",
    "\n",
    "title_bottom = 0.9\n",
    "\n",
    "fig.suptitle('Title', fontsize=30, y=title_bottom, va='bottom')\n",
    "ax.set_title('Ax Title', fontsize=20, y=-0.1)\n",
    "\n",
    "fig.subplots_adjust(top=title_bottom)"
   ]
  },
  {
   "cell_type": "code",
   "execution_count": 12,
   "metadata": {
    "pycharm": {
     "name": "#%%\n"
    }
   },
   "outputs": [],
   "source": [
    "# 연습문제\n",
    "\n",
    "ax_title_list = ['(a) CE - clean', '(b) CE - noisy',\n",
    "                 '(c) LSR - noisy', '(d) SL - noisy']\n",
    "title_bottom = 0.9\n",
    "\n",
    "figsize = (9, 9)\n",
    "\n",
    "fig, axes = plt.subplots(2, 2, figsize=figsize)\n",
    "fig.suptitle(\"Symmetric Cross Entropy\", fontsize=30, y=title_bottom + 0.03, va='bottom')\n",
    "\n",
    "for ax_idx, ax in enumerate(axes.flat):\n",
    "    ax.set_title(ax_title_list[ax_idx], fontsize=20, y=-0.25)\n",
    "    ax.set_xlabel(\"Number of epochs\", fontsize=14)\n",
    "    ax.set_ylabel(\"Class-wise Test Accuracy\", fontsize=15)\n",
    "\n",
    "fig.subplots_adjust(top=title_bottom, bottom=0.1,\n",
    "                    hspace=0.3, wspace=0.3)"
   ]
  },
  {
   "cell_type": "code",
   "execution_count": null,
   "metadata": {
    "pycharm": {
     "name": "#%%\n"
    }
   },
   "outputs": [],
   "source": []
  }
 ],
 "metadata": {
  "kernelspec": {
   "display_name": "Python 3 (ipykernel)",
   "language": "python",
   "name": "python3"
  },
  "language_info": {
   "codemirror_mode": {
    "name": "ipython",
    "version": 3
   },
   "file_extension": ".py",
   "mimetype": "text/x-python",
   "name": "python",
   "nbconvert_exporter": "python",
   "pygments_lexer": "ipython3",
   "version": "3.8.10"
  }
 },
 "nbformat": 4,
 "nbformat_minor": 1
}