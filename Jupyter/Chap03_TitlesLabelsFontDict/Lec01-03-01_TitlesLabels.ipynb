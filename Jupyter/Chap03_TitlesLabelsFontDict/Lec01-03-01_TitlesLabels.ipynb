{
 "cells": [
  {
   "cell_type": "markdown",
   "metadata": {
    "collapsed": true,
    "pycharm": {
     "name": "#%% md\n"
    }
   },
   "source": [
    "# Titles, Labels and Font Dict"
   ]
  },
  {
   "cell_type": "markdown",
   "metadata": {
    "pycharm": {
     "name": "#%% md\n"
    }
   },
   "source": [
    "## fig.suptitle (Figure의 제목 설정)"
   ]
  },
  {
   "cell_type": "code",
   "execution_count": 1,
   "outputs": [],
   "source": [
    "%matplotlib qt"
   ],
   "metadata": {
    "collapsed": false,
    "pycharm": {
     "name": "#%%\n"
    }
   }
  },
  {
   "cell_type": "code",
   "execution_count": 2,
   "outputs": [],
   "source": [
    "import matplotlib.pyplot as plt\n",
    "from matplotlib.figure import Figure\n",
    "from matplotlib.axes import Axes\n",
    "import numpy as np\n",
    "import numpy.typing as npt"
   ],
   "metadata": {
    "collapsed": false,
    "pycharm": {
     "name": "#%%\n"
    }
   }
  },
  {
   "cell_type": "code",
   "execution_count": 3,
   "metadata": {
    "pycharm": {
     "name": "#%%\n"
    }
   },
   "outputs": [
    {
     "data": {
      "text/plain": "Text(0.5, 0.98, 'Title of a Figure')"
     },
     "execution_count": 3,
     "metadata": {},
     "output_type": "execute_result"
    }
   ],
   "source": [
    "figsize = (7, 7)\n",
    "\n",
    "fig: Figure\n",
    "ax: Axes\n",
    "fig, ax = plt.subplots(figsize=figsize)\n",
    "fig.suptitle(\"Title of a Figure\")"
   ]
  },
  {
   "cell_type": "code",
   "execution_count": 4,
   "metadata": {
    "pycharm": {
     "name": "#%%\n"
    }
   },
   "outputs": [
    {
     "data": {
      "text/plain": "Text(0.5, 0.98, 'Title of a Figure')"
     },
     "execution_count": 4,
     "metadata": {},
     "output_type": "execute_result"
    }
   ],
   "source": [
    "fig, ax = plt.subplots(figsize=figsize)\n",
    "fig.suptitle(\"Title of a Figure\", fontsize=30)"
   ]
  },
  {
   "cell_type": "code",
   "execution_count": 5,
   "metadata": {
    "pycharm": {
     "name": "#%%\n"
    }
   },
   "outputs": [
    {
     "data": {
      "text/plain": "Text(0.5, 0.98, 'Title of a Figure')"
     },
     "execution_count": 5,
     "metadata": {},
     "output_type": "execute_result"
    }
   ],
   "source": [
    "fig, ax = plt.subplots(figsize=figsize)\n",
    "fig.suptitle(\"Title of a Figure\", fontsize=30, fontfamily='monospace')"
   ]
  },
  {
   "cell_type": "markdown",
   "metadata": {
    "pycharm": {
     "name": "#%% md\n"
    }
   },
   "source": [
    "## ax.set_title (Axes의 타이틀 설정)"
   ]
  },
  {
   "cell_type": "code",
   "execution_count": 6,
   "metadata": {
    "pycharm": {
     "name": "#%%\n"
    }
   },
   "outputs": [
    {
     "data": {
      "text/plain": "Text(0.5, 1.0, 'Title of a Ax')"
     },
     "execution_count": 6,
     "metadata": {},
     "output_type": "execute_result"
    }
   ],
   "source": [
    "figsize = (7, 7)\n",
    "fig, ax = plt.subplots(figsize=figsize)\n",
    "ax.set_title(\"Title of a Ax\")"
   ]
  },
  {
   "cell_type": "code",
   "execution_count": 7,
   "metadata": {
    "pycharm": {
     "name": "#%%\n"
    }
   },
   "outputs": [
    {
     "data": {
      "text/plain": "Text(0.5, 1.0, 'Title of a Ax')"
     },
     "execution_count": 7,
     "metadata": {},
     "output_type": "execute_result"
    }
   ],
   "source": [
    "fig, ax = plt.subplots(figsize=figsize)\n",
    "ax.set_title(\"Title of a Ax\", fontsize=30)"
   ]
  },
  {
   "cell_type": "code",
   "execution_count": 8,
   "metadata": {
    "pycharm": {
     "name": "#%%\n"
    }
   },
   "outputs": [
    {
     "data": {
      "text/plain": "Text(0.5, 1.0, 'Title of a Ax')"
     },
     "execution_count": 8,
     "metadata": {},
     "output_type": "execute_result"
    }
   ],
   "source": [
    "fig, ax = plt.subplots(figsize=figsize)\n",
    "ax.set_title(\"Title of a Ax\", fontsize=30, fontfamily='monospace')"
   ]
  },
  {
   "cell_type": "markdown",
   "metadata": {
    "pycharm": {
     "name": "#%% md\n"
    }
   },
   "source": [
    "## 여러 개의 axes가 있을 경우"
   ]
  },
  {
   "cell_type": "code",
   "execution_count": 9,
   "metadata": {
    "pycharm": {
     "name": "#%%\n"
    }
   },
   "outputs": [],
   "source": [
    "figsize = (7, 7)\n",
    "ax_title_list = [f'title {i}' for i in range(4)]\n",
    "\n",
    "fig: Figure\n",
    "axes: npt.NDArray[Axes]\n",
    "fig, axes = plt.subplots(2, 2, figsize=figsize)\n",
    "fig.suptitle(\"Title of a Figure\", fontsize=30, fontfamily='monospace')\n",
    "\n",
    "for ax_idx, ax in enumerate(axes.flat):\n",
    "    ax.set_title(ax_title_list[ax_idx], fontsize=20, fontfamily='serif')"
   ]
  },
  {
   "cell_type": "code",
   "execution_count": 10,
   "metadata": {
    "pycharm": {
     "name": "#%%\n"
    }
   },
   "outputs": [],
   "source": [
    "figsize = (7, 7)\n",
    "ax_title_list = [f'title {i}' for i in range(4)]\n",
    "\n",
    "fig: Figure\n",
    "axes: npt.NDArray[Axes]\n",
    "fig, axes = plt.subplots(2, 2, figsize=figsize)\n",
    "fig.suptitle(\"Title of a Figure\", fontsize=40, fontfamily='monospace')\n",
    "\n",
    "for ax_idx, ax in enumerate(axes.flat):\n",
    "    ax.set_title(ax_title_list[ax_idx], fontsize=40, fontfamily='serif')\n",
    "    \n",
    "fig.tight_layout()"
   ]
  },
  {
   "cell_type": "code",
   "execution_count": 11,
   "metadata": {
    "pycharm": {
     "name": "#%%\n"
    }
   },
   "outputs": [],
   "source": [
    "# fig.subplot_adjust 메소드를 이용하여 figure의 위치 조정\n",
    "\n",
    "figsize = (7, 7)\n",
    "ax_title_list = [f'title {i}' for i in range(4)]\n",
    "\n",
    "fig: Figure\n",
    "axes: npt.NDArray[Axes]\n",
    "fig, axes = plt.subplots(2, 2, figsize=figsize)\n",
    "fig.suptitle(\"Title of a Figure\", fontsize=30, fontfamily='monospace')\n",
    "\n",
    "for ax_idx, ax in enumerate(axes.flat):\n",
    "    ax.set_title(ax_title_list[ax_idx], fontsize=20, fontfamily='serif')\n",
    "\n",
    "fig.subplots_adjust(bottom=0.05, top=0.8, hspace=0.3)"
   ]
  },
  {
   "cell_type": "markdown",
   "metadata": {
    "pycharm": {
     "name": "#%% md\n"
    }
   },
   "source": [
    "## ax.set_xlabel(), ax.set_ylabel()"
   ]
  },
  {
   "cell_type": "code",
   "execution_count": 12,
   "metadata": {
    "pycharm": {
     "name": "#%%\n"
    }
   },
   "outputs": [
    {
     "data": {
      "text/plain": "Text(0, 0.5, 'Y Label')"
     },
     "execution_count": 12,
     "metadata": {},
     "output_type": "execute_result"
    }
   ],
   "source": [
    "figsize = (7, 7)\n",
    "fig, ax = plt.subplots(figsize=figsize)\n",
    "\n",
    "ax.set_xlabel(\"X Label\", fontsize=20)\n",
    "ax.set_ylabel(\"Y Label\", fontsize=20)"
   ]
  },
  {
   "cell_type": "code",
   "execution_count": 13,
   "metadata": {
    "pycharm": {
     "name": "#%%\n"
    }
   },
   "outputs": [
    {
     "data": {
      "text/plain": "Text(0, 0.5, 'Y Label')"
     },
     "execution_count": 13,
     "metadata": {},
     "output_type": "execute_result"
    }
   ],
   "source": [
    "# 레이블의 색상과 투명도 설정\n",
    "figsize = (7, 7)\n",
    "fig, ax = plt.subplots(figsize=figsize)\n",
    "\n",
    "ax.set_xlabel(\"X Label\", fontsize=20, color='darkblue', alpha=0.7)\n",
    "ax.set_ylabel(\"Y Label\", fontsize=20, color='darkblue', alpha=0.7)"
   ]
  },
  {
   "cell_type": "code",
   "execution_count": 14,
   "metadata": {
    "pycharm": {
     "name": "#%%\n"
    }
   },
   "outputs": [
    {
     "data": {
      "text/plain": "Text(0, 0.5, 'Y Label')"
     },
     "execution_count": 14,
     "metadata": {},
     "output_type": "execute_result"
    }
   ],
   "source": [
    "# 전체 label들의 색상과 투명도 설정\n",
    "\n",
    "fig, ax = plt.subplots(figsize=(7, 7))\n",
    "\n",
    "fig.suptitle(\"Title of a Figure\", fontsize=30, color='darkblue', alpha=0.9)\n",
    "ax.set_xlabel(\"X Label\", fontsize=20, color='darkblue', alpha=0.7)\n",
    "ax.set_ylabel(\"Y Label\", fontsize=20, color='darkblue', alpha=0.7)"
   ]
  },
  {
   "cell_type": "code",
   "execution_count": 15,
   "metadata": {
    "pycharm": {
     "name": "#%%\n"
    }
   },
   "outputs": [
    {
     "data": {
      "text/plain": "Text(0.5, 1.0, 'Probability')"
     },
     "execution_count": 15,
     "metadata": {},
     "output_type": "execute_result"
    }
   ],
   "source": [
    "# Exercise\n",
    "\n",
    "fig: Figure = plt.figure(figsize=(7, 7))\n",
    "ax: Axes = fig.add_subplot()\n",
    "\n",
    "ax_impulse: Axes = fig.add_axes([0.2, 0.55, 0.25, 0.25])\n",
    "ax_prob: Axes = fig.add_axes([0.6, 0.55, 0.25, 0.25])\n",
    "\n",
    "ax_impulse.get_xaxis().set_visible(False)\n",
    "ax_impulse.get_yaxis().set_visible(False)\n",
    "\n",
    "ax_prob.get_xaxis().set_visible(False)\n",
    "ax_prob.get_yaxis().set_visible(False)\n",
    "\n",
    "fig.suptitle(\"Gaussian colored noise\", fontsize=20)\n",
    "ax.set_xlabel(\"time (s)\", fontsize=15)\n",
    "ax.set_ylabel(\"current (nA)\", fontsize=15)\n",
    "\n",
    "ax_impulse.set_title(\"Impulse response\", fontsize=15)\n",
    "ax_prob.set_title(\"Probability\", fontsize=15)"
   ]
  },
  {
   "cell_type": "code",
   "execution_count": null,
   "metadata": {
    "pycharm": {
     "name": "#%%\n"
    }
   },
   "outputs": [],
   "source": []
  }
 ],
 "metadata": {
  "kernelspec": {
   "display_name": "Python 3 (ipykernel)",
   "language": "python",
   "name": "python3"
  },
  "language_info": {
   "codemirror_mode": {
    "name": "ipython",
    "version": 3
   },
   "file_extension": ".py",
   "mimetype": "text/x-python",
   "name": "python",
   "nbconvert_exporter": "python",
   "pygments_lexer": "ipython3",
   "version": "3.8.10"
  }
 },
 "nbformat": 4,
 "nbformat_minor": 1
}