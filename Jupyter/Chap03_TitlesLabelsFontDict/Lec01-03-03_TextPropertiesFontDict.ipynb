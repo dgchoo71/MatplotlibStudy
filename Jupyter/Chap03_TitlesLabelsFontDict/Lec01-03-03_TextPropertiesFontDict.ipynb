{
 "cells": [
  {
   "cell_type": "markdown",
   "metadata": {
    "pycharm": {
     "name": "#%% md\n"
    }
   },
   "source": [
    "# Text Properties와 Font Dictionary"
   ]
  },
  {
   "cell_type": "code",
   "execution_count": 1,
   "outputs": [],
   "source": [
    "%matplotlib qt"
   ],
   "metadata": {
    "collapsed": false,
    "pycharm": {
     "name": "#%%\n"
    }
   }
  },
  {
   "cell_type": "code",
   "execution_count": 3,
   "outputs": [],
   "source": [
    "import matplotlib.pyplot as plt\n",
    "from matplotlib.figure import Figure\n",
    "from matplotlib.axes import Axes\n",
    "import numpy as np\n",
    "import numpy.typing as npt"
   ],
   "metadata": {
    "collapsed": false,
    "pycharm": {
     "name": "#%%\n"
    }
   }
  },
  {
   "cell_type": "markdown",
   "metadata": {
    "pycharm": {
     "name": "#%% md\n"
    }
   },
   "source": [
    "## Text Properties (fontsize)"
   ]
  },
  {
   "cell_type": "code",
   "execution_count": 4,
   "metadata": {
    "pycharm": {
     "name": "#%%\n"
    }
   },
   "outputs": [],
   "source": [
    "# 글꼴 크기 설정\n",
    "figsize = (7, 7)\n",
    "\n",
    "fig: Figure\n",
    "ax: Axes\n",
    "fig, ax = plt.subplots(figsize=figsize)\n",
    "\n",
    "fontsize_list = [20, 30, 40]\n",
    "\n",
    "ax.set_xlim([-1, 1])\n",
    "ax.set_ylim([0, len(fontsize_list) + 1])\n",
    "\n",
    "for font_idx, fontsize in enumerate(fontsize_list):\n",
    "    ax.text(0, font_idx + 1, ha='center',\n",
    "            s=f'fontsize = {fontsize}', fontsize=fontsize)"
   ]
  },
  {
   "cell_type": "markdown",
   "metadata": {
    "pycharm": {
     "name": "#%% md\n"
    }
   },
   "source": [
    "## Text properties (fontfamily)"
   ]
  },
  {
   "cell_type": "code",
   "execution_count": 5,
   "metadata": {
    "pycharm": {
     "name": "#%%\n"
    }
   },
   "outputs": [],
   "source": [
    "# 글꼴 이름 설정\n",
    "fontfamily_list = ['serif', 'sans-serif', 'cursive', 'fantasy', 'monospace']\n",
    "\n",
    "figsize = (7, 7)\n",
    "fig, ax = plt.subplots(figsize=figsize)\n",
    "\n",
    "ax.set_xlim([-1, 1])\n",
    "ax.set_ylim([0, len(fontfamily_list) + 1])\n",
    "\n",
    "for font_idx, fontfamily in enumerate(fontfamily_list):\n",
    "    ax.text(0, font_idx + 1, ha='center',\n",
    "            s=fontfamily, fontsize=30, fontfamily=fontfamily)"
   ]
  },
  {
   "cell_type": "markdown",
   "metadata": {
    "pycharm": {
     "name": "#%% md\n"
    }
   },
   "source": [
    "## Text properties (fontweight)"
   ]
  },
  {
   "cell_type": "code",
   "execution_count": 6,
   "metadata": {
    "pycharm": {
     "name": "#%%\n"
    }
   },
   "outputs": [],
   "source": [
    "# 글꼴 두께 설정\n",
    "fontweight_list = ['normal', 'bold']\n",
    "\n",
    "fig, ax = plt.subplots(figsize=figsize)\n",
    "\n",
    "ax.set_xlim([-1, 1])\n",
    "ax.set_ylim([0, len(fontweight_list) + 1])\n",
    "\n",
    "for font_idx, fontweight in enumerate(fontweight_list):\n",
    "    ax.text(0, font_idx + 1, ha='center',\n",
    "            s=f'fontweight={fontweight}', fontsize=30,\n",
    "            fontweight=fontweight)"
   ]
  },
  {
   "cell_type": "markdown",
   "metadata": {
    "pycharm": {
     "name": "#%% md\n"
    }
   },
   "source": [
    "## Text Properties (alpha) 글꼴 투명도 설정"
   ]
  },
  {
   "cell_type": "code",
   "execution_count": 7,
   "metadata": {
    "pycharm": {
     "name": "#%%\n"
    }
   },
   "outputs": [],
   "source": [
    "# 글꼴 투명도 설정\n",
    "alpha_list = [0.1, 0.3, 0.5, 0.7, 0.9, 1.0]\n",
    "\n",
    "figsize = (7, 7)\n",
    "fig, ax = plt.subplots(figsize=figsize)\n",
    "\n",
    "ax.set_xlim([-1, 1])\n",
    "ax.set_ylim([0, len(alpha_list) + 1])\n",
    "\n",
    "for a_idx, alpha in enumerate(alpha_list):\n",
    "    ax.text(0, a_idx + 1, ha='center',\n",
    "            s=f'alpha={alpha}', fontsize=30,\n",
    "            alpha=alpha)"
   ]
  },
  {
   "cell_type": "markdown",
   "metadata": {
    "pycharm": {
     "name": "#%% md\n"
    }
   },
   "source": [
    "## Text Properties (color)"
   ]
  },
  {
   "cell_type": "code",
   "execution_count": 8,
   "metadata": {
    "pycharm": {
     "name": "#%%\n"
    }
   },
   "outputs": [],
   "source": [
    "# 글꼴 색상 설정\n",
    "color_list = ['red', 'darkred', 'chocolate',\n",
    "              'orange', 'olive', 'palegreen',\n",
    "              'skyblue', 'navy', 'indigo']\n",
    "\n",
    "figsize = (7 ,7)\n",
    "fig, ax = plt.subplots(figsize=figsize)\n",
    "\n",
    "ax.set_xlim([-1, 1])\n",
    "ax.set_ylim([0, len(color_list) + 1])\n",
    "\n",
    "for c_idx, color in enumerate(color_list):\n",
    "    ax.text(0, c_idx + 1, ha='center',\n",
    "            s=color, fontsize=30,\n",
    "            color=color)"
   ]
  },
  {
   "cell_type": "markdown",
   "metadata": {
    "pycharm": {
     "name": "#%% md\n"
    }
   },
   "source": [
    "## Text Properties (bbox), 텍스트 박스 설정하기"
   ]
  },
  {
   "cell_type": "code",
   "execution_count": 9,
   "metadata": {
    "pycharm": {
     "name": "#%%\n"
    }
   },
   "outputs": [],
   "source": [
    "# 텍스트 박스 설정하기\n",
    "bbox_list = [\n",
    "    {'boxstyle': 'DArrow', 'color': 'red', 'alpha': 0.5},\n",
    "    {'boxstyle': 'Round', 'color': 'orange', 'alpha': 0.5},\n",
    "    {'boxstyle': 'Sawtooth', 'color': 'red', 'alpha': 0.5},\n",
    "    {'boxstyle': 'Square', 'color': 'navy', 'alpha': 0.5}\n",
    "]\n",
    "\n",
    "fig, ax = plt.subplots(figsize=(7, 7))\n",
    "ax.set_xlim([-5, 5])\n",
    "ax.set_ylim([0, len(bbox_list) + 1])\n",
    "\n",
    "for b_idx, bbox in enumerate(bbox_list):\n",
    "    ax.text(0, b_idx + 1, ha='center',\n",
    "            s=bbox, fontsize=15,\n",
    "            bbox=bbox)"
   ]
  },
  {
   "cell_type": "markdown",
   "metadata": {
    "pycharm": {
     "name": "#%% md\n"
    }
   },
   "source": [
    "## Text Properties (rotation)"
   ]
  },
  {
   "cell_type": "code",
   "execution_count": 10,
   "metadata": {
    "pycharm": {
     "name": "#%%\n"
    }
   },
   "outputs": [],
   "source": [
    "# 텍스트의 회전 설정\n",
    "rotation_list = [0, 15, 30, 45, 60, 75, 90]\n",
    "\n",
    "fig, ax = plt.subplots(figsize=(7, 7))\n",
    "ax.set_xlim([0, len(rotation_list) + 3])\n",
    "ax.set_ylim([0, len(rotation_list) + 3])\n",
    "\n",
    "for r_idx, rotation in enumerate(rotation_list):\n",
    "    ax.text(len(rotation_list) + 1 - r_idx, r_idx + 1,\n",
    "            ha='center', s=f'rotation={rotation}', fontsize=15,\n",
    "            rotation=rotation)"
   ]
  },
  {
   "cell_type": "markdown",
   "metadata": {
    "pycharm": {
     "name": "#%% md\n"
    }
   },
   "source": [
    "# Font Dictionary"
   ]
  },
  {
   "cell_type": "code",
   "execution_count": 11,
   "metadata": {
    "pycharm": {
     "name": "#%%\n"
    }
   },
   "outputs": [
    {
     "data": {
      "text/plain": "Text(5.5, -1.08, 'Min: (5, -0.98)')"
     },
     "execution_count": 11,
     "metadata": {},
     "output_type": "execute_result"
    }
   ],
   "source": [
    "np.random.seed(0)\n",
    "\n",
    "data = np.random.normal(0, 1, (10,))\n",
    "M_idx, M_val = np.argmax(data), np.round(np.max(data), 2)  # 최대값\n",
    "m_idx, m_val = np.argmin(data), np.round(np.min(data), 2)  # 최소값\n",
    "\n",
    "M_string = f'Max: ({M_idx}, {M_val})'\n",
    "m_string = f'Min: ({m_idx}, {m_val})'\n",
    "\n",
    "fig, ax = plt.subplots(figsize=(7, 7))\n",
    "ax.plot(data)\n",
    "\n",
    "# 텍스트 설정\n",
    "ax.set_title(\"Random Data\", fontsize=30, fontfamily='serif',\n",
    "             color='darkblue', alpha=0.8)\n",
    "ax.set_xlabel(\"Data Index\", fontsize=20,\n",
    "              color='darkblue', alpha=0.8)\n",
    "ax.set_ylabel(\"Data Value\", fontsize=20,\n",
    "              color='darkblue', alpha=0.8)\n",
    "\n",
    "# 데이터값을 출력\n",
    "ax.text(x=M_idx + 0.5, y=M_val - 0.1,\n",
    "        s=M_string, fontsize=20, color='r',\n",
    "        bbox={'boxstyle': 'Round', 'color': 'r', 'alpha': 0.3})\n",
    "\n",
    "ax.text(x=m_idx + 0.5, y=m_val - 0.1,\n",
    "        s=m_string, fontsize=20, color='b',\n",
    "        bbox={'boxstyle': 'Round', 'color': 'b', 'alpha': 0.3})"
   ]
  },
  {
   "cell_type": "code",
   "execution_count": 12,
   "metadata": {
    "pycharm": {
     "name": "#%%\n"
    }
   },
   "outputs": [
    {
     "data": {
      "text/plain": "Text(5.5, -1.08, 'Min: (5, -0.98)')"
     },
     "execution_count": 12,
     "metadata": {},
     "output_type": "execute_result"
    }
   ],
   "source": [
    "# 반복되어 사용되는 글꼴의 설정값들을 재활용하고 코드를 깔금하게 하기 위해\n",
    "# font dictionary를 이용한다.\n",
    "np.random.seed(0)\n",
    "\n",
    "data = np.random.normal(0, 1, (10,))\n",
    "M_idx, M_val = np.argmax(data), np.round(np.max(data), 2)  # 최대값\n",
    "m_idx, m_val = np.argmin(data), np.round(np.min(data), 2)  # 최소값\n",
    "\n",
    "M_string = f'Max: ({M_idx}, {M_val})'\n",
    "m_string = f'Min: ({m_idx}, {m_val})'\n",
    "\n",
    "fig, ax = plt.subplots(figsize=(7, 7))\n",
    "ax.plot(data)\n",
    "\n",
    "# 텍스트 설정\n",
    "title_font_dict = {'fontsize': 30, 'fontfamily': 'serif', 'color': 'darkblue', 'alpha': 0.8}\n",
    "xylabel_font_dict = {'fontsize': 20, 'color': 'darkblue', 'alpha': 0.8}\n",
    "M_font_dict = {'fontsize': 20, 'color': 'r', 'bbox': {'boxstyle': 'Round', 'color': 'r', 'alpha': 0.3}}\n",
    "m_font_dict = {'fontsize': 20, 'color': 'b', 'bbox': {'boxstyle': 'Round', 'color': 'b', 'alpha': 0.3}}\n",
    "\n",
    "# fontdict 속성을 이용하여 글꼴 속성 적용\n",
    "ax.set_title(\"Random Data\", fontdict=title_font_dict)\n",
    "ax.set_xlabel(\"Data Index\", fontdict=xylabel_font_dict)\n",
    "ax.set_ylabel(\"Data Value\", fontdict=xylabel_font_dict)\n",
    "\n",
    "# 데이터값을 출력\n",
    "ax.text(x=M_idx + 0.5, y=M_val - 0.1,\n",
    "        s=M_string, fontdict=M_font_dict)\n",
    "\n",
    "ax.text(x=m_idx + 0.5, y=m_val - 0.1,\n",
    "        s=m_string, fontdict=m_font_dict)"
   ]
  },
  {
   "cell_type": "markdown",
   "metadata": {
    "pycharm": {
     "name": "#%% md\n"
    }
   },
   "source": [
    "# 연습문제"
   ]
  },
  {
   "cell_type": "code",
   "execution_count": 14,
   "metadata": {
    "pycharm": {
     "name": "#%%\n"
    }
   },
   "outputs": [],
   "source": [
    "title_list = ['Training Image', '2 scales', '4 scales',\n",
    "              '5 scales', '6 scales', '8 scales']\n",
    "title_font_dict = {'fontsize': 20, 'fontweight': 'bold'}\n",
    "\n",
    "fig, axes = plt.subplots(2, 3, figsize=(20/2, 10/2))\n",
    "\n",
    "for ax_idx, ax in enumerate(axes.flat):\n",
    "    ax.set_title(title_list[ax_idx], fontdict=title_font_dict)\n",
    "\n",
    "    # x, y 축의 tick과 label 감추기\n",
    "    ax.get_xaxis().set_visible(False)\n",
    "    ax.get_yaxis().set_visible(False)\n",
    "\n",
    "fig.tight_layout()"
   ]
  },
  {
   "cell_type": "code",
   "execution_count": 16,
   "metadata": {
    "pycharm": {
     "name": "#%%\n"
    }
   },
   "outputs": [],
   "source": [
    "title_list = ['Blurry image', 'Ours', 'Mohan et al.']\n",
    "\n",
    "fig: Figure = plt.figure(figsize=(24, 10))\n",
    "\n",
    "axes = np.empty((0, 4))\n",
    "n_g, n_col, n_row = 3, 4, 5   # 그룹, 열, 행\n",
    "\n",
    "for g_idx in range(n_g):\n",
    "    axes_row = np.empty((0,))\n",
    "\n",
    "    axes_row = np.append(\n",
    "        axes_row,\n",
    "        plt.subplot2grid((5, 12),\n",
    "                         (0, g_idx * n_col),\n",
    "                         colspan=4, rowspan=3, fig=fig))\n",
    "\n",
    "    axes_row = np.append(\n",
    "        axes_row, plt.subplot2grid((5, 12),\n",
    "                                   (3, g_idx * n_col),\n",
    "                                   colspan=3, rowspan=2, fig=fig))\n",
    "\n",
    "    axes_row = np.append(\n",
    "        axes_row, plt.subplot2grid((5, 12),\n",
    "                                   (3, 3 + g_idx * n_col), fig=fig))\n",
    "\n",
    "    axes_row = np.append(\n",
    "        axes_row, plt.subplot2grid((5, 12),\n",
    "                                   (4, 3 + g_idx * n_col), fig=fig))\n",
    "\n",
    "    for ax in axes_row:\n",
    "        ax.get_xaxis().set_visible(False)\n",
    "        ax.get_yaxis().set_visible(False)\n",
    "\n",
    "    axes = np.vstack((axes, axes_row))\n",
    "\n",
    "    # 축의 제목 설정\n",
    "    axes_row[0].set_title(title_list[g_idx], fontsize=30, y=-0.83)\n",
    "\n",
    "fig.subplots_adjust(bottom=0.1, top=0.95, left=0.05, right=0.95, hspace=0.05, wspace=0.05)"
   ]
  },
  {
   "cell_type": "code",
   "execution_count": null,
   "metadata": {
    "pycharm": {
     "name": "#%%\n"
    }
   },
   "outputs": [],
   "source": []
  }
 ],
 "metadata": {
  "kernelspec": {
   "display_name": "Python 3 (ipykernel)",
   "language": "python",
   "name": "python3"
  },
  "language_info": {
   "codemirror_mode": {
    "name": "ipython",
    "version": 3
   },
   "file_extension": ".py",
   "mimetype": "text/x-python",
   "name": "python",
   "nbconvert_exporter": "python",
   "pygments_lexer": "ipython3",
   "version": "3.8.10"
  }
 },
 "nbformat": 4,
 "nbformat_minor": 1
}