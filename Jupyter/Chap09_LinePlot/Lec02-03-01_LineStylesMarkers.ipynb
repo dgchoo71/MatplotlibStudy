{
 "cells": [
  {
   "cell_type": "markdown",
   "source": [
    "## Line Styles and Markers"
   ],
   "metadata": {
    "collapsed": false,
    "pycharm": {
     "name": "#%% md\n"
    }
   }
  },
  {
   "cell_type": "code",
   "execution_count": 1,
   "outputs": [],
   "source": [
    "%matplotlib qt"
   ],
   "metadata": {
    "collapsed": false,
    "pycharm": {
     "name": "#%%\n"
    }
   }
  },
  {
   "cell_type": "code",
   "execution_count": 2,
   "outputs": [],
   "source": [
    "import matplotlib.pyplot as plt\n",
    "from matplotlib.figure import Figure\n",
    "from matplotlib.axes import Axes\n",
    "from matplotlib.spines import Spine\n",
    "from matplotlib import cm\n",
    "\n",
    "import numpy as np\n",
    "import numpy.typing as npt"
   ],
   "metadata": {
    "collapsed": false,
    "pycharm": {
     "name": "#%%\n"
    }
   }
  },
  {
   "cell_type": "markdown",
   "source": [
    "### Line Styles"
   ],
   "metadata": {
    "collapsed": false,
    "pycharm": {
     "name": "#%% md\n"
    }
   }
  },
  {
   "cell_type": "code",
   "execution_count": 26,
   "outputs": [
    {
     "data": {
      "text/plain": "[<matplotlib.lines.Line2D at 0x23ff1fa8d60>]"
     },
     "execution_count": 26,
     "metadata": {},
     "output_type": "execute_result"
    }
   ],
   "source": [
    "# line style 설정\n",
    "x_data = np.array([0, 1])\n",
    "y_data = x_data\n",
    "\n",
    "fig: Figure\n",
    "ax: Axes\n",
    "fig, ax = plt.subplots()\n",
    "\n",
    "ax.plot(x_data, y_data)\n",
    "ax.plot(x_data, y_data + 1, linestyle='dotted')\n",
    "ax.plot(x_data, y_data + 2, linestyle='dashed')\n",
    "ax.plot(x_data, y_data + 3, linestyle='dashdot')"
   ],
   "metadata": {
    "collapsed": false,
    "pycharm": {
     "name": "#%%\n"
    }
   }
  },
  {
   "cell_type": "code",
   "execution_count": 27,
   "outputs": [
    {
     "data": {
      "text/plain": "[<matplotlib.lines.Line2D at 0x23ff261dd00>]"
     },
     "execution_count": 27,
     "metadata": {},
     "output_type": "execute_result"
    }
   ],
   "source": [
    "# line style 설정할 때, 문자열 대신 기호를 사용할 수도 있다.\n",
    "x_data = np.array([0, 1])\n",
    "y_data = x_data\n",
    "\n",
    "fig: Figure\n",
    "ax: Axes\n",
    "fig, ax = plt.subplots()\n",
    "\n",
    "ax.plot(x_data, y_data)\n",
    "ax.plot(x_data, y_data + 1, linestyle=':')\n",
    "ax.plot(x_data, y_data + 2, linestyle='--')\n",
    "ax.plot(x_data, y_data + 3, linestyle='-.')"
   ],
   "metadata": {
    "collapsed": false,
    "pycharm": {
     "name": "#%%\n"
    }
   }
  },
  {
   "cell_type": "code",
   "execution_count": 28,
   "outputs": [
    {
     "data": {
      "text/plain": "<matplotlib.lines.Line2D at 0x23ff3904730>"
     },
     "execution_count": 28,
     "metadata": {},
     "output_type": "execute_result"
    }
   ],
   "source": [
    "# 보조선을 사용할 때 line style 사용\n",
    "PI = np.pi\n",
    "t = np.linspace(-4 * PI, 4 * PI, 300)\n",
    "sin = np.sin(t)\n",
    "\n",
    "fig, ax = plt.subplots()\n",
    "\n",
    "ax.plot(t, sin)\n",
    "\n",
    "ax.axhline(y=1, linestyle=':')\n",
    "ax.axhline(y=-1, linestyle=':')"
   ],
   "metadata": {
    "collapsed": false,
    "pycharm": {
     "name": "#%%\n"
    }
   }
  },
  {
   "cell_type": "code",
   "execution_count": 29,
   "outputs": [
    {
     "data": {
      "text/plain": "<matplotlib.lines.Line2D at 0x23ff3c1ee20>"
     },
     "execution_count": 29,
     "metadata": {},
     "output_type": "execute_result"
    }
   ],
   "source": [
    "# 보조선을 사용할 때 line style 사용\n",
    "PI = np.pi\n",
    "t = np.linspace(-4 * PI, 4 * PI, 300)\n",
    "sin = np.sin(t)\n",
    "\n",
    "fig, ax = plt.subplots()\n",
    "\n",
    "ax.plot(t, sin, color='black')\n",
    "\n",
    "ax.axhline(y=1, linestyle=':', color='red')\n",
    "ax.axhline(y=-1, linestyle=':', color='blue')"
   ],
   "metadata": {
    "collapsed": false,
    "pycharm": {
     "name": "#%%\n"
    }
   }
  },
  {
   "cell_type": "code",
   "execution_count": 30,
   "outputs": [
    {
     "data": {
      "text/plain": "[<matplotlib.lines.Line2D at 0x23ff44c10a0>]"
     },
     "execution_count": 30,
     "metadata": {},
     "output_type": "execute_result"
    }
   ],
   "source": [
    "PI = np.pi\n",
    "t = np.linspace(-4 * PI, 4 * PI, 50)\n",
    "sin = np.sin(t)\n",
    "\n",
    "fig, ax = plt.subplots(figsize=(10, 7))\n",
    "\n",
    "ax.plot(t, sin, color='black')\n",
    "ax.plot(t, sin + 1, marker='o', color='black')\n",
    "ax.plot(t, sin + 2, marker='D', color='black')\n",
    "ax.plot(t, sin + 3, marker='s', color='black')"
   ],
   "metadata": {
    "collapsed": false,
    "pycharm": {
     "name": "#%%\n"
    }
   }
  },
  {
   "cell_type": "markdown",
   "source": [
    "### Customizing Markers"
   ],
   "metadata": {
    "collapsed": false,
    "pycharm": {
     "name": "#%% md\n"
    }
   }
  },
  {
   "cell_type": "code",
   "execution_count": 31,
   "outputs": [
    {
     "data": {
      "text/plain": "[<matplotlib.lines.Line2D at 0x23ff4aaaa30>]"
     },
     "execution_count": 31,
     "metadata": {},
     "output_type": "execute_result"
    }
   ],
   "source": [
    "PI = np.pi\n",
    "t = np.linspace(-4 * PI, 4 * PI, 50)\n",
    "sin = np.sin(t)\n",
    "\n",
    "fig, ax = plt.subplots(figsize=(10, 7))\n",
    "\n",
    "ax.plot(t, sin + 1, marker='o', color='black', markersize=15)"
   ],
   "metadata": {
    "collapsed": false,
    "pycharm": {
     "name": "#%%\n"
    }
   }
  },
  {
   "cell_type": "code",
   "execution_count": 32,
   "outputs": [
    {
     "data": {
      "text/plain": "[<matplotlib.lines.Line2D at 0x23ff4b15b50>]"
     },
     "execution_count": 32,
     "metadata": {},
     "output_type": "execute_result"
    }
   ],
   "source": [
    "PI = np.pi\n",
    "t = np.linspace(-4 * PI, 4 * PI, 50)\n",
    "sin = np.sin(t)\n",
    "\n",
    "fig, ax = plt.subplots(figsize=(10, 7))\n",
    "\n",
    "ax.plot(t, sin + 1, marker='o', color='black',\n",
    "        markersize=15,\n",
    "        markerfacecolor='r',\n",
    "        markeredgecolor='b')"
   ],
   "metadata": {
    "collapsed": false,
    "pycharm": {
     "name": "#%%\n"
    }
   }
  },
  {
   "cell_type": "code",
   "execution_count": 33,
   "outputs": [
    {
     "data": {
      "text/plain": "[<matplotlib.lines.Line2D at 0x23ff6662c10>]"
     },
     "execution_count": 33,
     "metadata": {},
     "output_type": "execute_result"
    }
   ],
   "source": [
    "PI = np.pi\n",
    "t = np.linspace(-4 * PI, 4 * PI, 50)\n",
    "sin = np.sin(t)\n",
    "\n",
    "fig, ax = plt.subplots(figsize=(10, 7))\n",
    "\n",
    "ax.plot(t, sin + 1, marker='o', color='black',\n",
    "        markersize=15,\n",
    "        markerfacecolor='r',\n",
    "        markeredgecolor='b',\n",
    "        markeredgewidth=3)"
   ],
   "metadata": {
    "collapsed": false,
    "pycharm": {
     "name": "#%%\n"
    }
   }
  },
  {
   "cell_type": "markdown",
   "source": [
    "### Line Style/Markers with Legend"
   ],
   "metadata": {
    "collapsed": false,
    "pycharm": {
     "name": "#%% md\n"
    }
   }
  },
  {
   "cell_type": "code",
   "execution_count": 34,
   "outputs": [],
   "source": [
    "PI = np.pi\n",
    "t = np.linspace(-4 * PI, 4 * PI, 50)\n",
    "sin = np.sin(t)\n",
    "\n",
    "fig, ax = plt.subplots(figsize=(10, 7))\n",
    "\n",
    "ax.plot(t, sin, label='sin(t)')\n",
    "ax.plot(t, sin + 1, label='sin(t) + 1', marker='o')\n",
    "ax.plot(t, sin + 2, label='sin(t) + 2', marker='D')\n",
    "ax.plot(t, sin + 3, label='sin(t) + 3', marker='s')\n",
    "\n",
    "ax.legend(loc='center left', bbox_to_anchor=(1, 0.5), fontsize=20)\n",
    "fig.tight_layout()"
   ],
   "metadata": {
    "collapsed": false,
    "pycharm": {
     "name": "#%%\n"
    }
   }
  },
  {
   "cell_type": "code",
   "execution_count": 35,
   "outputs": [],
   "source": [
    "PI = np.pi\n",
    "t = np.linspace(-4 * PI, 4 * PI, 50)\n",
    "sin = np.sin(t)\n",
    "\n",
    "fig, ax = plt.subplots(figsize=(10, 7))\n",
    "\n",
    "ax.plot(t, sin, label='sin(t)')\n",
    "ax.plot(t, sin + 1, label='sin(t) + 1', marker='o', linestyle=':')\n",
    "ax.plot(t, sin + 2, label='sin(t) + 2', marker='D', linestyle='--')\n",
    "ax.plot(t, sin + 3, label='sin(t) + 3', marker='s', linestyle='-.')\n",
    "\n",
    "ax.legend(loc='center left', bbox_to_anchor=(1, 0.5), fontsize=20)\n",
    "fig.tight_layout()"
   ],
   "metadata": {
    "collapsed": false,
    "pycharm": {
     "name": "#%%\n"
    }
   }
  },
  {
   "cell_type": "markdown",
   "source": [
    "### fmt Argument"
   ],
   "metadata": {
    "collapsed": false,
    "pycharm": {
     "name": "#%% md\n"
    }
   }
  },
  {
   "cell_type": "code",
   "execution_count": 36,
   "outputs": [
    {
     "data": {
      "text/plain": "[<matplotlib.lines.Line2D at 0x23ff75677f0>]"
     },
     "execution_count": 36,
     "metadata": {},
     "output_type": "execute_result"
    }
   ],
   "source": [
    "# 일반 옵션을 사용한 경우\n",
    "x_data = np.array([1, 2, 3, 4, 5])\n",
    "fig, ax = plt.subplots()\n",
    "\n",
    "ax.plot(x_data, linestyle=':', marker='o', color='b')"
   ],
   "metadata": {
    "collapsed": false,
    "pycharm": {
     "name": "#%%\n"
    }
   }
  },
  {
   "cell_type": "code",
   "execution_count": 37,
   "outputs": [
    {
     "data": {
      "text/plain": "[<matplotlib.lines.Line2D at 0x23ff75dadc0>]"
     },
     "execution_count": 37,
     "metadata": {},
     "output_type": "execute_result"
    }
   ],
   "source": [
    "# fmt 옵션을 사용한 경우\n",
    "x_data = np.array([1, 2, 3, 4, 5])\n",
    "fig, ax = plt.subplots()\n",
    "\n",
    "ax.plot(x_data, ':ob')"
   ],
   "metadata": {
    "collapsed": false,
    "pycharm": {
     "name": "#%%\n"
    }
   }
  },
  {
   "cell_type": "code",
   "execution_count": 38,
   "outputs": [
    {
     "data": {
      "text/plain": "[<matplotlib.lines.Line2D at 0x23ff7e730d0>]"
     },
     "execution_count": 38,
     "metadata": {},
     "output_type": "execute_result"
    }
   ],
   "source": [
    "x_data = np.array([1, 2, 3, 4, 5])\n",
    "fig, ax = plt.subplots(figsize=(10, 7))\n",
    "\n",
    "ax.plot(x_data, 'o', markersize=20)\n",
    "ax.plot(x_data + 1, 'D', markersize=20)\n",
    "ax.plot(x_data + 2, 'v', markersize=20)"
   ],
   "metadata": {
    "collapsed": false,
    "pycharm": {
     "name": "#%%\n"
    }
   }
  },
  {
   "cell_type": "code",
   "execution_count": 39,
   "outputs": [
    {
     "data": {
      "text/plain": "[<matplotlib.lines.Line2D at 0x23ff6c708b0>]"
     },
     "execution_count": 39,
     "metadata": {},
     "output_type": "execute_result"
    }
   ],
   "source": [
    "PI = np.pi\n",
    "t = np.linspace(-4 * PI, 4 * PI, 200)\n",
    "sin = np.sin(t)\n",
    "\n",
    "# 마커의 위치를 별도로 설정\n",
    "t_marker = t[::5]\n",
    "sin_marker = np.sin(t_marker)\n",
    "\n",
    "fig, axes = plt.subplots(2, 1, figsize=(8, 8))\n",
    "\n",
    "axes[0].plot(t, sin, 'bo:')\n",
    "axes[1].plot(t, sin, 'b:')\n",
    "axes[1].plot(t_marker, sin_marker, 'bo')"
   ],
   "metadata": {
    "collapsed": false,
    "pycharm": {
     "name": "#%%\n"
    }
   }
  }
 ],
 "metadata": {
  "kernelspec": {
   "display_name": "Python 3",
   "language": "python",
   "name": "python3"
  },
  "language_info": {
   "codemirror_mode": {
    "name": "ipython",
    "version": 2
   },
   "file_extension": ".py",
   "mimetype": "text/x-python",
   "name": "python",
   "nbconvert_exporter": "python",
   "pygments_lexer": "ipython2",
   "version": "2.7.6"
  }
 },
 "nbformat": 4,
 "nbformat_minor": 0
}