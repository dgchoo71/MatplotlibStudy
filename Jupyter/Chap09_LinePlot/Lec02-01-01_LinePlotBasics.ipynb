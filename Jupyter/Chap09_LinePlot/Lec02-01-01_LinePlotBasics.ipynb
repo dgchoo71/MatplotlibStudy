{
 "cells": [
  {
   "cell_type": "code",
   "execution_count": 1,
   "metadata": {
    "collapsed": true
   },
   "outputs": [],
   "source": [
    "%matplotlib qt"
   ]
  },
  {
   "cell_type": "code",
   "execution_count": 2,
   "outputs": [],
   "source": [
    "import matplotlib.pyplot as plt\n",
    "from matplotlib.figure import Figure\n",
    "from matplotlib.axes import Axes\n",
    "from matplotlib.spines import Spine\n",
    "from matplotlib import cm\n",
    "\n",
    "import numpy as np\n",
    "import numpy.typing as npt\n",
    "\n",
    "import os\n",
    "import csv"
   ],
   "metadata": {
    "collapsed": false,
    "pycharm": {
     "name": "#%%\n"
    }
   }
  },
  {
   "cell_type": "markdown",
   "source": [
    "### ax.plot(y)"
   ],
   "metadata": {
    "collapsed": false,
    "pycharm": {
     "name": "#%% md\n"
    }
   }
  },
  {
   "cell_type": "code",
   "execution_count": 14,
   "outputs": [],
   "source": [
    "# 하나의 리스트를 이용하여 그래프 생성\n",
    "np.random.seed(0)\n",
    "\n",
    "y_data = np.random.normal(loc=0, scale=1, size=(300,))\n",
    "\n",
    "fig: Figure\n",
    "ax: Axes\n",
    "fig, ax = plt.subplots(figsize=(10, 5))\n",
    "ax.plot(y_data)\n",
    "\n",
    "fig.tight_layout()\n",
    "ax.tick_params(labelsize=15)\n",
    "\n",
    "# grid와 spine 설정\n",
    "ax.grid()\n",
    "spine: Spine\n",
    "for spine_loc, spine in ax.spines.items():\n",
    "    spine.set_linewidth(3)\n",
    "\n",
    "    if spine_loc in ['right', 'top']:\n",
    "        spine.set_visible(False)\n",
    "\n",
    "    # spine의 위치를 0으로 이동\n",
    "    if spine_loc in ['bottom', 'left']:\n",
    "        spine.set_position(('data', 0))"
   ],
   "metadata": {
    "collapsed": false,
    "pycharm": {
     "name": "#%%\n"
    }
   }
  },
  {
   "cell_type": "code",
   "execution_count": 15,
   "outputs": [
    {
     "data": {
      "text/plain": "[<matplotlib.axis.XTick at 0x194bd032fa0>,\n <matplotlib.axis.XTick at 0x194bd032f70>,\n <matplotlib.axis.XTick at 0x194bcf9e5b0>,\n <matplotlib.axis.XTick at 0x194bcf9eb20>]"
     },
     "execution_count": 15,
     "metadata": {},
     "output_type": "execute_result"
    }
   ],
   "source": [
    "# x ticks 설정\n",
    "y_data = np.random.normal(loc=0, scale=1, size=(300,))\n",
    "\n",
    "fig, ax = plt.subplots(figsize=(10, 5))\n",
    "ax.plot(y_data)\n",
    "\n",
    "fig.tight_layout()\n",
    "ax.tick_params(labelsize=25)\n",
    "\n",
    "x_ticks = np.arange(301, step=100)\n",
    "ax.set_xticks(x_ticks)"
   ],
   "metadata": {
    "collapsed": false,
    "pycharm": {
     "name": "#%%\n"
    }
   }
  },
  {
   "cell_type": "code",
   "execution_count": 3,
   "outputs": [],
   "source": [
    "def bop_data_reader() -> np.array:\n",
    "    month_list: list = ['Jan', 'Feb', 'Mar', 'Apr', 'May', 'Jun',\n",
    "                        'Jul', 'Aug', 'Sep', 'Oct', 'Nov', 'Dec']\n",
    "\n",
    "    # 'Jan': 1, 'Feb': 2 ...\n",
    "    month_dict = {month_list[m_idx]: m_idx + 1 for m_idx in range(len(month_list))}\n",
    "    dataset = list()\n",
    "\n",
    "    # 현재 위치에 있는 파일을 읽는다. 패키지 내에서 실행될 수 있으므로\n",
    "    # file_name = os.path.join(os.path.dirname(__file__), 'BrentOilPrices.csv')\n",
    "    file_name = os.path.join(os.getcwd(), 'BrentOilPrices.csv')\n",
    "    with open(file_name, 'r', encoding='utf-8') as csvfile:\n",
    "        csvreader = csv.reader(csvfile)\n",
    "        next(csvreader)     # 헤더를 제외한다.\n",
    "\n",
    "        for data in csvreader:\n",
    "            date: str = data[0]\n",
    "            price: float = float(data[-1])\n",
    "\n",
    "            # Year, Month, Day 순으로 맞춘다.\n",
    "            year: int\n",
    "            month: int\n",
    "            day: int\n",
    "            if '-' in date:\n",
    "                tokens = date.split('-')\n",
    "                year = int(tokens[-1])\n",
    "                # year가 두 자리이므로\n",
    "                year = 1900 + year if year > 50 else 2000 + year\n",
    "                month = month_dict.get(tokens[1])\n",
    "                day = int(tokens[0])\n",
    "            elif ',' in date:\n",
    "                tokens = date.replace(',', ' ').split()\n",
    "                year = int(tokens[-1])\n",
    "                month = month_dict.get(tokens[0])\n",
    "                day = int(tokens[1])\n",
    "            else:\n",
    "                continue\n",
    "\n",
    "            dataset.append([year, month, day, price])\n",
    "\n",
    "    # 전체 dataset을 float로 변환\n",
    "    dataset: np.array = np.array(dataset).astype(np.float_)\n",
    "    return dataset\n",
    "\n",
    "\n",
    "def get_year_data(dataset: np.array, t_year: float) -> np.array:\n",
    "    # 지정한 년도의 데이터만 추출한다.\n",
    "    t_idx: np.array = np.where(dataset[:, 0] == t_year)\n",
    "    t_data: np.array = dataset[t_idx]\n",
    "    return t_data"
   ],
   "metadata": {
    "collapsed": false,
    "pycharm": {
     "name": "#%%\n"
    }
   }
  },
  {
   "cell_type": "code",
   "execution_count": 16,
   "outputs": [],
   "source": [
    "dataset = bop_data_reader()\n",
    "t_year = 1990\n",
    "t_year_data = get_year_data(dataset, t_year)\n",
    "\n",
    "fig, ax = plt.subplots(figsize=(10, 5))\n",
    "ax.plot(t_year_data[:, -1])\n",
    "\n",
    "ax.set_title(\"BOP data {}\".format(t_year), fontsize=15)\n",
    "ax.set_ylabel(\"daily prices in USD\", fontsize=15)\n",
    "ax.tick_params(labelsize=10)\n",
    "ax.grid(axis='y')"
   ],
   "metadata": {
    "collapsed": false,
    "pycharm": {
     "name": "#%%\n"
    }
   }
  },
  {
   "cell_type": "markdown",
   "source": [
    "### ax.plot(x, y)"
   ],
   "metadata": {
    "collapsed": false,
    "pycharm": {
     "name": "#%% md\n"
    }
   }
  },
  {
   "cell_type": "code",
   "execution_count": 17,
   "outputs": [],
   "source": [
    "np.random.seed(0)\n",
    "\n",
    "n_data = 100\n",
    "s_idx = 30\n",
    "x_data = np.arange(s_idx, s_idx + n_data)\n",
    "y_data = np.random.normal(0, 1, (n_data,))\n",
    "\n",
    "fig, ax = plt.subplots(figsize=(10, 5))\n",
    "ax.plot(x_data, y_data)\n",
    "\n",
    "fig.tight_layout(pad=3)\n",
    "x_ticks = np.arange(s_idx, s_idx + n_data + 1, 20)\n",
    "ax.set_xticks(x_ticks)\n",
    "\n",
    "ax.tick_params(labelsize=20)\n",
    "ax.grid()"
   ],
   "metadata": {
    "collapsed": false,
    "pycharm": {
     "name": "#%%\n"
    }
   }
  },
  {
   "cell_type": "code",
   "execution_count": 18,
   "outputs": [],
   "source": [
    "# 임의 간격의 그래프 생성\n",
    "np.random.seed(0)\n",
    "\n",
    "x_data = np.array([10, 25, 31, 40, 55, 80, 100])\n",
    "y_data = np.random.normal(0, 1, len(x_data,))\n",
    "\n",
    "fig, ax = plt.subplots(figsize=(10, 5))\n",
    "ax.plot(x_data, y_data)\n",
    "\n",
    "fig.subplots_adjust(left=0.2)\n",
    "ax.tick_params(labelsize=20)\n",
    "\n",
    "# x축과 y축의 tick을 설정\n",
    "ax.set_xticks(x_data)\n",
    "ylim = ax.get_ylim()\n",
    "y_ticks = np.linspace(ylim[0], ylim[-1], 8)\n",
    "ax.set_yticks(y_ticks)\n",
    "\n",
    "ax.grid()\n"
   ],
   "metadata": {
    "collapsed": false,
    "pycharm": {
     "name": "#%%\n"
    }
   }
  },
  {
   "cell_type": "code",
   "execution_count": 19,
   "outputs": [
    {
     "data": {
      "text/plain": "[<matplotlib.lines.Line2D at 0x194c0f8ad60>]"
     },
     "execution_count": 19,
     "metadata": {},
     "output_type": "execute_result"
    }
   ],
   "source": [
    "# 무작위 데이터를 이용하여 라인 그래프 생성\n",
    "np.random.seed(0)\n",
    "\n",
    "x_data = np.random.normal(0, 1, (10,))\n",
    "y_data = np.random.normal(0, 1, (10,))\n",
    "\n",
    "fig, ax = plt.subplots()\n",
    "ax.plot(x_data, y_data)"
   ],
   "metadata": {
    "collapsed": false,
    "pycharm": {
     "name": "#%%\n"
    }
   }
  },
  {
   "cell_type": "code",
   "execution_count": 21,
   "outputs": [],
   "source": [
    "# 각 월의 첫번째 날의 데이터를 이용하여 그래프 생성\n",
    "dataset = bop_data_reader()\n",
    "t_year = 1990\n",
    "t_year_data = get_year_data(dataset, t_year).astype(np.int_)\n",
    "\n",
    "fig, ax = plt.subplots(figsize=(10, 7))\n",
    "\n",
    "# 각 월의 첫번째 날짜를 찾는다.\n",
    "month_dict = {m: None for m in range(1, 1 + 12)}\n",
    "\n",
    "for data_idx, data in enumerate(t_year_data):\n",
    "    Y, M, D, price = data\n",
    "\n",
    "    if month_dict[M] is None:\n",
    "        month_dict[M] = [data_idx, '-'.join(str(i) for i in (Y, M, D))]\n",
    "\n",
    "first_day_label = np.array(list(month_dict.values()))\n",
    "# ------------\n",
    "\n",
    "x_arange = np.arange(t_year_data.shape[0])\n",
    "ax.plot(x_arange, t_year_data[:, -1])  # 모든 행의 마지막 열의 데이터가 가격\n",
    "\n",
    "ax.set_xticks(first_day_label[:, 0].astype(np.int_))\n",
    "ax.set_xticklabels(first_day_label[:, 1], rotation=-30, ha='left')\n",
    "\n",
    "ax.set_title(\"BOP data {}\".format(t_year), fontsize=20)\n",
    "ax.set_ylabel(\"daily price in USD\", fontsize=15)\n",
    "ax.tick_params(labelsize=10)\n",
    "ax.grid()"
   ],
   "metadata": {
    "collapsed": false,
    "pycharm": {
     "name": "#%%\n"
    }
   }
  },
  {
   "cell_type": "markdown",
   "source": [
    "### Several Line Plots on One Ax"
   ],
   "metadata": {
    "collapsed": false,
    "pycharm": {
     "name": "#%% md\n"
    }
   }
  },
  {
   "cell_type": "code",
   "execution_count": 41,
   "outputs": [],
   "source": [
    "n_data = 100\n",
    "\n",
    "random_noise1 = np.random.normal(0, 1, (n_data,))\n",
    "random_noise2 = np.random.normal(1, 1, (n_data,))\n",
    "random_noise3 = np.random.normal(2, 1, (n_data,))\n",
    "\n",
    "fig, ax = plt.subplots(figsize=(8, 6))\n",
    "\n",
    "ax.plot(random_noise1)\n",
    "ax.plot(random_noise2)\n",
    "ax.plot(random_noise3)\n",
    "\n",
    "ax.tick_params(labelsize=15)"
   ],
   "metadata": {
    "collapsed": false,
    "pycharm": {
     "name": "#%%\n"
    }
   }
  },
  {
   "cell_type": "code",
   "execution_count": 42,
   "outputs": [],
   "source": [
    "# 데이터의 개수가 다른 여러 개의 그래프 그리기\n",
    "n_data1, n_data2, n_data3 = 200, 50, 10\n",
    "\n",
    "x_data1 = np.linspace(0, 200, n_data1)\n",
    "x_data2 = np.linspace(0, 200, n_data2)\n",
    "x_data3 = np.linspace(0, 200, n_data3)\n",
    "\n",
    "random_noise1 = np.random.normal(0, 1, (n_data1,))\n",
    "random_noise2 = np.random.normal(1, 1, (n_data2,))\n",
    "random_noise3 = np.random.normal(2, 1, (n_data3,))\n",
    "\n",
    "fig, ax = plt.subplots(figsize=(8, 6))\n",
    "\n",
    "ax.plot(x_data1, random_noise1)\n",
    "ax.plot(x_data2, random_noise2)\n",
    "ax.plot(x_data3, random_noise3)\n",
    "\n",
    "ax.tick_params(labelsize=15)"
   ],
   "metadata": {
    "collapsed": false,
    "pycharm": {
     "name": "#%%\n"
    }
   }
  },
  {
   "cell_type": "code",
   "execution_count": 43,
   "outputs": [],
   "source": [
    "t = np.linspace(-4 * np.pi, 4 * np.pi, 300)\n",
    "sin = np.sin(t)\n",
    "linear = 0.1 * t\n",
    "\n",
    "fig, ax = plt.subplots(figsize=(8, 4))\n",
    "ax.plot(t, sin)\n",
    "ax.plot(t, linear)\n",
    "\n",
    "ax.set_ylim([-1.5, 1.5])\n",
    "\n",
    "x_ticks = np.arange(-4* np.pi, 4 * np.pi + 0.1, np.pi)\n",
    "x_ticklabels = [str(i) + r'$\\pi$' for i in range(-4, 5)]\n",
    "\n",
    "ax.set_xticks(x_ticks)\n",
    "ax.set_xticklabels(x_ticklabels)\n",
    "\n",
    "ax.tick_params(labelsize=15)\n",
    "ax.grid()"
   ],
   "metadata": {
    "collapsed": false,
    "pycharm": {
     "name": "#%%\n"
    }
   }
  },
  {
   "cell_type": "code",
   "execution_count": 44,
   "outputs": [],
   "source": [
    "# BOP data plotting\n",
    "\n",
    "def bop_plot(dataset, t_year: int, ax: Axes):\n",
    "    t_year_data = get_year_data(dataset, t_year)\n",
    "    ax.plot(t_year_data[:, -1])\n",
    "\n",
    "dataset = bop_data_reader()\n",
    "\n",
    "fig, ax = plt.subplots(figsize=(8, 6))\n",
    "\n",
    "bop_plot(dataset, 1990, ax)\n",
    "bop_plot(dataset, 1993, ax)\n",
    "bop_plot(dataset, 1996, ax)\n",
    "\n",
    "ax.set_title(\"BOP data\", fontsize=20)\n",
    "ax.set_ylabel(\"daily prices in USD\", fontsize=15)\n",
    "ax.tick_params(labelsize=15)\n",
    "ax.grid()"
   ],
   "metadata": {
    "collapsed": false,
    "pycharm": {
     "name": "#%%\n"
    }
   }
  },
  {
   "cell_type": "markdown",
   "source": [
    "### Several Line Plots on Different Axes"
   ],
   "metadata": {
    "collapsed": false,
    "pycharm": {
     "name": "#%% md\n"
    }
   }
  },
  {
   "cell_type": "code",
   "execution_count": 45,
   "outputs": [],
   "source": [
    "t = np.linspace(-4 * np.pi, 4 * np.pi, 1000)\n",
    "\n",
    "sin = np.sin(t)\n",
    "cos = np.cos(t)\n",
    "tan = np.tan(t)\n",
    "\n",
    "fig, axes = plt.subplots(nrows=3, ncols=1, figsize=(7, 7))\n",
    "\n",
    "axes[0].plot(t, sin)\n",
    "axes[1].plot(t, cos)\n",
    "axes[2].plot(t, tan)\n",
    "\n",
    "axes[2].set_ylim([-5, 5])\n",
    "\n",
    "fig.tight_layout()"
   ],
   "metadata": {
    "collapsed": false,
    "pycharm": {
     "name": "#%%\n"
    }
   }
  },
  {
   "cell_type": "code",
   "execution_count": 46,
   "outputs": [
    {
     "data": {
      "text/plain": "[Text(-12.566370614359172, 0, '-4$\\\\pi$'),\n Text(-9.42477796076938, 0, '-3$\\\\pi$'),\n Text(-6.283185307179586, 0, '-2$\\\\pi$'),\n Text(-3.141592653589793, 0, '-1$\\\\pi$'),\n Text(0.0, 0, '0$\\\\pi$'),\n Text(3.141592653589793, 0, '1$\\\\pi$'),\n Text(6.283185307179586, 0, '2$\\\\pi$'),\n Text(9.42477796076938, 0, '3$\\\\pi$'),\n Text(12.566370614359172, 0, '4$\\\\pi$')]"
     },
     "execution_count": 46,
     "metadata": {},
     "output_type": "execute_result"
    }
   ],
   "source": [
    "t = np.linspace(-4 * np.pi, 4 * np.pi, 1000).reshape(1, -1)\n",
    "sin = np.sin(t)\n",
    "cos = np.cos(t)\n",
    "tan = np.tan(t)\n",
    "\n",
    "data = np.vstack((sin, cos, tan))\n",
    "\n",
    "title_list = [r'$sin(t)$', r'$cos(t)$', '$tan(t)$']\n",
    "x_ticks = np.arange(-4 * np.pi, 4 * np.pi + np.pi, np.pi)\n",
    "x_ticklabels = [str(i) + r'$\\pi$' for i in range(-4, 5)]\n",
    "\n",
    "fig, axes = plt.subplots(nrows=3, ncols=1, figsize=(7, 7), sharex=True)\n",
    "\n",
    "ax: Axes\n",
    "for ax_idx, ax in enumerate(axes.flat):\n",
    "    ax.plot(t.flatten(), data[ax_idx])\n",
    "    ax.set_title(title_list[ax_idx], fontsize=20)\n",
    "    ax.tick_params(labelsize=15)\n",
    "    ax.grid()\n",
    "    if ax_idx == 2:\n",
    "        ax.set_ylim([-3, 3])\n",
    "\n",
    "fig.subplots_adjust(left=0.1, right=0.95, bottom=0.05, top=0.95)\n",
    "axes[-1].set_xticks(x_ticks)\n",
    "axes[-1].set_xticklabels(x_ticklabels)"
   ],
   "metadata": {
    "collapsed": false,
    "pycharm": {
     "name": "#%%\n"
    }
   }
  },
  {
   "cell_type": "code",
   "execution_count": 47,
   "outputs": [],
   "source": [
    "# BOP 데이터를 여러 축에 그리기\n",
    "def bop_plot(dataset, t_year, ax):\n",
    "    t_year_data = get_year_data(dataset, t_year).astype(np.int_)\n",
    "\n",
    "    month_dict = {m: None for m in range(1, 12 + 1)}\n",
    "    for data_idx, data in enumerate(t_year_data):\n",
    "        Y, M, D, data = data\n",
    "        if month_dict[M] is None:\n",
    "            month_dict[M] = [data_idx, '-'.join(str(i) for i in (Y, M, D))]\n",
    "\n",
    "    first_day_label = np.array(list(month_dict.values()))\n",
    "\n",
    "    x_arange = np.arange(t_year_data.shape[0])\n",
    "    ax.plot(x_arange, t_year_data[:, -1])\n",
    "    ax.set_xticks(first_day_label[:, 0].astype(np.int_))\n",
    "    ax.set_xticklabels(first_day_label[:, 1], rotation=-30, ha='left')\n",
    "    ax.set_title(\"BOP data {}\".format(t_year), fontsize=15)\n",
    "\n",
    "    ax.tick_params(labelsize=15)\n",
    "    ax.grid()\n",
    "# ----------\n",
    "\n",
    "dataset = bop_data_reader()\n",
    "t_year_list = [1990, 1991, 1995]\n",
    "fig, axes = plt.subplots(len(t_year_list), 1, figsize=(12, 8))\n",
    "\n",
    "for ax_idx, ax in enumerate(axes.flat):\n",
    "    bop_plot(dataset, t_year_list[ax_idx], ax)\n",
    "\n",
    "    if ax_idx == 1:\n",
    "        ax.set_ylabel(\"daily prices in USD\", fontsize=15)\n",
    "\n",
    "fig.tight_layout()"
   ],
   "metadata": {
    "collapsed": false,
    "pycharm": {
     "name": "#%%\n"
    }
   }
  },
  {
   "cell_type": "markdown",
   "source": [
    "### ax.axvline and ax.axhline"
   ],
   "metadata": {
    "collapsed": false,
    "pycharm": {
     "name": "#%% md\n"
    }
   }
  },
  {
   "cell_type": "code",
   "execution_count": 48,
   "outputs": [
    {
     "data": {
      "text/plain": "<matplotlib.lines.Line2D at 0x194c0f6d7f0>"
     },
     "execution_count": 48,
     "metadata": {},
     "output_type": "execute_result"
    }
   ],
   "source": [
    "fig, ax = plt.subplots()\n",
    "\n",
    "ax.set_xlim([-5, 5])\n",
    "ax.set_ylim([-5, 5])\n",
    "\n",
    "ax.axvline(x = 1, color='black', linewidth=1)"
   ],
   "metadata": {
    "collapsed": false,
    "pycharm": {
     "name": "#%%\n"
    }
   }
  },
  {
   "cell_type": "code",
   "execution_count": 49,
   "outputs": [
    {
     "data": {
      "text/plain": "<matplotlib.lines.Line2D at 0x194bcca3190>"
     },
     "execution_count": 49,
     "metadata": {},
     "output_type": "execute_result"
    }
   ],
   "source": [
    "fig, ax = plt.subplots()\n",
    "\n",
    "ax.set_xlim([-5, 5])\n",
    "ax.set_ylim([-5, 5])\n",
    "\n",
    "ax.axvline(x = 1,\n",
    "           ymax=0.8, ymin=0.2,\n",
    "           color='black', linewidth=1)"
   ],
   "metadata": {
    "collapsed": false,
    "pycharm": {
     "name": "#%%\n"
    }
   }
  },
  {
   "cell_type": "code",
   "execution_count": 50,
   "outputs": [
    {
     "data": {
      "text/plain": "<matplotlib.lines.Line2D at 0x194bc015100>"
     },
     "execution_count": 50,
     "metadata": {},
     "output_type": "execute_result"
    }
   ],
   "source": [
    "fig, ax = plt.subplots()\n",
    "\n",
    "ax.set_xlim([-5, 5])\n",
    "ax.set_ylim([-5, 5])\n",
    "\n",
    "ax.axhline(y = 1, color='black', linewidth=1)"
   ],
   "metadata": {
    "collapsed": false,
    "pycharm": {
     "name": "#%%\n"
    }
   }
  },
  {
   "cell_type": "code",
   "execution_count": 51,
   "outputs": [
    {
     "data": {
      "text/plain": "<matplotlib.lines.Line2D at 0x194c0bba5b0>"
     },
     "execution_count": 51,
     "metadata": {},
     "output_type": "execute_result"
    }
   ],
   "source": [
    "fig, ax = plt.subplots()\n",
    "\n",
    "ax.set_xlim([-5, 5])\n",
    "ax.set_ylim([-5, 5])\n",
    "\n",
    "ax.axhline(y = 1,\n",
    "           xmax=0.8, xmin=0.2,\n",
    "           color='black', linewidth=1)"
   ],
   "metadata": {
    "collapsed": false,
    "pycharm": {
     "name": "#%%\n"
    }
   }
  },
  {
   "cell_type": "code",
   "execution_count": null,
   "outputs": [],
   "source": [],
   "metadata": {
    "collapsed": false,
    "pycharm": {
     "name": "#%%\n"
    }
   }
  }
 ],
 "metadata": {
  "kernelspec": {
   "display_name": "Python 3",
   "language": "python",
   "name": "python3"
  },
  "language_info": {
   "codemirror_mode": {
    "name": "ipython",
    "version": 2
   },
   "file_extension": ".py",
   "mimetype": "text/x-python",
   "name": "python",
   "nbconvert_exporter": "python",
   "pygments_lexer": "ipython2",
   "version": "2.7.6"
  }
 },
 "nbformat": 4,
 "nbformat_minor": 0
}