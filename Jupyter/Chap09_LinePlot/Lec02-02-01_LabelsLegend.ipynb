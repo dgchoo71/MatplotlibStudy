{
 "cells": [
  {
   "cell_type": "markdown",
   "metadata": {
    "collapsed": true,
    "pycharm": {
     "name": "#%% md\n"
    }
   },
   "source": [
    "## Labels and Legend"
   ]
  },
  {
   "cell_type": "markdown",
   "source": [
    "### Basic Usage"
   ],
   "metadata": {
    "collapsed": false,
    "pycharm": {
     "name": "#%% md\n"
    }
   }
  },
  {
   "cell_type": "code",
   "execution_count": 1,
   "outputs": [],
   "source": [
    "%matplotlib qt"
   ],
   "metadata": {
    "collapsed": false,
    "pycharm": {
     "name": "#%%\n"
    }
   }
  },
  {
   "cell_type": "code",
   "execution_count": 2,
   "outputs": [],
   "source": [
    "import matplotlib.pyplot as plt\n",
    "from matplotlib.figure import Figure\n",
    "from matplotlib.axes import Axes\n",
    "from matplotlib.spines import Spine\n",
    "from matplotlib import cm\n",
    "\n",
    "import numpy as np\n",
    "import numpy.typing as npt"
   ],
   "metadata": {
    "collapsed": false,
    "pycharm": {
     "name": "#%%\n"
    }
   }
  },
  {
   "cell_type": "code",
   "execution_count": 20,
   "outputs": [
    {
     "data": {
      "text/plain": "<matplotlib.legend.Legend at 0x1b396213730>"
     },
     "execution_count": 20,
     "metadata": {},
     "output_type": "execute_result"
    }
   ],
   "source": [
    "np.random.seed(0)\n",
    "\n",
    "n_data = 100\n",
    "random_noise1 = np.random.normal(loc=0, scale=1, size=(n_data,))\n",
    "random_noise2 = np.random.normal(1, 1, (n_data,))\n",
    "random_noise3 = np.random.normal(2, 1, (n_data,))\n",
    "\n",
    "fig: Figure\n",
    "ax: Axes\n",
    "fig, ax = plt.subplots(figsize=(10, 7))\n",
    "ax.tick_params(labelsize=20)\n",
    "\n",
    "# line을 그릴 때 label도 같이 지정한다.\n",
    "ax.plot(random_noise1, label='random noise1')\n",
    "ax.plot(random_noise2, label='random noise2')\n",
    "ax.plot(random_noise3, label='random noise3')\n",
    "\n",
    "# Axes의 legend를 켠다\n",
    "ax.legend(fontsize=20)"
   ],
   "metadata": {
    "collapsed": false,
    "pycharm": {
     "name": "#%%\n"
    }
   }
  },
  {
   "cell_type": "markdown",
   "source": [
    "### Legend Locations"
   ],
   "metadata": {
    "collapsed": false,
    "pycharm": {
     "name": "#%% md\n"
    }
   }
  },
  {
   "cell_type": "code",
   "execution_count": 21,
   "outputs": [
    {
     "data": {
      "text/plain": "<matplotlib.legend.Legend at 0x1b3968b5160>"
     },
     "execution_count": 21,
     "metadata": {},
     "output_type": "execute_result"
    }
   ],
   "source": [
    "np.random.seed(0)\n",
    "\n",
    "n_data = 100\n",
    "random_noise1 = np.random.normal(loc=0, scale=1, size=(n_data,))\n",
    "random_noise2 = np.random.normal(1, 1, (n_data,))\n",
    "random_noise3 = np.random.normal(2, 1, (n_data,))\n",
    "\n",
    "fig: Figure\n",
    "ax: Axes\n",
    "fig, ax = plt.subplots(figsize=(10, 7))\n",
    "ax.tick_params(labelsize=20)\n",
    "\n",
    "# line을 그릴 때 label도 같이 지정한다.\n",
    "ax.plot(random_noise1, label='random noise1')\n",
    "ax.plot(random_noise2, label='random noise2')\n",
    "ax.plot(random_noise3, label='random noise3')\n",
    "\n",
    "# Axes의 legend를 켤 때, 위치도 같이 지정\n",
    "ax.legend(fontsize=20, loc='upper right')"
   ],
   "metadata": {
    "collapsed": false,
    "pycharm": {
     "name": "#%%\n"
    }
   }
  },
  {
   "cell_type": "markdown",
   "source": [
    "### ncol argument"
   ],
   "metadata": {
    "collapsed": false,
    "pycharm": {
     "name": "#%% md\n"
    }
   }
  },
  {
   "cell_type": "code",
   "execution_count": 22,
   "outputs": [
    {
     "data": {
      "text/plain": "<matplotlib.legend.Legend at 0x1b3972d81c0>"
     },
     "execution_count": 22,
     "metadata": {},
     "output_type": "execute_result"
    }
   ],
   "source": [
    "PI = np.pi\n",
    "t = np.linspace(-4 * PI, 4 * PI, 300)\n",
    "sin = np.sin(t)\n",
    "\n",
    "fig, ax = plt.subplots(figsize=(7, 7))\n",
    "\n",
    "label_template = 'added by {}'\n",
    "for ax_idx in range(12):\n",
    "    ax.plot(t, sin + ax_idx, label = label_template.format(ax_idx))\n",
    "\n",
    "# ncol 옵션을 사용하지 않은 경우, 하나의 칼럼에 legend가 출력된다.\n",
    "ax.legend(fontsize=15)"
   ],
   "metadata": {
    "collapsed": false,
    "pycharm": {
     "name": "#%%\n"
    }
   }
  },
  {
   "cell_type": "code",
   "execution_count": 23,
   "outputs": [
    {
     "data": {
      "text/plain": "<matplotlib.legend.Legend at 0x1b39737e700>"
     },
     "execution_count": 23,
     "metadata": {},
     "output_type": "execute_result"
    }
   ],
   "source": [
    "PI = np.pi\n",
    "t = np.linspace(-4 * PI, 4 * PI, 300)\n",
    "sin = np.sin(t)\n",
    "\n",
    "fig, ax = plt.subplots(figsize=(7, 7))\n",
    "\n",
    "label_template = 'added by {}'\n",
    "for ax_idx in range(12):\n",
    "    ax.plot(t, sin + ax_idx, label = label_template.format(ax_idx))\n",
    "\n",
    "ax.legend(fontsize=15, ncol=2)"
   ],
   "metadata": {
    "collapsed": false,
    "pycharm": {
     "name": "#%%\n"
    }
   }
  },
  {
   "cell_type": "code",
   "execution_count": 24,
   "outputs": [
    {
     "data": {
      "text/plain": "<matplotlib.legend.Legend at 0x1b397c07eb0>"
     },
     "execution_count": 24,
     "metadata": {},
     "output_type": "execute_result"
    }
   ],
   "source": [
    "PI = np.pi\n",
    "t = np.linspace(-4 * PI, 4 * PI, 300)\n",
    "sin = np.sin(t)\n",
    "\n",
    "fig, ax = plt.subplots(figsize=(7, 7))\n",
    "\n",
    "label_template = 'added by {}'\n",
    "for ax_idx in range(12):\n",
    "    ax.plot(t, sin + ax_idx, label = label_template.format(ax_idx))\n",
    "\n",
    "ax.legend(fontsize=10, ncol=3)"
   ],
   "metadata": {
    "collapsed": false,
    "pycharm": {
     "name": "#%%\n"
    }
   }
  },
  {
   "cell_type": "markdown",
   "source": [
    "### bbox_to_anchor Argument"
   ],
   "metadata": {
    "collapsed": false,
    "pycharm": {
     "name": "#%% md\n"
    }
   }
  },
  {
   "cell_type": "code",
   "execution_count": 25,
   "outputs": [],
   "source": [
    "np.random.seed(0)\n",
    "\n",
    "n_data = 100\n",
    "random_noise1 = np.random.normal(loc=0, scale=1, size=(n_data,))\n",
    "random_noise2 = np.random.normal(1, 1, (n_data,))\n",
    "random_noise3 = np.random.normal(2, 1, (n_data,))\n",
    "\n",
    "fig: Figure\n",
    "ax: Axes\n",
    "fig, ax = plt.subplots(figsize=(10, 7))\n",
    "ax.tick_params(labelsize=20)\n",
    "\n",
    "ax.plot(random_noise1, label='random noise1')\n",
    "ax.plot(random_noise2, label='random noise2')\n",
    "ax.plot(random_noise3, label='random noise3')\n",
    "\n",
    "ax.legend(fontsize=20, bbox_to_anchor=(1, 0.5), loc='center left')\n",
    "fig.tight_layout()"
   ],
   "metadata": {
    "collapsed": false,
    "pycharm": {
     "name": "#%%\n"
    }
   }
  },
  {
   "cell_type": "code",
   "execution_count": 26,
   "outputs": [],
   "source": [
    "np.random.seed(0)\n",
    "\n",
    "n_data = 100\n",
    "random_noise1 = np.random.normal(loc=0, scale=1, size=(n_data,))\n",
    "random_noise2 = np.random.normal(1, 1, (n_data,))\n",
    "random_noise3 = np.random.normal(2, 1, (n_data,))\n",
    "\n",
    "fig: Figure\n",
    "ax: Axes\n",
    "fig, ax = plt.subplots(figsize=(10, 7))\n",
    "ax.tick_params(labelsize=20)\n",
    "\n",
    "ax.plot(random_noise1, label='random noise1')\n",
    "ax.plot(random_noise2, label='random noise2')\n",
    "ax.plot(random_noise3, label='random noise3')\n",
    "\n",
    "ax.legend(fontsize=20, bbox_to_anchor=(-0.1, 0.5), loc='center right')\n",
    "fig.tight_layout()"
   ],
   "metadata": {
    "collapsed": false,
    "pycharm": {
     "name": "#%%\n"
    }
   }
  },
  {
   "cell_type": "code",
   "execution_count": 27,
   "outputs": [],
   "source": [
    "np.random.seed(0)\n",
    "\n",
    "n_data = 100\n",
    "random_noise1 = np.random.normal(loc=0, scale=1, size=(n_data,))\n",
    "random_noise2 = np.random.normal(1, 1, (n_data,))\n",
    "random_noise3 = np.random.normal(2, 1, (n_data,))\n",
    "\n",
    "fig: Figure\n",
    "ax: Axes\n",
    "fig, ax = plt.subplots(figsize=(10, 7))\n",
    "ax.tick_params(labelsize=20)\n",
    "\n",
    "ax.plot(random_noise1, label='random noise1')\n",
    "ax.plot(random_noise2, label='random noise2')\n",
    "ax.plot(random_noise3, label='random noise3')\n",
    "\n",
    "ax.legend(fontsize=20, bbox_to_anchor=(0.5, 1), loc='lower center')\n",
    "fig.tight_layout()"
   ],
   "metadata": {
    "collapsed": false,
    "pycharm": {
     "name": "#%%\n"
    }
   }
  },
  {
   "cell_type": "code",
   "execution_count": 28,
   "outputs": [],
   "source": [
    "np.random.seed(0)\n",
    "\n",
    "n_data = 100\n",
    "random_noise1 = np.random.normal(loc=0, scale=1, size=(n_data,))\n",
    "random_noise2 = np.random.normal(1, 1, (n_data,))\n",
    "random_noise3 = np.random.normal(2, 1, (n_data,))\n",
    "\n",
    "fig: Figure\n",
    "ax: Axes\n",
    "fig, ax = plt.subplots(figsize=(10, 7))\n",
    "ax.tick_params(labelsize=20)\n",
    "\n",
    "ax.plot(random_noise1, label='random noise1')\n",
    "ax.plot(random_noise2, label='random noise2')\n",
    "ax.plot(random_noise3, label='random noise3')\n",
    "\n",
    "ax.legend(fontsize=20, bbox_to_anchor=(0.5, -0.1), loc='upper center')\n",
    "fig.tight_layout()"
   ],
   "metadata": {
    "collapsed": false,
    "pycharm": {
     "name": "#%%\n"
    }
   }
  },
  {
   "cell_type": "code",
   "execution_count": 29,
   "outputs": [],
   "source": [
    "PI = np.pi\n",
    "t = np.linspace(-4 * PI, 4 * PI, 300)\n",
    "sin = np.sin(t)\n",
    "\n",
    "fig, ax = plt.subplots(figsize=(7, 7))\n",
    "\n",
    "label_template = 'added by {}'\n",
    "for ax_idx in range(12):\n",
    "    ax.plot(t, sin + ax_idx, label = label_template.format(ax_idx))\n",
    "\n",
    "ax.legend(fontsize=10, ncol=4, bbox_to_anchor=(0.5, -0.05), loc='upper center')\n",
    "fig.tight_layout()"
   ],
   "metadata": {
    "collapsed": false,
    "pycharm": {
     "name": "#%%\n"
    }
   }
  }
 ],
 "metadata": {
  "kernelspec": {
   "display_name": "Python 3",
   "language": "python",
   "name": "python3"
  },
  "language_info": {
   "codemirror_mode": {
    "name": "ipython",
    "version": 2
   },
   "file_extension": ".py",
   "mimetype": "text/x-python",
   "name": "python",
   "nbconvert_exporter": "python",
   "pygments_lexer": "ipython2",
   "version": "2.7.6"
  }
 },
 "nbformat": 4,
 "nbformat_minor": 0
}