{
 "cells": [
  {
   "cell_type": "code",
   "execution_count": 4,
   "outputs": [],
   "source": [
    "%matplotlib qt"
   ],
   "metadata": {
    "collapsed": false,
    "pycharm": {
     "name": "#%%\n"
    }
   }
  },
  {
   "cell_type": "code",
   "execution_count": 2,
   "outputs": [],
   "source": [
    "import matplotlib.pyplot as plt\n",
    "from matplotlib.figure import Figure\n",
    "from matplotlib.axes import Axes\n",
    "from matplotlib.spines import Spine\n",
    "from matplotlib import cm\n",
    "\n",
    "import numpy as np\n",
    "import numpy.typing as npt"
   ],
   "metadata": {
    "collapsed": false,
    "pycharm": {
     "name": "#%%\n"
    }
   }
  },
  {
   "cell_type": "markdown",
   "source": [
    "### Exercise 1"
   ],
   "metadata": {
    "collapsed": false
   }
  },
  {
   "cell_type": "code",
   "execution_count": 11,
   "outputs": [],
   "source": [
    "# rcParam setting\n",
    "plt.rcParams['lines.linewidth'] = 2\n",
    "\n",
    "# data setting\n",
    "x_loc = np.linspace(2.5, 20, 8)\n",
    "data = np.array([[30, 37, 40, 46.5, 46.5, 46, 45.5, 45],\n",
    "                 [47.5, 48, 47.6, 47.3, 47, 46.6, 46.3, 46],\n",
    "                 [52, 52.5, 53, 53, 53, 53, 53, 53],\n",
    "                 [60.5, 61, 60.5, 60, 59.8, 59.6, 59.4, 59.2]])\n",
    "\n",
    "name_list = [f'Part {i}' for i in range(4)]\n",
    "\n",
    "# customizing setting\n",
    "color_list = ['tab:blue', 'tab:red', 'tab:green', 'tab:orange']\n",
    "\n",
    "# plotting\n",
    "fig: Figure\n",
    "ax: Axes\n",
    "fig, ax = plt.subplots(figsize=(10, 7))\n",
    "for line_idx in range(len(name_list)):\n",
    "    ax.plot(x_loc, data[line_idx],\n",
    "            color=color_list[line_idx],\n",
    "            label=name_list[line_idx])\n",
    "\n",
    "# customizing\n",
    "ax.set_ylim([28, 62])\n",
    "ax.set_title('IoU over number of experts', fontsize=15)\n",
    "ax.legend(loc='lower right', fontsize=15)\n",
    "ax.tick_params(labelsize=15)"
   ],
   "metadata": {
    "collapsed": false,
    "pycharm": {
     "name": "#%%\n"
    }
   }
  },
  {
   "cell_type": "markdown",
   "source": [
    "### Exercise 2"
   ],
   "metadata": {
    "collapsed": false,
    "pycharm": {
     "name": "#%% md\n"
    }
   }
  },
  {
   "cell_type": "code",
   "execution_count": 12,
   "outputs": [],
   "source": [
    "# rcParams setting\n",
    "plt.style.use('seaborn')\n",
    "plt.rcParams['lines.linewidth'] = 4\n",
    "\n",
    "# data setting\n",
    "msr_x = np.linspace(0, 2E5, 10)\n",
    "msr_y = np.linspace(0, 8E5, 10)\n",
    "\n",
    "vatex_x = np.linspace(0, 4.1E5, 20)\n",
    "vatex_en_y = np.linspace(0, 29E5, 20)\n",
    "vatex_zh_y = np.linspace(0, 28E5, 20)\n",
    "\n",
    "# plotting\n",
    "fig, ax = plt.subplots(figsize=(8, 8))\n",
    "\n",
    "ax.plot(vatex_x, vatex_en_y, color='g', label='VATEX-en')\n",
    "ax.plot(vatex_x, vatex_zh_y, linestyle='--', color='b', label='VATEX-zh')\n",
    "ax.plot(msr_x, msr_y, linestyle='-.', color='r', label='MSR-VTT')\n",
    "\n",
    "# axis customizing\n",
    "ax.set_ylim([-1E5, 3E6])\n",
    "ax.set_yticks(np.linspace(0, 25E5, 6))\n",
    "\n",
    "# tick & grid customizing\n",
    "ax.ticklabel_format(axis='both', style='plain')\n",
    "ax.tick_params(labelsize=15)\n",
    "ax.grid(linewidth=2)\n",
    "\n",
    "# legend customizing\n",
    "ax.legend(loc='lower right', fontsize=15)\n",
    "\n",
    "# label customizing\n",
    "ax.set_xlabel('number of captions', fontsize=20)\n",
    "ax.set_ylabel('number of types', fontsize=20)\n",
    "\n",
    "fig.tight_layout()"
   ],
   "metadata": {
    "collapsed": false,
    "pycharm": {
     "name": "#%%\n"
    }
   }
  },
  {
   "cell_type": "markdown",
   "source": [
    "### Exercise 3"
   ],
   "metadata": {
    "collapsed": false,
    "pycharm": {
     "name": "#%% md\n"
    }
   }
  },
  {
   "cell_type": "code",
   "source": [
    "plt.style.use('default')\n",
    "\n",
    "# rcParams setting\n",
    "plt.rcParams['font.family'] = 'serif'\n",
    "\n",
    "# data setting\n",
    "data_dict_list = []\n",
    "data_dict1 = {'DF':[90, 99, 100, 100, 100],\n",
    "              'F2F':[77, 98, 99, 100, 100],\n",
    "              'FS':[91,96,98,99,100],\n",
    "              'NT':[94,95,97,98,100],\n",
    "              'All':[93,94,96,97,100]}\n",
    "data_dict_list.append(data_dict1)\n",
    "\n",
    "data_dict2 = {'DF':[77, 91, 95, 98, 99],\n",
    "              'F2F':[60, 91, 95, 98, 99],\n",
    "              'FS':[81, 91, 95, 98, 99],\n",
    "              'NT':[77, 85, 90, 92, 95],\n",
    "              'All':[68, 82, 88, 92, 96]}\n",
    "data_dict_list.append(data_dict2)\n",
    "\n",
    "data_dict3 = {'DF':[66, 76, 83, 91, 94],\n",
    "              'F2F':[55, 67, 72, 88, 91],\n",
    "              'FS':[60, 75, 80, 88, 91],\n",
    "              'NT':[66, 71, 72, 80, 82],\n",
    "              'All':[60, 66, 67, 77, 81]}\n",
    "data_dict_list.append(data_dict3)\n",
    "\n",
    "line_name_list = ['Deepfakes', 'Face2Face', 'FaceSwap', 'NeuralTextures', 'All']\n",
    "ylabel_list = ['Accuracy Raw', 'Accuracy HQ', 'Accuracy LQ']\n",
    "\n",
    "# font dict and color setting\n",
    "label_dict = {'weight': 'bold', 'size': 20}\n",
    "tick_dict = {'weight': 'semibold', 'size': 15}\n",
    "color_list = ['royalblue', 'darkorange', 'gray', 'cornflowerblue', 'gold']\n",
    "\n",
    "# tick and ticklabel setting\n",
    "x_ticks = [i for i in range(5)]\n",
    "y_ticks = [i for i in range(50, 101, 10)]\n",
    "x_ticklabels = [10, 50, 100, 300, 1000]\n",
    "\n",
    "fig: Figure\n",
    "axes: npt.NDArray[Axes]\n",
    "fig, axes = plt.subplots(nrows=3, ncols=1, figsize=(9, 9))\n",
    "ax: Axes\n",
    "for ax_idx, ax in enumerate(axes.flat):\n",
    "    # axes limt customizing\n",
    "    ax.set_ylim([49, 100])\n",
    "\n",
    "    # tick & ticklabel customizing\n",
    "    ax.set_xticks(x_ticks)\n",
    "    ax.set_xticklabels(x_ticklabels)\n",
    "    ax.set_yticks(y_ticks)\n",
    "\n",
    "    ax.set_ylabel(ylabel_list[ax_idx], fontsize=15)\n",
    "    ax.tick_params(labelsize=10, left=False, bottom=False)\n",
    "\n",
    "    # plotting\n",
    "    data = data_dict_list[ax_idx]\n",
    "    for line_idx, (line_k, line_v) in enumerate(data.items()):\n",
    "        ax.plot(x_ticks, line_v,\n",
    "                color=color_list[line_idx],\n",
    "                label=line_name_list[line_idx])\n",
    "\n",
    "    # hid all spines\n",
    "    spine: Spine\n",
    "    for spine in ax.spines.values():\n",
    "        spine.set_visible(False)\n",
    "\n",
    "    # set grid customizing\n",
    "    ax.grid(axis='y')\n",
    "    ax.grid(axis='x', linewidth=0)\n",
    "\n",
    "# label and legend customizing\n",
    "ax: Axes = axes[-1]\n",
    "ax.set_xlabel('Number of videos', fontsize=15)\n",
    "ax.legend(bbox_to_anchor=(0.5, -0.2),\n",
    "          loc='upper center',\n",
    "          fontsize=10,\n",
    "          ncol=len(line_name_list),\n",
    "          edgecolor='white')\n",
    "\n",
    "# axis adjustment customizing\n",
    "fig.subplots_adjust(hspace=0.3)"
   ],
   "metadata": {
    "collapsed": false,
    "pycharm": {
     "name": "#%%\n"
    }
   },
   "execution_count": null,
   "outputs": []
  },
  {
   "cell_type": "markdown",
   "source": [
    "### Exersise 4"
   ],
   "metadata": {
    "collapsed": false,
    "pycharm": {
     "name": "#%% md\n"
    }
   }
  },
  {
   "cell_type": "code",
   "execution_count": 55,
   "outputs": [
    {
     "data": {
      "text/plain": "Text(0, 0.5, 'Rank-1 Accuracy')"
     },
     "execution_count": 55,
     "metadata": {},
     "output_type": "execute_result"
    }
   ],
   "source": [
    "# data setting\n",
    "data1 = [0.926, 0.975, 0.988, 0.985, 0.979]\n",
    "\n",
    "# plotting\n",
    "fig, ax = plt.subplots(figsize=(10, 10))\n",
    "ax.set_ylim([0.92, 0.99])\n",
    "ax.plot(data1,'s',c ='red', markersize=10)\n",
    "\n",
    "# tick & ticklabel setting\n",
    "xticks = [t for t in range(5)]\n",
    "xtick_labels = [r'$1^{st}$ ' + 'Resblocks' + '\\n56x56x256xN',\n",
    "                r'$2^{st}$ ' + 'Resblocks' + '\\n28x28x5125xN',\n",
    "                r'$3^{st}$ ' + 'Resblocks' + '\\n14x14x1024xN',\n",
    "                r'$4^{st}$ ' + 'Resblocks' + '\\n7x7x2048xN',\n",
    "                'Global Pool' + '\\n1x1x2048xN']\n",
    "major_yticks = np.linspace(0.92, 0.98, 4)\n",
    "minor_yticks = np.linspace(0.92, 0.99, 8)\n",
    "\n",
    "# tick & ticklabel customizing\n",
    "ax.set_xticks(xticks)\n",
    "ax.set_xticklabels(xtick_labels, ha='left')\n",
    "\n",
    "ax.set_yticks(major_yticks)\n",
    "ax.set_yticks(minor_yticks, minor=True)\n",
    "\n",
    "ax.tick_params(axis='y', labelsize=20)\n",
    "ax.tick_params(axis='x', labelsize=15)\n",
    "ax.tick_params(which='major', length=7, width=1.5, direction='in',\n",
    "               right=True, top=True)\n",
    "ax.tick_params(which='minor', length=4, width=1.5, direction='in',\n",
    "               right=True)\n",
    "\n",
    "# grid and label customizing\n",
    "ax.grid(linestyle=':')\n",
    "ax.set_ylabel('Rank-1 Accuracy', fontsize=20)"
   ],
   "metadata": {
    "collapsed": false,
    "pycharm": {
     "name": "#%%\n"
    }
   }
  },
  {
   "cell_type": "markdown",
   "source": [
    "### Exercise 5"
   ],
   "metadata": {
    "collapsed": false,
    "pycharm": {
     "name": "#%% md\n"
    }
   }
  },
  {
   "cell_type": "code",
   "execution_count": 63,
   "outputs": [],
   "source": [
    "# data setting\n",
    "name_list = ['PL', 'NL', 'NL-<SeINL', 'NL->SeINL->SeIPL']\n",
    "\n",
    "x_data = np.linspace(0.5, 1, 30)\n",
    "y_data = np.empty(shape=(0, len(x_data)))   # 빈 2차원 배열로 정의\n",
    "gamma_list = [6, 7, 8, 12]\n",
    "\n",
    "for i in range(len(gamma_list)):\n",
    "    y: np.ndarray = (-0.5) * np.power(x_data, gamma_list[i]) + 1\n",
    "    y = y.reshape(1, len(x_data))\n",
    "\n",
    "    y_data = np.vstack((y_data, y))\n",
    "\n",
    "# plotting\n",
    "fig, ax = plt.subplots(figsize=(9, 9))\n",
    "\n",
    "for i in range(len(name_list)):\n",
    "    ax.plot(x_data, y_data[i],\n",
    "            label=name_list[i],\n",
    "            marker='o',\n",
    "            markersize=10)\n",
    "\n",
    "# spine customizing\n",
    "spine: Spine\n",
    "for spine in ax.spines.values():\n",
    "    spine.set_linewidth(3)\n",
    "    spine.set_alpha(0.5)\n",
    "\n",
    "# axis limit customizing\n",
    "ax.set_xlim([0.5, 1.0])\n",
    "ax.set_ylim([0.5, 1.0])\n",
    "\n",
    "# legend customizing\n",
    "ax.legend(loc='lower left', fontsize=17)\n",
    "\n",
    "# tick & ticklabel customizing\n",
    "tick_dict = {'size': 15}\n",
    "ticks = [round(0.1 * i, 1) for i in range(5, 11)]\n",
    "\n",
    "ax.set_xticks(ticks)\n",
    "ax.set_xticklabels(ticks, fontdict=tick_dict)\n",
    "\n",
    "ax.set_yticks(ticks)\n",
    "ax.set_yticklabels(ticks, fontdict=tick_dict)\n",
    "\n",
    "# label customizing\n",
    "label_dict = {'size': 20}\n",
    "ax.set_xlabel('recall', fontdict=label_dict)\n",
    "ax.set_ylabel('precision', fontdict=label_dict)\n",
    "\n",
    "# grid customizing\n",
    "ax.grid(linewidth=3, alpha=0.5)"
   ],
   "metadata": {
    "collapsed": false,
    "pycharm": {
     "name": "#%%\n"
    }
   }
  },
  {
   "cell_type": "markdown",
   "source": [
    "### Exercise 6"
   ],
   "metadata": {
    "collapsed": false,
    "pycharm": {
     "name": "#%% md\n"
    }
   }
  },
  {
   "cell_type": "code",
   "execution_count": 10,
   "outputs": [],
   "source": [
    "# data setting\n",
    "data = [\n",
    "    dict(label='filter/natural test',\n",
    "         values=[50, 65, 70, 75, 76],\n",
    "         marker='v', linecolor='r', linestyle='-'),\n",
    "    dict(label='column/natural test',\n",
    "         values=[61, 68, 70, 74, 76],\n",
    "         marker='^', linecolor='g', linestyle='-'),\n",
    "    dict(label='irregular/natural test',\n",
    "         values=[76, 78, 77, 78, 76],\n",
    "         marker='s', linecolor='c', linestyle='-'),\n",
    "    dict(label='filter/adversarial test',\n",
    "         values=[34, 38, 41, 42, 43],\n",
    "         marker='o', linecolor='r', linestyle='--'),\n",
    "    dict(label='column/adversarial test',\n",
    "         values=[36, 40, 42, 43, 43],\n",
    "         marker='+', linecolor='g', linestyle='--'),\n",
    "    dict(label='irregular/adversarial test',\n",
    "         values=[42, 41, 44, 44, 43],\n",
    "         marker='x', linecolor='c', linestyle='--')\n",
    "]\n",
    "\n",
    "x_loc = [2 ** i for i in range(5)]\n",
    "\n",
    "# plotting\n",
    "fig: Figure\n",
    "ax: Axes\n",
    "fig, ax = plt.subplots(figsize=(15, 9))\n",
    "ax.set_xscale('log', base=2)\n",
    "\n",
    "for data_idx, data_dict in enumerate(data):\n",
    "    ax.plot(x_loc,\n",
    "            data_dict['values'],\n",
    "            color=data_dict['linecolor'],\n",
    "            linewidth=2,\n",
    "            marker=data_dict['marker'],\n",
    "            markersize=15,\n",
    "            linestyle=data_dict['linestyle'],\n",
    "            label=data_dict['label'])\n",
    "\n",
    "# legend 위치 및 설정\n",
    "ax.legend(loc='lower center',\n",
    "          bbox_to_anchor=(0.5, 0),\n",
    "          ncol=2,\n",
    "          fontsize=25)\n",
    "\n",
    "# spine 설정\n",
    "spine: Spine\n",
    "for spine_idx, spine in enumerate(ax.spines.values()):\n",
    "    spine.set_linewidth(3)\n",
    "\n",
    "# tick * ticklabel 설정\n",
    "x_ticks = [2 ** i for i in range(5)]\n",
    "x_ticklabels = x_ticks\n",
    "y_ticks = [20 * i for i in range(6)]\n",
    "y_ticklabels = y_ticks\n",
    "\n",
    "ax.set_xticks(x_ticks)\n",
    "ax.set_xticklabels(x_ticklabels, fontsize=30)\n",
    "\n",
    "ax.set_yticks(y_ticks)\n",
    "ax.set_yticklabels(y_ticklabels, fontsize=30)\n",
    "\n",
    "ax.set_ylim((0, 100))\n",
    "\n",
    "# 축의 label 설정\n",
    "label_dict = {'size': 40}\n",
    "ax.set_xlabel('w', fontdict=label_dict)\n",
    "ax.set_ylabel('Accuracy (%)', fontdict=label_dict)\n",
    "\n",
    "fig.tight_layout()"
   ],
   "metadata": {
    "collapsed": false,
    "pycharm": {
     "name": "#%%\n"
    }
   }
  },
  {
   "cell_type": "markdown",
   "source": [
    "### Exercise 7"
   ],
   "metadata": {
    "collapsed": false,
    "pycharm": {
     "name": "#%% md\n"
    }
   }
  },
  {
   "cell_type": "code",
   "execution_count": 12,
   "outputs": [],
   "source": [
    "# data setting\n",
    "data = [2, 6, 7, 15, 5.5, 8.5, 8, 12, 20, 15, 0.2]\n",
    "\n",
    "fig: Figure\n",
    "ax: Axes\n",
    "fig, ax = plt.subplots(figsize=(13, 9))\n",
    "\n",
    "# 축 설정\n",
    "ax.set_yscale('log')\n",
    "ax.set_xlim([0, 12])\n",
    "ax.set_ylim([0.1, 50])\n",
    "\n",
    "# tick과 ticklabel 설정\n",
    "major_yticks = [1, 10]\n",
    "minor_yticks = [j * 10 ** i for i in range(-1, -1 + 3) for j in range(1, 1 + 9)]\n",
    "major_xticks = [i for i in range(1, 12)]\n",
    "\n",
    "ax.set_yticks(major_yticks)\n",
    "ax.set_yticks(minor_yticks, minor=True)\n",
    "ax.set_xticks(major_xticks)\n",
    "\n",
    "ax.tick_params(labelsize=15, direction='in', length=15)\n",
    "ax.tick_params(which='minor',\n",
    "               labelsize=0, direction='in', length=3)\n",
    "\n",
    "# grid 설정\n",
    "ax.grid(which='both')\n",
    "\n",
    "# plotting\n",
    "ax.plot(major_xticks, data,\n",
    "        color='black',\n",
    "        marker='o',\n",
    "        label='ResNet20 on CIFAR-10',\n",
    "        linewidth=3,\n",
    "        markersize=10)\n",
    "\n",
    "# legend 설정\n",
    "# legend의 박스 색상과 경계를 흰색으로 설정한다\n",
    "ax.legend(loc='upper right',\n",
    "          fontsize=20,\n",
    "          edgecolor='white',\n",
    "          facecolor='white')\n",
    "\n",
    "# label 설정\n",
    "# label에 latex 문자열을 사용할 수 있다.\n",
    "ax.set_xlabel('Blocks' + r'$\\rightarrow$', fontsize=20)\n",
    "ax.set_ylabel(r'Toip Hessian Eigenvalue $\\rightarrow$', fontsize=20)\n",
    "\n",
    "fig.tight_layout()"
   ],
   "metadata": {
    "collapsed": false,
    "pycharm": {
     "name": "#%%\n"
    }
   }
  },
  {
   "cell_type": "markdown",
   "source": [
    "### Exercise 8"
   ],
   "metadata": {
    "collapsed": false,
    "pycharm": {
     "name": "#%% md\n"
    }
   }
  },
  {
   "cell_type": "code",
   "execution_count": 13,
   "outputs": [],
   "source": [
    "# 데이터 준비\n",
    "data_loc = [46, 58, 65, 73, 80, 92, 96, 98]\n",
    "supervised_data = [60, 65, 63, 80, 68, 70, 78, 85]\n",
    "supervised_top_data = [98, 110, 90, 150, 125, 120, 130, 140]\n",
    "supervised_bottom_data = [40, 30, 45, 30, 40, 40, 40, 40]\n",
    "distilled_data = [25, 26, 15, 30, 24, 44, 49, 51]\n",
    "distilled_top_data = [48, 55, 41, 48, 44, 55, 52, 86]\n",
    "distilled_bottom_data = [5, 0, 7.5, 15, 10, 0, 20, 17]\n",
    "\n",
    "# plotting\n",
    "fig: Figure\n",
    "ax: Axes\n",
    "fig, ax = plt.subplots(figsize=(13, 9))\n",
    "\n",
    "# 두 데이터 라인 사이을 채우기\n",
    "ax.fill_between(data_loc,\n",
    "                y1=supervised_top_data,\n",
    "                y2=supervised_bottom_data,\n",
    "                color='dodgerblue',\n",
    "                alpha=0.4)\n",
    "\n",
    "ax.fill_between(data_loc,\n",
    "                y1=distilled_top_data,\n",
    "                y2=distilled_bottom_data,\n",
    "                color='peachpuff',\n",
    "                alpha=1)\n",
    "\n",
    "# 라인 그래프 그리기\n",
    "ax.plot(data_loc, supervised_data,\n",
    "        marker='x',\n",
    "        color='dodgerblue',\n",
    "        linewidth=3,\n",
    "        markersize=15,\n",
    "        label='Supervised Student')\n",
    "\n",
    "ax.plot(data_loc, distilled_data,\n",
    "        marker='o',\n",
    "        markersize=15,\n",
    "        markerfacecolor='peachpuff',\n",
    "        markeredgewidth=3,\n",
    "        color='darkorange',\n",
    "        label='Distilled Student')\n",
    "\n",
    "ax.axhline(y=25,\n",
    "           color='black',\n",
    "           linestyle='--',\n",
    "           linewidth=3,\n",
    "           label='Supervised Teacher')\n",
    "\n",
    "# 축 설정\n",
    "ax.set_xlim([45, 100])\n",
    "ax.set_ylim([0, 200])\n",
    "\n",
    "# spine 설정\n",
    "spine: Spine\n",
    "for spine_loc, spine in ax.spines.items():\n",
    "    if spine_loc in ['right', 'top']:\n",
    "        spine.set_visible(False)\n",
    "\n",
    "    if spine_loc in ['left', 'bottom']:\n",
    "        spine.set_linewidth(1.8)\n",
    "\n",
    "# tick과 tick label 설정\n",
    "x_ticks = np.arange(50, 91, 10)\n",
    "y_ticks = np.arange(0, 201, 50)\n",
    "\n",
    "ax.set_xticks(x_ticks)\n",
    "ax.set_yticks(y_ticks)\n",
    "\n",
    "ax.tick_params(direction='in',\n",
    "               length=5,\n",
    "               width=1.8,\n",
    "               labelsize=25)\n",
    "\n",
    "# legend 설정\n",
    "ax.legend(loc='upper left',\n",
    "          fontsize=20)\n",
    "\n",
    "# 축의 label 설정\n",
    "label_font_dict = {'size': 30}\n",
    "ax.set_xlabel('Distillation Rate (%)', fontdict=label_font_dict)\n",
    "ax.set_ylabel('RMS Absolute Pose Errors (m)', fontdict=label_font_dict)\n",
    "\n",
    "fig.tight_layout()"
   ],
   "metadata": {
    "collapsed": false,
    "pycharm": {
     "name": "#%%\n"
    }
   }
  }
 ],
 "metadata": {
  "kernelspec": {
   "display_name": "Python 3",
   "language": "python",
   "name": "python3"
  },
  "language_info": {
   "codemirror_mode": {
    "name": "ipython",
    "version": 2
   },
   "file_extension": ".py",
   "mimetype": "text/x-python",
   "name": "python",
   "nbconvert_exporter": "python",
   "pygments_lexer": "ipython2",
   "version": "2.7.6"
  }
 },
 "nbformat": 4,
 "nbformat_minor": 0
}