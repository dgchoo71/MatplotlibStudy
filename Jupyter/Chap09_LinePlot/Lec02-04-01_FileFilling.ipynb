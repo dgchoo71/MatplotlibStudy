{
 "cells": [
  {
   "cell_type": "code",
   "execution_count": 1,
   "metadata": {
    "collapsed": true
   },
   "outputs": [],
   "source": [
    "%matplotlib qt"
   ]
  },
  {
   "cell_type": "markdown",
   "source": [
    "## Line Filling"
   ],
   "metadata": {
    "collapsed": false,
    "pycharm": {
     "name": "#%% md\n"
    }
   }
  },
  {
   "cell_type": "markdown",
   "source": [
    "### fill_between Basic Usage"
   ],
   "metadata": {
    "collapsed": false,
    "pycharm": {
     "name": "#%% md\n"
    }
   }
  },
  {
   "cell_type": "code",
   "execution_count": 2,
   "outputs": [],
   "source": [
    "import matplotlib.pyplot as plt\n",
    "from matplotlib.figure import Figure\n",
    "from matplotlib.axes import Axes\n",
    "from matplotlib.spines import Spine\n",
    "from matplotlib import cm\n",
    "\n",
    "import numpy as np\n",
    "import numpy.typing as npt"
   ],
   "metadata": {
    "collapsed": false,
    "pycharm": {
     "name": "#%%\n"
    }
   }
  },
  {
   "cell_type": "code",
   "execution_count": 18,
   "outputs": [
    {
     "data": {
      "text/plain": "<matplotlib.collections.PolyCollection at 0x1f8f493a610>"
     },
     "execution_count": 18,
     "metadata": {},
     "output_type": "execute_result"
    }
   ],
   "source": [
    "PI = np.pi\n",
    "t = np.linspace(-4 * PI, 4 * PI, 200)\n",
    "sin = np.sin(t)\n",
    "\n",
    "fig: Figure\n",
    "ax: Axes\n",
    "fig, ax = plt.subplots(figsize=(10, 7))\n",
    "ax.plot(t, sin, color='black')\n",
    "ax.axhline(0, color='black')\n",
    "\n",
    "# 두 선분 사이를 색칠하기\n",
    "ax.fill_between(x=t, y1=sin)"
   ],
   "metadata": {
    "collapsed": false,
    "pycharm": {
     "name": "#%%\n"
    }
   }
  },
  {
   "cell_type": "code",
   "execution_count": 19,
   "outputs": [
    {
     "data": {
      "text/plain": "<matplotlib.collections.PolyCollection at 0x1f8f54c3eb0>"
     },
     "execution_count": 19,
     "metadata": {},
     "output_type": "execute_result"
    }
   ],
   "source": [
    "# alpha 옵션을 사용하여 색칠할 영역의 투명도를 조절할 수 있다.\n",
    "PI = np.pi\n",
    "t = np.linspace(-4 * PI, 4 * PI, 200)\n",
    "sin = np.sin(t)\n",
    "\n",
    "fig: Figure\n",
    "ax: Axes\n",
    "fig, ax = plt.subplots(figsize=(10, 7))\n",
    "ax.plot(t, sin, color='black')\n",
    "ax.axhline(0, color='black')\n",
    "\n",
    "# 두 선분 사이를 색칠하기\n",
    "ax.fill_between(x=t, y1=sin, alpha=0.3)"
   ],
   "metadata": {
    "collapsed": false,
    "pycharm": {
     "name": "#%%\n"
    }
   }
  },
  {
   "cell_type": "code",
   "execution_count": 20,
   "outputs": [
    {
     "data": {
      "text/plain": "<matplotlib.collections.PolyCollection at 0x1f8f5acb940>"
     },
     "execution_count": 20,
     "metadata": {},
     "output_type": "execute_result"
    }
   ],
   "source": [
    "# hatching 옵션을 사용하여 색칠할 영역의 패턴을 설정할 수 있다.\n",
    "PI = np.pi\n",
    "t = np.linspace(-4 * PI, 4 * PI, 200)\n",
    "sin = np.sin(t)\n",
    "\n",
    "fig: Figure\n",
    "ax: Axes\n",
    "fig, ax = plt.subplots(figsize=(10, 7))\n",
    "ax.plot(t, sin, color='black')\n",
    "ax.axhline(0, color='black')\n",
    "\n",
    "# 두 선분 사이를 색칠하기\n",
    "ax.fill_between(x=t, y1=sin, facecolor='white', hatch='/', edgecolor='b')"
   ],
   "metadata": {
    "collapsed": false,
    "pycharm": {
     "name": "#%%\n"
    }
   }
  },
  {
   "cell_type": "code",
   "execution_count": 21,
   "outputs": [
    {
     "data": {
      "text/plain": "<matplotlib.collections.PolyCollection at 0x1f8f60b4eb0>"
     },
     "execution_count": 21,
     "metadata": {},
     "output_type": "execute_result"
    }
   ],
   "source": [
    "# 두 함수 사이의 영역을 색칠할 수 있다.\n",
    "PI = np.pi\n",
    "t = np.linspace(-4 * PI, 4 * PI, 200)\n",
    "sin = np.sin(t)\n",
    "cos = np.cos(t)\n",
    "\n",
    "fig, ax = plt.subplots(figsize=(10, 7))\n",
    "ax.plot(t, sin, color='r')\n",
    "ax.plot(t, cos, color='r')\n",
    "\n",
    "ax.fill_between(x=t, y1=sin, y2=cos, alpha=0.3)"
   ],
   "metadata": {
    "collapsed": false,
    "pycharm": {
     "name": "#%%\n"
    }
   }
  },
  {
   "cell_type": "markdown",
   "source": [
    "### where 옵션"
   ],
   "metadata": {
    "collapsed": false,
    "pycharm": {
     "name": "#%% md\n"
    }
   }
  },
  {
   "cell_type": "code",
   "execution_count": 22,
   "outputs": [
    {
     "data": {
      "text/plain": "<matplotlib.collections.PolyCollection at 0x1f8f612ff10>"
     },
     "execution_count": 22,
     "metadata": {},
     "output_type": "execute_result"
    }
   ],
   "source": [
    "PI = np.pi\n",
    "t = np.linspace(-4 * PI, 4 * PI, 200)\n",
    "sin = np.sin(t)\n",
    "\n",
    "fig, ax = plt.subplots(figsize=(10, 4))\n",
    "ax.plot(t, sin, color='black')\n",
    "ax.axhline(0, color='black')\n",
    "\n",
    "ax.fill_between(t, sin, alpha=0.3,\n",
    "                where=sin>=0)\n",
    "\n",
    "ax.fill_between(t, sin, color='darkred', alpha=0.3,\n",
    "                where=sin<0)"
   ],
   "metadata": {
    "collapsed": false,
    "pycharm": {
     "name": "#%%\n"
    }
   }
  },
  {
   "cell_type": "code",
   "execution_count": 23,
   "outputs": [
    {
     "data": {
      "text/plain": "<matplotlib.collections.PolyCollection at 0x1f8f64f6c70>"
     },
     "execution_count": 23,
     "metadata": {},
     "output_type": "execute_result"
    }
   ],
   "source": [
    "# 두 함수 사이의 영역을 조건에 따라 다른 색으로 칠하기\n",
    "PI = np.pi\n",
    "t = np.linspace(-4 * PI, 4 * PI, 200)\n",
    "sin = np.sin(t)\n",
    "cos = np.cos(t)\n",
    "\n",
    "fig, ax = plt.subplots(figsize=(10, 7))\n",
    "ax.plot(t, sin, color='black')\n",
    "ax.plot(t, cos, color='black')\n",
    "\n",
    "ax.fill_between(t, sin, cos, color='darkblue', alpha=0.3,\n",
    "                where=sin>=cos)\n",
    "\n",
    "ax.fill_between(t, sin, cos, color='darkred', alpha=0.3,\n",
    "                where=sin<cos)"
   ],
   "metadata": {
    "collapsed": false,
    "pycharm": {
     "name": "#%%\n"
    }
   }
  },
  {
   "cell_type": "markdown",
   "source": [
    "### interpolate 옵션"
   ],
   "metadata": {
    "collapsed": false,
    "pycharm": {
     "name": "#%% md\n"
    }
   }
  },
  {
   "cell_type": "code",
   "execution_count": 24,
   "outputs": [
    {
     "data": {
      "text/plain": "<matplotlib.collections.PolyCollection at 0x1f8f6e3f190>"
     },
     "execution_count": 24,
     "metadata": {},
     "output_type": "execute_result"
    }
   ],
   "source": [
    "# interpolate 옵션을 사용하지 않은 경우\n",
    "np.random.seed(0)\n",
    "\n",
    "n_data = 10\n",
    "data_idx = np.arange(0, n_data)\n",
    "noise1 = np.random.normal(0, 1, (n_data,))\n",
    "noise2 = np.random.normal(0, 1, (n_data,))\n",
    "\n",
    "fig, ax = plt.subplots(figsize=(10, 4))\n",
    "ax.plot(data_idx, noise1)\n",
    "ax.plot(data_idx, noise2)\n",
    "\n",
    "ax.fill_between(data_idx, noise1, noise2, where=noise1>=noise2)"
   ],
   "metadata": {
    "collapsed": false,
    "pycharm": {
     "name": "#%%\n"
    }
   }
  },
  {
   "cell_type": "code",
   "execution_count": 25,
   "outputs": [
    {
     "data": {
      "text/plain": "<matplotlib.collections.PolyCollection at 0x1f8f71def10>"
     },
     "execution_count": 25,
     "metadata": {},
     "output_type": "execute_result"
    }
   ],
   "source": [
    "# interpolate 옵션을 사용한 경우\n",
    "np.random.seed(0)\n",
    "\n",
    "n_data = 10\n",
    "data_idx = np.arange(0, n_data)\n",
    "noise1 = np.random.normal(0, 1, (n_data,))\n",
    "noise2 = np.random.normal(0, 1, (n_data,))\n",
    "\n",
    "fig, ax = plt.subplots(figsize=(10, 4))\n",
    "ax.plot(data_idx, noise1)\n",
    "ax.plot(data_idx, noise2)\n",
    "\n",
    "ax.fill_between(data_idx, noise1, noise2, where=noise1>=noise2,\n",
    "                interpolate=True)"
   ],
   "metadata": {
    "collapsed": false,
    "pycharm": {
     "name": "#%%\n"
    }
   }
  },
  {
   "cell_type": "code",
   "execution_count": 26,
   "outputs": [
    {
     "data": {
      "text/plain": "<matplotlib.collections.PolyCollection at 0x1f8f75aa430>"
     },
     "execution_count": 26,
     "metadata": {},
     "output_type": "execute_result"
    }
   ],
   "source": [
    "# interpolate 옵션을 사용하지 않은 경우\n",
    "PI = np.pi\n",
    "t = np.linspace(-4 * PI, 4 * PI, 20)\n",
    "sin = np.sin(t)\n",
    "\n",
    "fig, ax = plt.subplots(figsize=(10, 4))\n",
    "ax.plot(t, sin, color='black')\n",
    "ax.axhline(0, color='black')\n",
    "\n",
    "ax.fill_between(t, sin, color='darkblue', alpha=0.3, where=sin>=0)\n",
    "ax.fill_between(t, sin, color='darkred', alpha=0.3, where=sin<0)"
   ],
   "metadata": {
    "collapsed": false,
    "pycharm": {
     "name": "#%%\n"
    }
   }
  },
  {
   "cell_type": "code",
   "execution_count": 27,
   "outputs": [
    {
     "data": {
      "text/plain": "<matplotlib.collections.PolyCollection at 0x1f8f7616430>"
     },
     "execution_count": 27,
     "metadata": {},
     "output_type": "execute_result"
    }
   ],
   "source": [
    "# interpolate 옵션을 사용한 경우\n",
    "PI = np.pi\n",
    "t = np.linspace(-4 * PI, 4 * PI, 20)\n",
    "sin = np.sin(t)\n",
    "\n",
    "fig, ax = plt.subplots(figsize=(10, 4))\n",
    "ax.plot(t, sin, color='black')\n",
    "ax.axhline(0, color='black')\n",
    "\n",
    "ax.fill_between(t, sin, color='darkblue', alpha=0.3, where=sin>=0,\n",
    "                interpolate=True)\n",
    "ax.fill_between(t, sin, color='darkred', alpha=0.3, where=sin<0,\n",
    "                interpolate=True)"
   ],
   "metadata": {
    "collapsed": false,
    "pycharm": {
     "name": "#%%\n"
    }
   }
  }
 ],
 "metadata": {
  "kernelspec": {
   "display_name": "Python 3",
   "language": "python",
   "name": "python3"
  },
  "language_info": {
   "codemirror_mode": {
    "name": "ipython",
    "version": 2
   },
   "file_extension": ".py",
   "mimetype": "text/x-python",
   "name": "python",
   "nbconvert_exporter": "python",
   "pygments_lexer": "ipython2",
   "version": "2.7.6"
  }
 },
 "nbformat": 4,
 "nbformat_minor": 0
}